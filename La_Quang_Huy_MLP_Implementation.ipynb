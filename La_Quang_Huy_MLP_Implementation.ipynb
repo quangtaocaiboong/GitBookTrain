{
  "cells": [
    {
      "cell_type": "markdown",
      "metadata": {
        "id": "view-in-github",
        "colab_type": "text"
      },
      "source": [
        "<a href=\"https://colab.research.google.com/github/quangtaocaiboong/GitBookTrain/blob/main/La_Quang_Huy_MLP_Implementation.ipynb\" target=\"_parent\"><img src=\"https://colab.research.google.com/assets/colab-badge.svg\" alt=\"Open In Colab\"/></a>"
      ]
    },
    {
      "cell_type": "markdown",
      "id": "6c7d6da4",
      "metadata": {
        "id": "6c7d6da4"
      },
      "source": [
        "The following additional libraries are needed to run this\n",
        "notebook. Note that running on Colab is experimental, please report a Github\n",
        "issue if you have any problem."
      ]
    },
    {
      "cell_type": "code",
      "execution_count": 1,
      "id": "afe0f0ee",
      "metadata": {
        "id": "afe0f0ee",
        "colab": {
          "base_uri": "https://localhost:8080/"
        },
        "outputId": "dae0b961-5426-4aa5-badd-505cb6bd9247",
        "collapsed": true
      },
      "outputs": [
        {
          "output_type": "stream",
          "name": "stdout",
          "text": [
            "Requirement already satisfied: d2l==1.0.3 in /usr/local/lib/python3.11/dist-packages (1.0.3)\n",
            "Requirement already satisfied: jupyter==1.0.0 in /usr/local/lib/python3.11/dist-packages (from d2l==1.0.3) (1.0.0)\n",
            "Requirement already satisfied: numpy==1.23.5 in /usr/local/lib/python3.11/dist-packages (from d2l==1.0.3) (1.23.5)\n",
            "Requirement already satisfied: matplotlib==3.7.2 in /usr/local/lib/python3.11/dist-packages (from d2l==1.0.3) (3.7.2)\n",
            "Requirement already satisfied: matplotlib-inline==0.1.6 in /usr/local/lib/python3.11/dist-packages (from d2l==1.0.3) (0.1.6)\n",
            "Requirement already satisfied: requests==2.31.0 in /usr/local/lib/python3.11/dist-packages (from d2l==1.0.3) (2.31.0)\n",
            "Requirement already satisfied: pandas==2.0.3 in /usr/local/lib/python3.11/dist-packages (from d2l==1.0.3) (2.0.3)\n",
            "Requirement already satisfied: scipy==1.10.1 in /usr/local/lib/python3.11/dist-packages (from d2l==1.0.3) (1.10.1)\n",
            "Requirement already satisfied: notebook in /usr/local/lib/python3.11/dist-packages (from jupyter==1.0.0->d2l==1.0.3) (6.5.7)\n",
            "Requirement already satisfied: qtconsole in /usr/local/lib/python3.11/dist-packages (from jupyter==1.0.0->d2l==1.0.3) (5.6.1)\n",
            "Requirement already satisfied: jupyter-console in /usr/local/lib/python3.11/dist-packages (from jupyter==1.0.0->d2l==1.0.3) (6.1.0)\n",
            "Requirement already satisfied: nbconvert in /usr/local/lib/python3.11/dist-packages (from jupyter==1.0.0->d2l==1.0.3) (7.16.6)\n",
            "Requirement already satisfied: ipykernel in /usr/local/lib/python3.11/dist-packages (from jupyter==1.0.0->d2l==1.0.3) (6.17.1)\n",
            "Requirement already satisfied: ipywidgets in /usr/local/lib/python3.11/dist-packages (from jupyter==1.0.0->d2l==1.0.3) (7.7.1)\n",
            "Requirement already satisfied: contourpy>=1.0.1 in /usr/local/lib/python3.11/dist-packages (from matplotlib==3.7.2->d2l==1.0.3) (1.3.2)\n",
            "Requirement already satisfied: cycler>=0.10 in /usr/local/lib/python3.11/dist-packages (from matplotlib==3.7.2->d2l==1.0.3) (0.12.1)\n",
            "Requirement already satisfied: fonttools>=4.22.0 in /usr/local/lib/python3.11/dist-packages (from matplotlib==3.7.2->d2l==1.0.3) (4.57.0)\n",
            "Requirement already satisfied: kiwisolver>=1.0.1 in /usr/local/lib/python3.11/dist-packages (from matplotlib==3.7.2->d2l==1.0.3) (1.4.8)\n",
            "Requirement already satisfied: packaging>=20.0 in /usr/local/lib/python3.11/dist-packages (from matplotlib==3.7.2->d2l==1.0.3) (24.2)\n",
            "Requirement already satisfied: pillow>=6.2.0 in /usr/local/lib/python3.11/dist-packages (from matplotlib==3.7.2->d2l==1.0.3) (11.2.1)\n",
            "Requirement already satisfied: pyparsing<3.1,>=2.3.1 in /usr/local/lib/python3.11/dist-packages (from matplotlib==3.7.2->d2l==1.0.3) (3.0.9)\n",
            "Requirement already satisfied: python-dateutil>=2.7 in /usr/local/lib/python3.11/dist-packages (from matplotlib==3.7.2->d2l==1.0.3) (2.9.0.post0)\n",
            "Requirement already satisfied: traitlets in /usr/local/lib/python3.11/dist-packages (from matplotlib-inline==0.1.6->d2l==1.0.3) (5.7.1)\n",
            "Requirement already satisfied: pytz>=2020.1 in /usr/local/lib/python3.11/dist-packages (from pandas==2.0.3->d2l==1.0.3) (2025.2)\n",
            "Requirement already satisfied: tzdata>=2022.1 in /usr/local/lib/python3.11/dist-packages (from pandas==2.0.3->d2l==1.0.3) (2025.2)\n",
            "Requirement already satisfied: charset-normalizer<4,>=2 in /usr/local/lib/python3.11/dist-packages (from requests==2.31.0->d2l==1.0.3) (3.4.1)\n",
            "Requirement already satisfied: idna<4,>=2.5 in /usr/local/lib/python3.11/dist-packages (from requests==2.31.0->d2l==1.0.3) (3.10)\n",
            "Requirement already satisfied: urllib3<3,>=1.21.1 in /usr/local/lib/python3.11/dist-packages (from requests==2.31.0->d2l==1.0.3) (2.4.0)\n",
            "Requirement already satisfied: certifi>=2017.4.17 in /usr/local/lib/python3.11/dist-packages (from requests==2.31.0->d2l==1.0.3) (2025.4.26)\n",
            "Requirement already satisfied: six>=1.5 in /usr/local/lib/python3.11/dist-packages (from python-dateutil>=2.7->matplotlib==3.7.2->d2l==1.0.3) (1.17.0)\n",
            "Requirement already satisfied: debugpy>=1.0 in /usr/local/lib/python3.11/dist-packages (from ipykernel->jupyter==1.0.0->d2l==1.0.3) (1.8.0)\n",
            "Requirement already satisfied: ipython>=7.23.1 in /usr/local/lib/python3.11/dist-packages (from ipykernel->jupyter==1.0.0->d2l==1.0.3) (7.34.0)\n",
            "Requirement already satisfied: jupyter-client>=6.1.12 in /usr/local/lib/python3.11/dist-packages (from ipykernel->jupyter==1.0.0->d2l==1.0.3) (6.1.12)\n",
            "Requirement already satisfied: nest-asyncio in /usr/local/lib/python3.11/dist-packages (from ipykernel->jupyter==1.0.0->d2l==1.0.3) (1.6.0)\n",
            "Requirement already satisfied: psutil in /usr/local/lib/python3.11/dist-packages (from ipykernel->jupyter==1.0.0->d2l==1.0.3) (5.9.5)\n",
            "Requirement already satisfied: pyzmq>=17 in /usr/local/lib/python3.11/dist-packages (from ipykernel->jupyter==1.0.0->d2l==1.0.3) (24.0.1)\n",
            "Requirement already satisfied: tornado>=6.1 in /usr/local/lib/python3.11/dist-packages (from ipykernel->jupyter==1.0.0->d2l==1.0.3) (6.4.2)\n",
            "Requirement already satisfied: ipython-genutils~=0.2.0 in /usr/local/lib/python3.11/dist-packages (from ipywidgets->jupyter==1.0.0->d2l==1.0.3) (0.2.0)\n",
            "Requirement already satisfied: widgetsnbextension~=3.6.0 in /usr/local/lib/python3.11/dist-packages (from ipywidgets->jupyter==1.0.0->d2l==1.0.3) (3.6.10)\n",
            "Requirement already satisfied: jupyterlab-widgets>=1.0.0 in /usr/local/lib/python3.11/dist-packages (from ipywidgets->jupyter==1.0.0->d2l==1.0.3) (3.0.14)\n",
            "Requirement already satisfied: prompt-toolkit!=3.0.0,!=3.0.1,<3.1.0,>=2.0.0 in /usr/local/lib/python3.11/dist-packages (from jupyter-console->jupyter==1.0.0->d2l==1.0.3) (3.0.51)\n",
            "Requirement already satisfied: pygments in /usr/local/lib/python3.11/dist-packages (from jupyter-console->jupyter==1.0.0->d2l==1.0.3) (2.19.1)\n",
            "Requirement already satisfied: beautifulsoup4 in /usr/local/lib/python3.11/dist-packages (from nbconvert->jupyter==1.0.0->d2l==1.0.3) (4.13.4)\n",
            "Requirement already satisfied: bleach!=5.0.0 in /usr/local/lib/python3.11/dist-packages (from bleach[css]!=5.0.0->nbconvert->jupyter==1.0.0->d2l==1.0.3) (6.2.0)\n",
            "Requirement already satisfied: defusedxml in /usr/local/lib/python3.11/dist-packages (from nbconvert->jupyter==1.0.0->d2l==1.0.3) (0.7.1)\n",
            "Requirement already satisfied: jinja2>=3.0 in /usr/local/lib/python3.11/dist-packages (from nbconvert->jupyter==1.0.0->d2l==1.0.3) (3.1.6)\n",
            "Requirement already satisfied: jupyter-core>=4.7 in /usr/local/lib/python3.11/dist-packages (from nbconvert->jupyter==1.0.0->d2l==1.0.3) (5.7.2)\n",
            "Requirement already satisfied: jupyterlab-pygments in /usr/local/lib/python3.11/dist-packages (from nbconvert->jupyter==1.0.0->d2l==1.0.3) (0.3.0)\n",
            "Requirement already satisfied: markupsafe>=2.0 in /usr/local/lib/python3.11/dist-packages (from nbconvert->jupyter==1.0.0->d2l==1.0.3) (3.0.2)\n",
            "Requirement already satisfied: mistune<4,>=2.0.3 in /usr/local/lib/python3.11/dist-packages (from nbconvert->jupyter==1.0.0->d2l==1.0.3) (3.1.3)\n",
            "Requirement already satisfied: nbclient>=0.5.0 in /usr/local/lib/python3.11/dist-packages (from nbconvert->jupyter==1.0.0->d2l==1.0.3) (0.10.2)\n",
            "Requirement already satisfied: nbformat>=5.7 in /usr/local/lib/python3.11/dist-packages (from nbconvert->jupyter==1.0.0->d2l==1.0.3) (5.10.4)\n",
            "Requirement already satisfied: pandocfilters>=1.4.1 in /usr/local/lib/python3.11/dist-packages (from nbconvert->jupyter==1.0.0->d2l==1.0.3) (1.5.1)\n",
            "Requirement already satisfied: argon2-cffi in /usr/local/lib/python3.11/dist-packages (from notebook->jupyter==1.0.0->d2l==1.0.3) (23.1.0)\n",
            "Requirement already satisfied: Send2Trash>=1.8.0 in /usr/local/lib/python3.11/dist-packages (from notebook->jupyter==1.0.0->d2l==1.0.3) (1.8.3)\n",
            "Requirement already satisfied: terminado>=0.8.3 in /usr/local/lib/python3.11/dist-packages (from notebook->jupyter==1.0.0->d2l==1.0.3) (0.18.1)\n",
            "Requirement already satisfied: prometheus-client in /usr/local/lib/python3.11/dist-packages (from notebook->jupyter==1.0.0->d2l==1.0.3) (0.21.1)\n",
            "Requirement already satisfied: nbclassic>=0.4.7 in /usr/local/lib/python3.11/dist-packages (from notebook->jupyter==1.0.0->d2l==1.0.3) (1.3.0)\n",
            "Requirement already satisfied: qtpy>=2.4.0 in /usr/local/lib/python3.11/dist-packages (from qtconsole->jupyter==1.0.0->d2l==1.0.3) (2.4.3)\n",
            "Requirement already satisfied: webencodings in /usr/local/lib/python3.11/dist-packages (from bleach!=5.0.0->bleach[css]!=5.0.0->nbconvert->jupyter==1.0.0->d2l==1.0.3) (0.5.1)\n",
            "Requirement already satisfied: tinycss2<1.5,>=1.1.0 in /usr/local/lib/python3.11/dist-packages (from bleach[css]!=5.0.0->nbconvert->jupyter==1.0.0->d2l==1.0.3) (1.4.0)\n",
            "Requirement already satisfied: setuptools>=18.5 in /usr/local/lib/python3.11/dist-packages (from ipython>=7.23.1->ipykernel->jupyter==1.0.0->d2l==1.0.3) (75.2.0)\n",
            "Requirement already satisfied: jedi>=0.16 in /usr/local/lib/python3.11/dist-packages (from ipython>=7.23.1->ipykernel->jupyter==1.0.0->d2l==1.0.3) (0.19.2)\n",
            "Requirement already satisfied: decorator in /usr/local/lib/python3.11/dist-packages (from ipython>=7.23.1->ipykernel->jupyter==1.0.0->d2l==1.0.3) (4.4.2)\n",
            "Requirement already satisfied: pickleshare in /usr/local/lib/python3.11/dist-packages (from ipython>=7.23.1->ipykernel->jupyter==1.0.0->d2l==1.0.3) (0.7.5)\n",
            "Requirement already satisfied: backcall in /usr/local/lib/python3.11/dist-packages (from ipython>=7.23.1->ipykernel->jupyter==1.0.0->d2l==1.0.3) (0.2.0)\n",
            "Requirement already satisfied: pexpect>4.3 in /usr/local/lib/python3.11/dist-packages (from ipython>=7.23.1->ipykernel->jupyter==1.0.0->d2l==1.0.3) (4.9.0)\n",
            "Requirement already satisfied: platformdirs>=2.5 in /usr/local/lib/python3.11/dist-packages (from jupyter-core>=4.7->nbconvert->jupyter==1.0.0->d2l==1.0.3) (4.3.7)\n",
            "Requirement already satisfied: notebook-shim>=0.2.3 in /usr/local/lib/python3.11/dist-packages (from nbclassic>=0.4.7->notebook->jupyter==1.0.0->d2l==1.0.3) (0.2.4)\n",
            "Requirement already satisfied: fastjsonschema>=2.15 in /usr/local/lib/python3.11/dist-packages (from nbformat>=5.7->nbconvert->jupyter==1.0.0->d2l==1.0.3) (2.21.1)\n",
            "Requirement already satisfied: jsonschema>=2.6 in /usr/local/lib/python3.11/dist-packages (from nbformat>=5.7->nbconvert->jupyter==1.0.0->d2l==1.0.3) (4.23.0)\n",
            "Requirement already satisfied: wcwidth in /usr/local/lib/python3.11/dist-packages (from prompt-toolkit!=3.0.0,!=3.0.1,<3.1.0,>=2.0.0->jupyter-console->jupyter==1.0.0->d2l==1.0.3) (0.2.13)\n",
            "Requirement already satisfied: ptyprocess in /usr/local/lib/python3.11/dist-packages (from terminado>=0.8.3->notebook->jupyter==1.0.0->d2l==1.0.3) (0.7.0)\n",
            "Requirement already satisfied: argon2-cffi-bindings in /usr/local/lib/python3.11/dist-packages (from argon2-cffi->notebook->jupyter==1.0.0->d2l==1.0.3) (21.2.0)\n",
            "Requirement already satisfied: soupsieve>1.2 in /usr/local/lib/python3.11/dist-packages (from beautifulsoup4->nbconvert->jupyter==1.0.0->d2l==1.0.3) (2.7)\n",
            "Requirement already satisfied: typing-extensions>=4.0.0 in /usr/local/lib/python3.11/dist-packages (from beautifulsoup4->nbconvert->jupyter==1.0.0->d2l==1.0.3) (4.13.2)\n",
            "Requirement already satisfied: parso<0.9.0,>=0.8.4 in /usr/local/lib/python3.11/dist-packages (from jedi>=0.16->ipython>=7.23.1->ipykernel->jupyter==1.0.0->d2l==1.0.3) (0.8.4)\n",
            "Requirement already satisfied: attrs>=22.2.0 in /usr/local/lib/python3.11/dist-packages (from jsonschema>=2.6->nbformat>=5.7->nbconvert->jupyter==1.0.0->d2l==1.0.3) (25.3.0)\n",
            "Requirement already satisfied: jsonschema-specifications>=2023.03.6 in /usr/local/lib/python3.11/dist-packages (from jsonschema>=2.6->nbformat>=5.7->nbconvert->jupyter==1.0.0->d2l==1.0.3) (2025.4.1)\n",
            "Requirement already satisfied: referencing>=0.28.4 in /usr/local/lib/python3.11/dist-packages (from jsonschema>=2.6->nbformat>=5.7->nbconvert->jupyter==1.0.0->d2l==1.0.3) (0.36.2)\n",
            "Requirement already satisfied: rpds-py>=0.7.1 in /usr/local/lib/python3.11/dist-packages (from jsonschema>=2.6->nbformat>=5.7->nbconvert->jupyter==1.0.0->d2l==1.0.3) (0.24.0)\n",
            "Requirement already satisfied: jupyter-server<3,>=1.8 in /usr/local/lib/python3.11/dist-packages (from notebook-shim>=0.2.3->nbclassic>=0.4.7->notebook->jupyter==1.0.0->d2l==1.0.3) (1.16.0)\n",
            "Requirement already satisfied: cffi>=1.0.1 in /usr/local/lib/python3.11/dist-packages (from argon2-cffi-bindings->argon2-cffi->notebook->jupyter==1.0.0->d2l==1.0.3) (1.17.1)\n",
            "Requirement already satisfied: pycparser in /usr/local/lib/python3.11/dist-packages (from cffi>=1.0.1->argon2-cffi-bindings->argon2-cffi->notebook->jupyter==1.0.0->d2l==1.0.3) (2.22)\n",
            "Requirement already satisfied: anyio>=3.1.0 in /usr/local/lib/python3.11/dist-packages (from jupyter-server<3,>=1.8->notebook-shim>=0.2.3->nbclassic>=0.4.7->notebook->jupyter==1.0.0->d2l==1.0.3) (4.9.0)\n",
            "Requirement already satisfied: websocket-client in /usr/local/lib/python3.11/dist-packages (from jupyter-server<3,>=1.8->notebook-shim>=0.2.3->nbclassic>=0.4.7->notebook->jupyter==1.0.0->d2l==1.0.3) (1.8.0)\n",
            "Requirement already satisfied: sniffio>=1.1 in /usr/local/lib/python3.11/dist-packages (from anyio>=3.1.0->jupyter-server<3,>=1.8->notebook-shim>=0.2.3->nbclassic>=0.4.7->notebook->jupyter==1.0.0->d2l==1.0.3) (1.3.1)\n"
          ]
        }
      ],
      "source": [
        "!pip install d2l==1.0.3\n"
      ]
    },
    {
      "cell_type": "markdown",
      "id": "3333804c",
      "metadata": {
        "origin_pos": 1,
        "id": "3333804c"
      },
      "source": [
        "# Implementation of Multilayer Perceptrons\n",
        ":label:`sec_mlp-implementation`\n",
        "\n",
        "Multilayer perceptrons (MLPs) are not much more complex to implement than simple linear models. The key conceptual\n",
        "difference is that we now concatenate multiple layers.\n"
      ]
    },
    {
      "cell_type": "code",
      "execution_count": 2,
      "id": "87926c3b",
      "metadata": {
        "execution": {
          "iopub.execute_input": "2023-08-18T19:41:22.340655Z",
          "iopub.status.busy": "2023-08-18T19:41:22.340381Z",
          "iopub.status.idle": "2023-08-18T19:41:25.449640Z",
          "shell.execute_reply": "2023-08-18T19:41:25.448607Z"
        },
        "origin_pos": 3,
        "tab": [
          "pytorch"
        ],
        "id": "87926c3b"
      },
      "outputs": [],
      "source": [
        "import torch\n",
        "from torch import nn\n",
        "from d2l import torch as d2l\n",
        "import matplotlib.pyplot as plt"
      ]
    },
    {
      "cell_type": "markdown",
      "id": "1f2763e5",
      "metadata": {
        "origin_pos": 6,
        "id": "1f2763e5"
      },
      "source": [
        "## Implementation from Scratch\n",
        "\n",
        "Let's begin again by implementing such a network from scratch.\n",
        "\n",
        "### Initializing Model Parameters\n",
        "\n",
        "Recall that Fashion-MNIST contains 10 classes,\n",
        "and that each image consists of a $28 \\times 28 = 784$\n",
        "grid of grayscale pixel values.\n",
        "As before we will disregard the spatial structure\n",
        "among the pixels for now,\n",
        "so we can think of this as a classification dataset\n",
        "with 784 input features and 10 classes.\n",
        "To begin, we will [**implement an MLP\n",
        "with one hidden layer and 256 hidden units.**]\n",
        "Both the number of layers and their width are adjustable\n",
        "(they are considered hyperparameters).\n",
        "Typically, we choose the layer widths to be divisible by larger powers of 2.\n",
        "This is computationally efficient due to the way\n",
        "memory is allocated and addressed in hardware.\n",
        "\n",
        "Again, we will represent our parameters with several tensors.\n",
        "Note that *for every layer*, we must keep track of\n",
        "one weight matrix and one bias vector.\n",
        "As always, we allocate memory\n",
        "for the gradients of the loss with respect to these parameters.\n"
      ]
    },
    {
      "cell_type": "markdown",
      "id": "08aa4fb7",
      "metadata": {
        "origin_pos": 8,
        "tab": [
          "pytorch"
        ],
        "id": "08aa4fb7"
      },
      "source": [
        "In the code below we use `nn.Parameter`\n",
        "to automatically register\n",
        "a class attribute as a parameter to be tracked by `autograd` (:numref:`sec_autograd`).\n"
      ]
    },
    {
      "cell_type": "code",
      "execution_count": 3,
      "id": "bcccd30d",
      "metadata": {
        "execution": {
          "iopub.execute_input": "2023-08-18T19:41:25.459844Z",
          "iopub.status.busy": "2023-08-18T19:41:25.459149Z",
          "iopub.status.idle": "2023-08-18T19:41:25.472859Z",
          "shell.execute_reply": "2023-08-18T19:41:25.471738Z"
        },
        "origin_pos": 12,
        "tab": [
          "pytorch"
        ],
        "id": "bcccd30d"
      },
      "outputs": [],
      "source": [
        "class MLPScratch(d2l.Classifier):\n",
        "    def __init__(self, num_inputs, num_outputs, num_hiddens, lr, sigma=0.01):\n",
        "        super().__init__()\n",
        "        self.save_hyperparameters()\n",
        "        self.W1 = nn.Parameter(torch.randn(num_inputs, num_hiddens) * sigma)\n",
        "        self.b1 = nn.Parameter(torch.zeros(num_hiddens))\n",
        "        self.W2 = nn.Parameter(torch.randn(num_hiddens, num_outputs) * sigma)\n",
        "        self.b2 = nn.Parameter(torch.zeros(num_outputs))"
      ]
    },
    {
      "cell_type": "markdown",
      "id": "49aeeb41",
      "metadata": {
        "origin_pos": 15,
        "id": "49aeeb41"
      },
      "source": [
        "### Model\n",
        "\n",
        "To make sure we know how everything works,\n",
        "we will [**implement the ReLU activation**] ourselves\n",
        "rather than invoking the built-in `relu` function directly.\n"
      ]
    },
    {
      "cell_type": "code",
      "execution_count": 4,
      "id": "2af157bb",
      "metadata": {
        "execution": {
          "iopub.execute_input": "2023-08-18T19:41:25.477923Z",
          "iopub.status.busy": "2023-08-18T19:41:25.477044Z",
          "iopub.status.idle": "2023-08-18T19:41:25.482976Z",
          "shell.execute_reply": "2023-08-18T19:41:25.481963Z"
        },
        "origin_pos": 17,
        "tab": [
          "pytorch"
        ],
        "id": "2af157bb"
      },
      "outputs": [],
      "source": [
        "def relu(X):\n",
        "    a = torch.zeros_like(X)\n",
        "    return torch.max(X, a)"
      ]
    },
    {
      "cell_type": "markdown",
      "id": "3f8bd74c",
      "metadata": {
        "origin_pos": 20,
        "id": "3f8bd74c"
      },
      "source": [
        "Since we are disregarding spatial structure,\n",
        "we `reshape` each two-dimensional image into\n",
        "a flat vector of length  `num_inputs`.\n",
        "Finally, we (**implement our model**)\n",
        "with just a few lines of code. Since we use the framework built-in autograd this is all that it takes.\n"
      ]
    },
    {
      "cell_type": "code",
      "execution_count": 5,
      "id": "7438b40c",
      "metadata": {
        "execution": {
          "iopub.execute_input": "2023-08-18T19:41:25.492513Z",
          "iopub.status.busy": "2023-08-18T19:41:25.491685Z",
          "iopub.status.idle": "2023-08-18T19:41:25.498375Z",
          "shell.execute_reply": "2023-08-18T19:41:25.497344Z"
        },
        "origin_pos": 21,
        "tab": [
          "pytorch"
        ],
        "id": "7438b40c"
      },
      "outputs": [],
      "source": [
        "@d2l.add_to_class(MLPScratch)\n",
        "def forward(self, X):\n",
        "    X = X.reshape((-1, self.num_inputs))\n",
        "    H = relu(torch.matmul(X, self.W1) + self.b1)\n",
        "    return torch.matmul(H, self.W2) + self.b2"
      ]
    },
    {
      "cell_type": "markdown",
      "id": "f07056fc",
      "metadata": {
        "origin_pos": 22,
        "id": "f07056fc"
      },
      "source": [
        "### Training\n",
        "\n",
        "Fortunately, [**the training loop for MLPs\n",
        "is exactly the same as for softmax regression.**] We define the model, data, and trainer, then finally invoke the `fit` method on model and data.\n"
      ]
    },
    {
      "cell_type": "code",
      "execution_count": 6,
      "id": "82d57362",
      "metadata": {
        "execution": {
          "iopub.execute_input": "2023-08-18T19:41:25.502740Z",
          "iopub.status.busy": "2023-08-18T19:41:25.502096Z",
          "iopub.status.idle": "2023-08-18T19:42:19.146140Z",
          "shell.execute_reply": "2023-08-18T19:42:19.144962Z"
        },
        "origin_pos": 23,
        "tab": [
          "pytorch"
        ],
        "id": "82d57362",
        "outputId": "22e1e22a-1283-42be-b308-64861c1d856b",
        "colab": {
          "base_uri": "https://localhost:8080/",
          "height": 265
        }
      },
      "outputs": [
        {
          "output_type": "display_data",
          "data": {
            "text/plain": [
              "<Figure size 350x250 with 1 Axes>"
            ],
            "image/svg+xml": "<?xml version=\"1.0\" encoding=\"utf-8\" standalone=\"no\"?>\n<!DOCTYPE svg PUBLIC \"-//W3C//DTD SVG 1.1//EN\"\n  \"http://www.w3.org/Graphics/SVG/1.1/DTD/svg11.dtd\">\n<svg xmlns:xlink=\"http://www.w3.org/1999/xlink\" width=\"238.965625pt\" height=\"183.35625pt\" viewBox=\"0 0 238.965625 183.35625\" xmlns=\"http://www.w3.org/2000/svg\" version=\"1.1\">\n <metadata>\n  <rdf:RDF xmlns:dc=\"http://purl.org/dc/elements/1.1/\" xmlns:cc=\"http://creativecommons.org/ns#\" xmlns:rdf=\"http://www.w3.org/1999/02/22-rdf-syntax-ns#\">\n   <cc:Work>\n    <dc:type rdf:resource=\"http://purl.org/dc/dcmitype/StillImage\"/>\n    <dc:date>2025-05-08T12:08:38.698105</dc:date>\n    <dc:format>image/svg+xml</dc:format>\n    <dc:creator>\n     <cc:Agent>\n      <dc:title>Matplotlib v3.7.2, https://matplotlib.org/</dc:title>\n     </cc:Agent>\n    </dc:creator>\n   </cc:Work>\n  </rdf:RDF>\n </metadata>\n <defs>\n  <style type=\"text/css\">*{stroke-linejoin: round; stroke-linecap: butt}</style>\n </defs>\n <g id=\"figure_1\">\n  <g id=\"patch_1\">\n   <path d=\"M 0 183.35625 \nL 238.965625 183.35625 \nL 238.965625 0 \nL 0 0 \nz\n\" style=\"fill: #ffffff\"/>\n  </g>\n  <g id=\"axes_1\">\n   <g id=\"patch_2\">\n    <path d=\"M 30.103125 145.8 \nL 225.403125 145.8 \nL 225.403125 7.2 \nL 30.103125 7.2 \nz\n\" style=\"fill: #ffffff\"/>\n   </g>\n   <g id=\"matplotlib.axis_1\">\n    <g id=\"xtick_1\">\n     <g id=\"line2d_1\">\n      <defs>\n       <path id=\"m456aa3865e\" d=\"M 0 0 \nL 0 3.5 \n\" style=\"stroke: #000000; stroke-width: 0.8\"/>\n      </defs>\n      <g>\n       <use xlink:href=\"#m456aa3865e\" x=\"30.103125\" y=\"145.8\" style=\"stroke: #000000; stroke-width: 0.8\"/>\n      </g>\n     </g>\n     <g id=\"text_1\">\n      <!-- 0 -->\n      <g transform=\"translate(26.921875 160.398438) scale(0.1 -0.1)\">\n       <defs>\n        <path id=\"DejaVuSans-30\" d=\"M 2034 4250 \nQ 1547 4250 1301 3770 \nQ 1056 3291 1056 2328 \nQ 1056 1369 1301 889 \nQ 1547 409 2034 409 \nQ 2525 409 2770 889 \nQ 3016 1369 3016 2328 \nQ 3016 3291 2770 3770 \nQ 2525 4250 2034 4250 \nz\nM 2034 4750 \nQ 2819 4750 3233 4129 \nQ 3647 3509 3647 2328 \nQ 3647 1150 3233 529 \nQ 2819 -91 2034 -91 \nQ 1250 -91 836 529 \nQ 422 1150 422 2328 \nQ 422 3509 836 4129 \nQ 1250 4750 2034 4750 \nz\n\" transform=\"scale(0.015625)\"/>\n       </defs>\n       <use xlink:href=\"#DejaVuSans-30\"/>\n      </g>\n     </g>\n    </g>\n    <g id=\"xtick_2\">\n     <g id=\"line2d_2\">\n      <g>\n       <use xlink:href=\"#m456aa3865e\" x=\"69.163125\" y=\"145.8\" style=\"stroke: #000000; stroke-width: 0.8\"/>\n      </g>\n     </g>\n     <g id=\"text_2\">\n      <!-- 2 -->\n      <g transform=\"translate(65.981875 160.398438) scale(0.1 -0.1)\">\n       <defs>\n        <path id=\"DejaVuSans-32\" d=\"M 1228 531 \nL 3431 531 \nL 3431 0 \nL 469 0 \nL 469 531 \nQ 828 903 1448 1529 \nQ 2069 2156 2228 2338 \nQ 2531 2678 2651 2914 \nQ 2772 3150 2772 3378 \nQ 2772 3750 2511 3984 \nQ 2250 4219 1831 4219 \nQ 1534 4219 1204 4116 \nQ 875 4013 500 3803 \nL 500 4441 \nQ 881 4594 1212 4672 \nQ 1544 4750 1819 4750 \nQ 2544 4750 2975 4387 \nQ 3406 4025 3406 3419 \nQ 3406 3131 3298 2873 \nQ 3191 2616 2906 2266 \nQ 2828 2175 2409 1742 \nQ 1991 1309 1228 531 \nz\n\" transform=\"scale(0.015625)\"/>\n       </defs>\n       <use xlink:href=\"#DejaVuSans-32\"/>\n      </g>\n     </g>\n    </g>\n    <g id=\"xtick_3\">\n     <g id=\"line2d_3\">\n      <g>\n       <use xlink:href=\"#m456aa3865e\" x=\"108.223125\" y=\"145.8\" style=\"stroke: #000000; stroke-width: 0.8\"/>\n      </g>\n     </g>\n     <g id=\"text_3\">\n      <!-- 4 -->\n      <g transform=\"translate(105.041875 160.398438) scale(0.1 -0.1)\">\n       <defs>\n        <path id=\"DejaVuSans-34\" d=\"M 2419 4116 \nL 825 1625 \nL 2419 1625 \nL 2419 4116 \nz\nM 2253 4666 \nL 3047 4666 \nL 3047 1625 \nL 3713 1625 \nL 3713 1100 \nL 3047 1100 \nL 3047 0 \nL 2419 0 \nL 2419 1100 \nL 313 1100 \nL 313 1709 \nL 2253 4666 \nz\n\" transform=\"scale(0.015625)\"/>\n       </defs>\n       <use xlink:href=\"#DejaVuSans-34\"/>\n      </g>\n     </g>\n    </g>\n    <g id=\"xtick_4\">\n     <g id=\"line2d_4\">\n      <g>\n       <use xlink:href=\"#m456aa3865e\" x=\"147.283125\" y=\"145.8\" style=\"stroke: #000000; stroke-width: 0.8\"/>\n      </g>\n     </g>\n     <g id=\"text_4\">\n      <!-- 6 -->\n      <g transform=\"translate(144.101875 160.398438) scale(0.1 -0.1)\">\n       <defs>\n        <path id=\"DejaVuSans-36\" d=\"M 2113 2584 \nQ 1688 2584 1439 2293 \nQ 1191 2003 1191 1497 \nQ 1191 994 1439 701 \nQ 1688 409 2113 409 \nQ 2538 409 2786 701 \nQ 3034 994 3034 1497 \nQ 3034 2003 2786 2293 \nQ 2538 2584 2113 2584 \nz\nM 3366 4563 \nL 3366 3988 \nQ 3128 4100 2886 4159 \nQ 2644 4219 2406 4219 \nQ 1781 4219 1451 3797 \nQ 1122 3375 1075 2522 \nQ 1259 2794 1537 2939 \nQ 1816 3084 2150 3084 \nQ 2853 3084 3261 2657 \nQ 3669 2231 3669 1497 \nQ 3669 778 3244 343 \nQ 2819 -91 2113 -91 \nQ 1303 -91 875 529 \nQ 447 1150 447 2328 \nQ 447 3434 972 4092 \nQ 1497 4750 2381 4750 \nQ 2619 4750 2861 4703 \nQ 3103 4656 3366 4563 \nz\n\" transform=\"scale(0.015625)\"/>\n       </defs>\n       <use xlink:href=\"#DejaVuSans-36\"/>\n      </g>\n     </g>\n    </g>\n    <g id=\"xtick_5\">\n     <g id=\"line2d_5\">\n      <g>\n       <use xlink:href=\"#m456aa3865e\" x=\"186.343125\" y=\"145.8\" style=\"stroke: #000000; stroke-width: 0.8\"/>\n      </g>\n     </g>\n     <g id=\"text_5\">\n      <!-- 8 -->\n      <g transform=\"translate(183.161875 160.398438) scale(0.1 -0.1)\">\n       <defs>\n        <path id=\"DejaVuSans-38\" d=\"M 2034 2216 \nQ 1584 2216 1326 1975 \nQ 1069 1734 1069 1313 \nQ 1069 891 1326 650 \nQ 1584 409 2034 409 \nQ 2484 409 2743 651 \nQ 3003 894 3003 1313 \nQ 3003 1734 2745 1975 \nQ 2488 2216 2034 2216 \nz\nM 1403 2484 \nQ 997 2584 770 2862 \nQ 544 3141 544 3541 \nQ 544 4100 942 4425 \nQ 1341 4750 2034 4750 \nQ 2731 4750 3128 4425 \nQ 3525 4100 3525 3541 \nQ 3525 3141 3298 2862 \nQ 3072 2584 2669 2484 \nQ 3125 2378 3379 2068 \nQ 3634 1759 3634 1313 \nQ 3634 634 3220 271 \nQ 2806 -91 2034 -91 \nQ 1263 -91 848 271 \nQ 434 634 434 1313 \nQ 434 1759 690 2068 \nQ 947 2378 1403 2484 \nz\nM 1172 3481 \nQ 1172 3119 1398 2916 \nQ 1625 2713 2034 2713 \nQ 2441 2713 2670 2916 \nQ 2900 3119 2900 3481 \nQ 2900 3844 2670 4047 \nQ 2441 4250 2034 4250 \nQ 1625 4250 1398 4047 \nQ 1172 3844 1172 3481 \nz\n\" transform=\"scale(0.015625)\"/>\n       </defs>\n       <use xlink:href=\"#DejaVuSans-38\"/>\n      </g>\n     </g>\n    </g>\n    <g id=\"xtick_6\">\n     <g id=\"line2d_6\">\n      <g>\n       <use xlink:href=\"#m456aa3865e\" x=\"225.403125\" y=\"145.8\" style=\"stroke: #000000; stroke-width: 0.8\"/>\n      </g>\n     </g>\n     <g id=\"text_6\">\n      <!-- 10 -->\n      <g transform=\"translate(219.040625 160.398438) scale(0.1 -0.1)\">\n       <defs>\n        <path id=\"DejaVuSans-31\" d=\"M 794 531 \nL 1825 531 \nL 1825 4091 \nL 703 3866 \nL 703 4441 \nL 1819 4666 \nL 2450 4666 \nL 2450 531 \nL 3481 531 \nL 3481 0 \nL 794 0 \nL 794 531 \nz\n\" transform=\"scale(0.015625)\"/>\n       </defs>\n       <use xlink:href=\"#DejaVuSans-31\"/>\n       <use xlink:href=\"#DejaVuSans-30\" x=\"63.623047\"/>\n      </g>\n     </g>\n    </g>\n    <g id=\"text_7\">\n     <!-- epoch -->\n     <g transform=\"translate(112.525 174.076563) scale(0.1 -0.1)\">\n      <defs>\n       <path id=\"DejaVuSans-65\" d=\"M 3597 1894 \nL 3597 1613 \nL 953 1613 \nQ 991 1019 1311 708 \nQ 1631 397 2203 397 \nQ 2534 397 2845 478 \nQ 3156 559 3463 722 \nL 3463 178 \nQ 3153 47 2828 -22 \nQ 2503 -91 2169 -91 \nQ 1331 -91 842 396 \nQ 353 884 353 1716 \nQ 353 2575 817 3079 \nQ 1281 3584 2069 3584 \nQ 2775 3584 3186 3129 \nQ 3597 2675 3597 1894 \nz\nM 3022 2063 \nQ 3016 2534 2758 2815 \nQ 2500 3097 2075 3097 \nQ 1594 3097 1305 2825 \nQ 1016 2553 972 2059 \nL 3022 2063 \nz\n\" transform=\"scale(0.015625)\"/>\n       <path id=\"DejaVuSans-70\" d=\"M 1159 525 \nL 1159 -1331 \nL 581 -1331 \nL 581 3500 \nL 1159 3500 \nL 1159 2969 \nQ 1341 3281 1617 3432 \nQ 1894 3584 2278 3584 \nQ 2916 3584 3314 3078 \nQ 3713 2572 3713 1747 \nQ 3713 922 3314 415 \nQ 2916 -91 2278 -91 \nQ 1894 -91 1617 61 \nQ 1341 213 1159 525 \nz\nM 3116 1747 \nQ 3116 2381 2855 2742 \nQ 2594 3103 2138 3103 \nQ 1681 3103 1420 2742 \nQ 1159 2381 1159 1747 \nQ 1159 1113 1420 752 \nQ 1681 391 2138 391 \nQ 2594 391 2855 752 \nQ 3116 1113 3116 1747 \nz\n\" transform=\"scale(0.015625)\"/>\n       <path id=\"DejaVuSans-6f\" d=\"M 1959 3097 \nQ 1497 3097 1228 2736 \nQ 959 2375 959 1747 \nQ 959 1119 1226 758 \nQ 1494 397 1959 397 \nQ 2419 397 2687 759 \nQ 2956 1122 2956 1747 \nQ 2956 2369 2687 2733 \nQ 2419 3097 1959 3097 \nz\nM 1959 3584 \nQ 2709 3584 3137 3096 \nQ 3566 2609 3566 1747 \nQ 3566 888 3137 398 \nQ 2709 -91 1959 -91 \nQ 1206 -91 779 398 \nQ 353 888 353 1747 \nQ 353 2609 779 3096 \nQ 1206 3584 1959 3584 \nz\n\" transform=\"scale(0.015625)\"/>\n       <path id=\"DejaVuSans-63\" d=\"M 3122 3366 \nL 3122 2828 \nQ 2878 2963 2633 3030 \nQ 2388 3097 2138 3097 \nQ 1578 3097 1268 2742 \nQ 959 2388 959 1747 \nQ 959 1106 1268 751 \nQ 1578 397 2138 397 \nQ 2388 397 2633 464 \nQ 2878 531 3122 666 \nL 3122 134 \nQ 2881 22 2623 -34 \nQ 2366 -91 2075 -91 \nQ 1284 -91 818 406 \nQ 353 903 353 1747 \nQ 353 2603 823 3093 \nQ 1294 3584 2113 3584 \nQ 2378 3584 2631 3529 \nQ 2884 3475 3122 3366 \nz\n\" transform=\"scale(0.015625)\"/>\n       <path id=\"DejaVuSans-68\" d=\"M 3513 2113 \nL 3513 0 \nL 2938 0 \nL 2938 2094 \nQ 2938 2591 2744 2837 \nQ 2550 3084 2163 3084 \nQ 1697 3084 1428 2787 \nQ 1159 2491 1159 1978 \nL 1159 0 \nL 581 0 \nL 581 4863 \nL 1159 4863 \nL 1159 2956 \nQ 1366 3272 1645 3428 \nQ 1925 3584 2291 3584 \nQ 2894 3584 3203 3211 \nQ 3513 2838 3513 2113 \nz\n\" transform=\"scale(0.015625)\"/>\n      </defs>\n      <use xlink:href=\"#DejaVuSans-65\"/>\n      <use xlink:href=\"#DejaVuSans-70\" x=\"61.523438\"/>\n      <use xlink:href=\"#DejaVuSans-6f\" x=\"125\"/>\n      <use xlink:href=\"#DejaVuSans-63\" x=\"186.181641\"/>\n      <use xlink:href=\"#DejaVuSans-68\" x=\"241.162109\"/>\n     </g>\n    </g>\n   </g>\n   <g id=\"matplotlib.axis_2\">\n    <g id=\"ytick_1\">\n     <g id=\"line2d_7\">\n      <defs>\n       <path id=\"m22d6e1618d\" d=\"M 0 0 \nL -3.5 0 \n\" style=\"stroke: #000000; stroke-width: 0.8\"/>\n      </defs>\n      <g>\n       <use xlink:href=\"#m22d6e1618d\" x=\"30.103125\" y=\"136.598858\" style=\"stroke: #000000; stroke-width: 0.8\"/>\n      </g>\n     </g>\n     <g id=\"text_8\">\n      <!-- 0.4 -->\n      <g transform=\"translate(7.2 140.398076) scale(0.1 -0.1)\">\n       <defs>\n        <path id=\"DejaVuSans-2e\" d=\"M 684 794 \nL 1344 794 \nL 1344 0 \nL 684 0 \nL 684 794 \nz\n\" transform=\"scale(0.015625)\"/>\n       </defs>\n       <use xlink:href=\"#DejaVuSans-30\"/>\n       <use xlink:href=\"#DejaVuSans-2e\" x=\"63.623047\"/>\n       <use xlink:href=\"#DejaVuSans-34\" x=\"95.410156\"/>\n      </g>\n     </g>\n    </g>\n    <g id=\"ytick_2\">\n     <g id=\"line2d_8\">\n      <g>\n       <use xlink:href=\"#m22d6e1618d\" x=\"30.103125\" y=\"110.23859\" style=\"stroke: #000000; stroke-width: 0.8\"/>\n      </g>\n     </g>\n     <g id=\"text_9\">\n      <!-- 0.6 -->\n      <g transform=\"translate(7.2 114.037809) scale(0.1 -0.1)\">\n       <use xlink:href=\"#DejaVuSans-30\"/>\n       <use xlink:href=\"#DejaVuSans-2e\" x=\"63.623047\"/>\n       <use xlink:href=\"#DejaVuSans-36\" x=\"95.410156\"/>\n      </g>\n     </g>\n    </g>\n    <g id=\"ytick_3\">\n     <g id=\"line2d_9\">\n      <g>\n       <use xlink:href=\"#m22d6e1618d\" x=\"30.103125\" y=\"83.878323\" style=\"stroke: #000000; stroke-width: 0.8\"/>\n      </g>\n     </g>\n     <g id=\"text_10\">\n      <!-- 0.8 -->\n      <g transform=\"translate(7.2 87.677542) scale(0.1 -0.1)\">\n       <use xlink:href=\"#DejaVuSans-30\"/>\n       <use xlink:href=\"#DejaVuSans-2e\" x=\"63.623047\"/>\n       <use xlink:href=\"#DejaVuSans-38\" x=\"95.410156\"/>\n      </g>\n     </g>\n    </g>\n    <g id=\"ytick_4\">\n     <g id=\"line2d_10\">\n      <g>\n       <use xlink:href=\"#m22d6e1618d\" x=\"30.103125\" y=\"57.518056\" style=\"stroke: #000000; stroke-width: 0.8\"/>\n      </g>\n     </g>\n     <g id=\"text_11\">\n      <!-- 1.0 -->\n      <g transform=\"translate(7.2 61.317274) scale(0.1 -0.1)\">\n       <use xlink:href=\"#DejaVuSans-31\"/>\n       <use xlink:href=\"#DejaVuSans-2e\" x=\"63.623047\"/>\n       <use xlink:href=\"#DejaVuSans-30\" x=\"95.410156\"/>\n      </g>\n     </g>\n    </g>\n    <g id=\"ytick_5\">\n     <g id=\"line2d_11\">\n      <g>\n       <use xlink:href=\"#m22d6e1618d\" x=\"30.103125\" y=\"31.157788\" style=\"stroke: #000000; stroke-width: 0.8\"/>\n      </g>\n     </g>\n     <g id=\"text_12\">\n      <!-- 1.2 -->\n      <g transform=\"translate(7.2 34.957007) scale(0.1 -0.1)\">\n       <use xlink:href=\"#DejaVuSans-31\"/>\n       <use xlink:href=\"#DejaVuSans-2e\" x=\"63.623047\"/>\n       <use xlink:href=\"#DejaVuSans-32\" x=\"95.410156\"/>\n      </g>\n     </g>\n    </g>\n   </g>\n   <g id=\"line2d_12\">\n    <path d=\"M 34.923295 13.5 \n\" clip-path=\"url(#pac2bf5a2b0)\" style=\"fill: none; stroke: #1f77b4; stroke-width: 1.5; stroke-linecap: square\"/>\n   </g>\n   <g id=\"line2d_13\">\n    <path d=\"M 34.923295 13.5 \nL 44.646742 91.303184 \n\" clip-path=\"url(#pac2bf5a2b0)\" style=\"fill: none; stroke: #1f77b4; stroke-width: 1.5; stroke-linecap: square\"/>\n   </g>\n   <g id=\"line2d_14\">\n    <path d=\"M 34.923295 13.5 \nL 44.646742 91.303184 \n\" clip-path=\"url(#pac2bf5a2b0)\" style=\"fill: none; stroke: #1f77b4; stroke-width: 1.5; stroke-linecap: square\"/>\n   </g>\n   <g id=\"line2d_15\">\n    <path d=\"M 49.633125 97.083713 \n\" clip-path=\"url(#pac2bf5a2b0)\" style=\"fill: none; stroke-dasharray: 5.55,2.4; stroke-dashoffset: 0; stroke: #ff7f0e; stroke-width: 1.5\"/>\n   </g>\n   <g id=\"line2d_16\"/>\n   <g id=\"line2d_17\">\n    <path d=\"M 34.923295 13.5 \nL 44.646742 91.303184 \n\" clip-path=\"url(#pac2bf5a2b0)\" style=\"fill: none; stroke: #1f77b4; stroke-width: 1.5; stroke-linecap: square\"/>\n   </g>\n   <g id=\"line2d_18\">\n    <path d=\"M 49.633125 97.083713 \n\" clip-path=\"url(#pac2bf5a2b0)\" style=\"fill: none; stroke-dasharray: 5.55,2.4; stroke-dashoffset: 0; stroke: #ff7f0e; stroke-width: 1.5\"/>\n   </g>\n   <g id=\"line2d_19\">\n    <path d=\"M 49.633125 90.661458 \n\" clip-path=\"url(#pac2bf5a2b0)\" style=\"fill: none; stroke-dasharray: 9.6,2.4,1.5,2.4; stroke-dashoffset: 0; stroke: #2ca02c; stroke-width: 1.5\"/>\n   </g>\n   <g id=\"line2d_20\">\n    <path d=\"M 34.923295 13.5 \nL 44.646742 91.303184 \nL 54.370189 105.563021 \n\" clip-path=\"url(#pac2bf5a2b0)\" style=\"fill: none; stroke: #1f77b4; stroke-width: 1.5; stroke-linecap: square\"/>\n   </g>\n   <g id=\"line2d_21\">\n    <path d=\"M 49.633125 97.083713 \n\" clip-path=\"url(#pac2bf5a2b0)\" style=\"fill: none; stroke-dasharray: 5.55,2.4; stroke-dashoffset: 0; stroke: #ff7f0e; stroke-width: 1.5\"/>\n   </g>\n   <g id=\"line2d_22\">\n    <path d=\"M 49.633125 90.661458 \n\" clip-path=\"url(#pac2bf5a2b0)\" style=\"fill: none; stroke-dasharray: 9.6,2.4,1.5,2.4; stroke-dashoffset: 0; stroke: #2ca02c; stroke-width: 1.5\"/>\n   </g>\n   <g id=\"line2d_23\">\n    <path d=\"M 34.923295 13.5 \nL 44.646742 91.303184 \nL 54.370189 105.563021 \nL 64.093636 115.208175 \n\" clip-path=\"url(#pac2bf5a2b0)\" style=\"fill: none; stroke: #1f77b4; stroke-width: 1.5; stroke-linecap: square\"/>\n   </g>\n   <g id=\"line2d_24\">\n    <path d=\"M 49.633125 97.083713 \n\" clip-path=\"url(#pac2bf5a2b0)\" style=\"fill: none; stroke-dasharray: 5.55,2.4; stroke-dashoffset: 0; stroke: #ff7f0e; stroke-width: 1.5\"/>\n   </g>\n   <g id=\"line2d_25\">\n    <path d=\"M 49.633125 90.661458 \n\" clip-path=\"url(#pac2bf5a2b0)\" style=\"fill: none; stroke-dasharray: 9.6,2.4,1.5,2.4; stroke-dashoffset: 0; stroke: #2ca02c; stroke-width: 1.5\"/>\n   </g>\n   <g id=\"line2d_26\">\n    <path d=\"M 34.923295 13.5 \nL 44.646742 91.303184 \nL 54.370189 105.563021 \nL 64.093636 115.208175 \n\" clip-path=\"url(#pac2bf5a2b0)\" style=\"fill: none; stroke: #1f77b4; stroke-width: 1.5; stroke-linecap: square\"/>\n   </g>\n   <g id=\"line2d_27\">\n    <path d=\"M 49.633125 97.083713 \nL 69.163125 112.160514 \n\" clip-path=\"url(#pac2bf5a2b0)\" style=\"fill: none; stroke-dasharray: 5.55,2.4; stroke-dashoffset: 0; stroke: #ff7f0e; stroke-width: 1.5\"/>\n   </g>\n   <g id=\"line2d_28\">\n    <path d=\"M 49.633125 90.661458 \n\" clip-path=\"url(#pac2bf5a2b0)\" style=\"fill: none; stroke-dasharray: 9.6,2.4,1.5,2.4; stroke-dashoffset: 0; stroke: #2ca02c; stroke-width: 1.5\"/>\n   </g>\n   <g id=\"line2d_29\">\n    <path d=\"M 34.923295 13.5 \nL 44.646742 91.303184 \nL 54.370189 105.563021 \nL 64.093636 115.208175 \n\" clip-path=\"url(#pac2bf5a2b0)\" style=\"fill: none; stroke: #1f77b4; stroke-width: 1.5; stroke-linecap: square\"/>\n   </g>\n   <g id=\"line2d_30\">\n    <path d=\"M 49.633125 97.083713 \nL 69.163125 112.160514 \n\" clip-path=\"url(#pac2bf5a2b0)\" style=\"fill: none; stroke-dasharray: 5.55,2.4; stroke-dashoffset: 0; stroke: #ff7f0e; stroke-width: 1.5\"/>\n   </g>\n   <g id=\"line2d_31\">\n    <path d=\"M 49.633125 90.661458 \nL 69.163125 85.834749 \n\" clip-path=\"url(#pac2bf5a2b0)\" style=\"fill: none; stroke-dasharray: 9.6,2.4,1.5,2.4; stroke-dashoffset: 0; stroke: #2ca02c; stroke-width: 1.5\"/>\n   </g>\n   <g id=\"line2d_32\">\n    <path d=\"M 34.923295 13.5 \nL 44.646742 91.303184 \nL 54.370189 105.563021 \nL 64.093636 115.208175 \nL 73.817082 119.154964 \n\" clip-path=\"url(#pac2bf5a2b0)\" style=\"fill: none; stroke: #1f77b4; stroke-width: 1.5; stroke-linecap: square\"/>\n   </g>\n   <g id=\"line2d_33\">\n    <path d=\"M 49.633125 97.083713 \nL 69.163125 112.160514 \n\" clip-path=\"url(#pac2bf5a2b0)\" style=\"fill: none; stroke-dasharray: 5.55,2.4; stroke-dashoffset: 0; stroke: #ff7f0e; stroke-width: 1.5\"/>\n   </g>\n   <g id=\"line2d_34\">\n    <path d=\"M 49.633125 90.661458 \nL 69.163125 85.834749 \n\" clip-path=\"url(#pac2bf5a2b0)\" style=\"fill: none; stroke-dasharray: 9.6,2.4,1.5,2.4; stroke-dashoffset: 0; stroke: #2ca02c; stroke-width: 1.5\"/>\n   </g>\n   <g id=\"line2d_35\">\n    <path d=\"M 34.923295 13.5 \nL 44.646742 91.303184 \nL 54.370189 105.563021 \nL 64.093636 115.208175 \nL 73.817082 119.154964 \nL 83.540529 122.052296 \n\" clip-path=\"url(#pac2bf5a2b0)\" style=\"fill: none; stroke: #1f77b4; stroke-width: 1.5; stroke-linecap: square\"/>\n   </g>\n   <g id=\"line2d_36\">\n    <path d=\"M 49.633125 97.083713 \nL 69.163125 112.160514 \n\" clip-path=\"url(#pac2bf5a2b0)\" style=\"fill: none; stroke-dasharray: 5.55,2.4; stroke-dashoffset: 0; stroke: #ff7f0e; stroke-width: 1.5\"/>\n   </g>\n   <g id=\"line2d_37\">\n    <path d=\"M 49.633125 90.661458 \nL 69.163125 85.834749 \n\" clip-path=\"url(#pac2bf5a2b0)\" style=\"fill: none; stroke-dasharray: 9.6,2.4,1.5,2.4; stroke-dashoffset: 0; stroke: #2ca02c; stroke-width: 1.5\"/>\n   </g>\n   <g id=\"line2d_38\">\n    <path d=\"M 34.923295 13.5 \nL 44.646742 91.303184 \nL 54.370189 105.563021 \nL 64.093636 115.208175 \nL 73.817082 119.154964 \nL 83.540529 122.052296 \n\" clip-path=\"url(#pac2bf5a2b0)\" style=\"fill: none; stroke: #1f77b4; stroke-width: 1.5; stroke-linecap: square\"/>\n   </g>\n   <g id=\"line2d_39\">\n    <path d=\"M 49.633125 97.083713 \nL 69.163125 112.160514 \nL 88.693125 119.072046 \n\" clip-path=\"url(#pac2bf5a2b0)\" style=\"fill: none; stroke-dasharray: 5.55,2.4; stroke-dashoffset: 0; stroke: #ff7f0e; stroke-width: 1.5\"/>\n   </g>\n   <g id=\"line2d_40\">\n    <path d=\"M 49.633125 90.661458 \nL 69.163125 85.834749 \n\" clip-path=\"url(#pac2bf5a2b0)\" style=\"fill: none; stroke-dasharray: 9.6,2.4,1.5,2.4; stroke-dashoffset: 0; stroke: #2ca02c; stroke-width: 1.5\"/>\n   </g>\n   <g id=\"line2d_41\">\n    <path d=\"M 34.923295 13.5 \nL 44.646742 91.303184 \nL 54.370189 105.563021 \nL 64.093636 115.208175 \nL 73.817082 119.154964 \nL 83.540529 122.052296 \n\" clip-path=\"url(#pac2bf5a2b0)\" style=\"fill: none; stroke: #1f77b4; stroke-width: 1.5; stroke-linecap: square\"/>\n   </g>\n   <g id=\"line2d_42\">\n    <path d=\"M 49.633125 97.083713 \nL 69.163125 112.160514 \nL 88.693125 119.072046 \n\" clip-path=\"url(#pac2bf5a2b0)\" style=\"fill: none; stroke-dasharray: 5.55,2.4; stroke-dashoffset: 0; stroke: #ff7f0e; stroke-width: 1.5\"/>\n   </g>\n   <g id=\"line2d_43\">\n    <path d=\"M 49.633125 90.661458 \nL 69.163125 85.834749 \nL 88.693125 83.337732 \n\" clip-path=\"url(#pac2bf5a2b0)\" style=\"fill: none; stroke-dasharray: 9.6,2.4,1.5,2.4; stroke-dashoffset: 0; stroke: #2ca02c; stroke-width: 1.5\"/>\n   </g>\n   <g id=\"line2d_44\">\n    <path d=\"M 34.923295 13.5 \nL 44.646742 91.303184 \nL 54.370189 105.563021 \nL 64.093636 115.208175 \nL 73.817082 119.154964 \nL 83.540529 122.052296 \nL 93.263976 125.380191 \n\" clip-path=\"url(#pac2bf5a2b0)\" style=\"fill: none; stroke: #1f77b4; stroke-width: 1.5; stroke-linecap: square\"/>\n   </g>\n   <g id=\"line2d_45\">\n    <path d=\"M 49.633125 97.083713 \nL 69.163125 112.160514 \nL 88.693125 119.072046 \n\" clip-path=\"url(#pac2bf5a2b0)\" style=\"fill: none; stroke-dasharray: 5.55,2.4; stroke-dashoffset: 0; stroke: #ff7f0e; stroke-width: 1.5\"/>\n   </g>\n   <g id=\"line2d_46\">\n    <path d=\"M 49.633125 90.661458 \nL 69.163125 85.834749 \nL 88.693125 83.337732 \n\" clip-path=\"url(#pac2bf5a2b0)\" style=\"fill: none; stroke-dasharray: 9.6,2.4,1.5,2.4; stroke-dashoffset: 0; stroke: #2ca02c; stroke-width: 1.5\"/>\n   </g>\n   <g id=\"line2d_47\">\n    <path d=\"M 34.923295 13.5 \nL 44.646742 91.303184 \nL 54.370189 105.563021 \nL 64.093636 115.208175 \nL 73.817082 119.154964 \nL 83.540529 122.052296 \nL 93.263976 125.380191 \nL 102.987423 127.230596 \n\" clip-path=\"url(#pac2bf5a2b0)\" style=\"fill: none; stroke: #1f77b4; stroke-width: 1.5; stroke-linecap: square\"/>\n   </g>\n   <g id=\"line2d_48\">\n    <path d=\"M 49.633125 97.083713 \nL 69.163125 112.160514 \nL 88.693125 119.072046 \n\" clip-path=\"url(#pac2bf5a2b0)\" style=\"fill: none; stroke-dasharray: 5.55,2.4; stroke-dashoffset: 0; stroke: #ff7f0e; stroke-width: 1.5\"/>\n   </g>\n   <g id=\"line2d_49\">\n    <path d=\"M 49.633125 90.661458 \nL 69.163125 85.834749 \nL 88.693125 83.337732 \n\" clip-path=\"url(#pac2bf5a2b0)\" style=\"fill: none; stroke-dasharray: 9.6,2.4,1.5,2.4; stroke-dashoffset: 0; stroke: #2ca02c; stroke-width: 1.5\"/>\n   </g>\n   <g id=\"line2d_50\">\n    <path d=\"M 34.923295 13.5 \nL 44.646742 91.303184 \nL 54.370189 105.563021 \nL 64.093636 115.208175 \nL 73.817082 119.154964 \nL 83.540529 122.052296 \nL 93.263976 125.380191 \nL 102.987423 127.230596 \n\" clip-path=\"url(#pac2bf5a2b0)\" style=\"fill: none; stroke: #1f77b4; stroke-width: 1.5; stroke-linecap: square\"/>\n   </g>\n   <g id=\"line2d_51\">\n    <path d=\"M 49.633125 97.083713 \nL 69.163125 112.160514 \nL 88.693125 119.072046 \nL 108.223125 123.167939 \n\" clip-path=\"url(#pac2bf5a2b0)\" style=\"fill: none; stroke-dasharray: 5.55,2.4; stroke-dashoffset: 0; stroke: #ff7f0e; stroke-width: 1.5\"/>\n   </g>\n   <g id=\"line2d_52\">\n    <path d=\"M 49.633125 90.661458 \nL 69.163125 85.834749 \nL 88.693125 83.337732 \n\" clip-path=\"url(#pac2bf5a2b0)\" style=\"fill: none; stroke-dasharray: 9.6,2.4,1.5,2.4; stroke-dashoffset: 0; stroke: #2ca02c; stroke-width: 1.5\"/>\n   </g>\n   <g id=\"line2d_53\">\n    <path d=\"M 34.923295 13.5 \nL 44.646742 91.303184 \nL 54.370189 105.563021 \nL 64.093636 115.208175 \nL 73.817082 119.154964 \nL 83.540529 122.052296 \nL 93.263976 125.380191 \nL 102.987423 127.230596 \n\" clip-path=\"url(#pac2bf5a2b0)\" style=\"fill: none; stroke: #1f77b4; stroke-width: 1.5; stroke-linecap: square\"/>\n   </g>\n   <g id=\"line2d_54\">\n    <path d=\"M 49.633125 97.083713 \nL 69.163125 112.160514 \nL 88.693125 119.072046 \nL 108.223125 123.167939 \n\" clip-path=\"url(#pac2bf5a2b0)\" style=\"fill: none; stroke-dasharray: 5.55,2.4; stroke-dashoffset: 0; stroke: #ff7f0e; stroke-width: 1.5\"/>\n   </g>\n   <g id=\"line2d_55\">\n    <path d=\"M 49.633125 90.661458 \nL 69.163125 85.834749 \nL 88.693125 83.337732 \nL 108.223125 81.11101 \n\" clip-path=\"url(#pac2bf5a2b0)\" style=\"fill: none; stroke-dasharray: 9.6,2.4,1.5,2.4; stroke-dashoffset: 0; stroke: #2ca02c; stroke-width: 1.5\"/>\n   </g>\n   <g id=\"line2d_56\">\n    <path d=\"M 34.923295 13.5 \nL 44.646742 91.303184 \nL 54.370189 105.563021 \nL 64.093636 115.208175 \nL 73.817082 119.154964 \nL 83.540529 122.052296 \nL 93.263976 125.380191 \nL 102.987423 127.230596 \nL 112.71087 129.579083 \n\" clip-path=\"url(#pac2bf5a2b0)\" style=\"fill: none; stroke: #1f77b4; stroke-width: 1.5; stroke-linecap: square\"/>\n   </g>\n   <g id=\"line2d_57\">\n    <path d=\"M 49.633125 97.083713 \nL 69.163125 112.160514 \nL 88.693125 119.072046 \nL 108.223125 123.167939 \n\" clip-path=\"url(#pac2bf5a2b0)\" style=\"fill: none; stroke-dasharray: 5.55,2.4; stroke-dashoffset: 0; stroke: #ff7f0e; stroke-width: 1.5\"/>\n   </g>\n   <g id=\"line2d_58\">\n    <path d=\"M 49.633125 90.661458 \nL 69.163125 85.834749 \nL 88.693125 83.337732 \nL 108.223125 81.11101 \n\" clip-path=\"url(#pac2bf5a2b0)\" style=\"fill: none; stroke-dasharray: 9.6,2.4,1.5,2.4; stroke-dashoffset: 0; stroke: #2ca02c; stroke-width: 1.5\"/>\n   </g>\n   <g id=\"line2d_59\">\n    <path d=\"M 34.923295 13.5 \nL 44.646742 91.303184 \nL 54.370189 105.563021 \nL 64.093636 115.208175 \nL 73.817082 119.154964 \nL 83.540529 122.052296 \nL 93.263976 125.380191 \nL 102.987423 127.230596 \nL 112.71087 129.579083 \nL 122.434316 130.549688 \n\" clip-path=\"url(#pac2bf5a2b0)\" style=\"fill: none; stroke: #1f77b4; stroke-width: 1.5; stroke-linecap: square\"/>\n   </g>\n   <g id=\"line2d_60\">\n    <path d=\"M 49.633125 97.083713 \nL 69.163125 112.160514 \nL 88.693125 119.072046 \nL 108.223125 123.167939 \n\" clip-path=\"url(#pac2bf5a2b0)\" style=\"fill: none; stroke-dasharray: 5.55,2.4; stroke-dashoffset: 0; stroke: #ff7f0e; stroke-width: 1.5\"/>\n   </g>\n   <g id=\"line2d_61\">\n    <path d=\"M 49.633125 90.661458 \nL 69.163125 85.834749 \nL 88.693125 83.337732 \nL 108.223125 81.11101 \n\" clip-path=\"url(#pac2bf5a2b0)\" style=\"fill: none; stroke-dasharray: 9.6,2.4,1.5,2.4; stroke-dashoffset: 0; stroke: #2ca02c; stroke-width: 1.5\"/>\n   </g>\n   <g id=\"line2d_62\">\n    <path d=\"M 34.923295 13.5 \nL 44.646742 91.303184 \nL 54.370189 105.563021 \nL 64.093636 115.208175 \nL 73.817082 119.154964 \nL 83.540529 122.052296 \nL 93.263976 125.380191 \nL 102.987423 127.230596 \nL 112.71087 129.579083 \nL 122.434316 130.549688 \n\" clip-path=\"url(#pac2bf5a2b0)\" style=\"fill: none; stroke: #1f77b4; stroke-width: 1.5; stroke-linecap: square\"/>\n   </g>\n   <g id=\"line2d_63\">\n    <path d=\"M 49.633125 97.083713 \nL 69.163125 112.160514 \nL 88.693125 119.072046 \nL 108.223125 123.167939 \nL 127.753125 123.446361 \n\" clip-path=\"url(#pac2bf5a2b0)\" style=\"fill: none; stroke-dasharray: 5.55,2.4; stroke-dashoffset: 0; stroke: #ff7f0e; stroke-width: 1.5\"/>\n   </g>\n   <g id=\"line2d_64\">\n    <path d=\"M 49.633125 90.661458 \nL 69.163125 85.834749 \nL 88.693125 83.337732 \nL 108.223125 81.11101 \n\" clip-path=\"url(#pac2bf5a2b0)\" style=\"fill: none; stroke-dasharray: 9.6,2.4,1.5,2.4; stroke-dashoffset: 0; stroke: #2ca02c; stroke-width: 1.5\"/>\n   </g>\n   <g id=\"line2d_65\">\n    <path d=\"M 34.923295 13.5 \nL 44.646742 91.303184 \nL 54.370189 105.563021 \nL 64.093636 115.208175 \nL 73.817082 119.154964 \nL 83.540529 122.052296 \nL 93.263976 125.380191 \nL 102.987423 127.230596 \nL 112.71087 129.579083 \nL 122.434316 130.549688 \n\" clip-path=\"url(#pac2bf5a2b0)\" style=\"fill: none; stroke: #1f77b4; stroke-width: 1.5; stroke-linecap: square\"/>\n   </g>\n   <g id=\"line2d_66\">\n    <path d=\"M 49.633125 97.083713 \nL 69.163125 112.160514 \nL 88.693125 119.072046 \nL 108.223125 123.167939 \nL 127.753125 123.446361 \n\" clip-path=\"url(#pac2bf5a2b0)\" style=\"fill: none; stroke-dasharray: 5.55,2.4; stroke-dashoffset: 0; stroke: #ff7f0e; stroke-width: 1.5\"/>\n   </g>\n   <g id=\"line2d_67\">\n    <path d=\"M 49.633125 90.661458 \nL 69.163125 85.834749 \nL 88.693125 83.337732 \nL 108.223125 81.11101 \nL 127.753125 82.436746 \n\" clip-path=\"url(#pac2bf5a2b0)\" style=\"fill: none; stroke-dasharray: 9.6,2.4,1.5,2.4; stroke-dashoffset: 0; stroke: #2ca02c; stroke-width: 1.5\"/>\n   </g>\n   <g id=\"line2d_68\">\n    <path d=\"M 34.923295 13.5 \nL 44.646742 91.303184 \nL 54.370189 105.563021 \nL 64.093636 115.208175 \nL 73.817082 119.154964 \nL 83.540529 122.052296 \nL 93.263976 125.380191 \nL 102.987423 127.230596 \nL 112.71087 129.579083 \nL 122.434316 130.549688 \nL 132.157763 132.891949 \n\" clip-path=\"url(#pac2bf5a2b0)\" style=\"fill: none; stroke: #1f77b4; stroke-width: 1.5; stroke-linecap: square\"/>\n   </g>\n   <g id=\"line2d_69\">\n    <path d=\"M 49.633125 97.083713 \nL 69.163125 112.160514 \nL 88.693125 119.072046 \nL 108.223125 123.167939 \nL 127.753125 123.446361 \n\" clip-path=\"url(#pac2bf5a2b0)\" style=\"fill: none; stroke-dasharray: 5.55,2.4; stroke-dashoffset: 0; stroke: #ff7f0e; stroke-width: 1.5\"/>\n   </g>\n   <g id=\"line2d_70\">\n    <path d=\"M 49.633125 90.661458 \nL 69.163125 85.834749 \nL 88.693125 83.337732 \nL 108.223125 81.11101 \nL 127.753125 82.436746 \n\" clip-path=\"url(#pac2bf5a2b0)\" style=\"fill: none; stroke-dasharray: 9.6,2.4,1.5,2.4; stroke-dashoffset: 0; stroke: #2ca02c; stroke-width: 1.5\"/>\n   </g>\n   <g id=\"line2d_71\">\n    <path d=\"M 34.923295 13.5 \nL 44.646742 91.303184 \nL 54.370189 105.563021 \nL 64.093636 115.208175 \nL 73.817082 119.154964 \nL 83.540529 122.052296 \nL 93.263976 125.380191 \nL 102.987423 127.230596 \nL 112.71087 129.579083 \nL 122.434316 130.549688 \nL 132.157763 132.891949 \nL 141.88121 132.676301 \n\" clip-path=\"url(#pac2bf5a2b0)\" style=\"fill: none; stroke: #1f77b4; stroke-width: 1.5; stroke-linecap: square\"/>\n   </g>\n   <g id=\"line2d_72\">\n    <path d=\"M 49.633125 97.083713 \nL 69.163125 112.160514 \nL 88.693125 119.072046 \nL 108.223125 123.167939 \nL 127.753125 123.446361 \n\" clip-path=\"url(#pac2bf5a2b0)\" style=\"fill: none; stroke-dasharray: 5.55,2.4; stroke-dashoffset: 0; stroke: #ff7f0e; stroke-width: 1.5\"/>\n   </g>\n   <g id=\"line2d_73\">\n    <path d=\"M 49.633125 90.661458 \nL 69.163125 85.834749 \nL 88.693125 83.337732 \nL 108.223125 81.11101 \nL 127.753125 82.436746 \n\" clip-path=\"url(#pac2bf5a2b0)\" style=\"fill: none; stroke-dasharray: 9.6,2.4,1.5,2.4; stroke-dashoffset: 0; stroke: #2ca02c; stroke-width: 1.5\"/>\n   </g>\n   <g id=\"line2d_74\">\n    <path d=\"M 34.923295 13.5 \nL 44.646742 91.303184 \nL 54.370189 105.563021 \nL 64.093636 115.208175 \nL 73.817082 119.154964 \nL 83.540529 122.052296 \nL 93.263976 125.380191 \nL 102.987423 127.230596 \nL 112.71087 129.579083 \nL 122.434316 130.549688 \nL 132.157763 132.891949 \nL 141.88121 132.676301 \n\" clip-path=\"url(#pac2bf5a2b0)\" style=\"fill: none; stroke: #1f77b4; stroke-width: 1.5; stroke-linecap: square\"/>\n   </g>\n   <g id=\"line2d_75\">\n    <path d=\"M 49.633125 97.083713 \nL 69.163125 112.160514 \nL 88.693125 119.072046 \nL 108.223125 123.167939 \nL 127.753125 123.446361 \nL 147.283125 125.657349 \n\" clip-path=\"url(#pac2bf5a2b0)\" style=\"fill: none; stroke-dasharray: 5.55,2.4; stroke-dashoffset: 0; stroke: #ff7f0e; stroke-width: 1.5\"/>\n   </g>\n   <g id=\"line2d_76\">\n    <path d=\"M 49.633125 90.661458 \nL 69.163125 85.834749 \nL 88.693125 83.337732 \nL 108.223125 81.11101 \nL 127.753125 82.436746 \n\" clip-path=\"url(#pac2bf5a2b0)\" style=\"fill: none; stroke-dasharray: 9.6,2.4,1.5,2.4; stroke-dashoffset: 0; stroke: #2ca02c; stroke-width: 1.5\"/>\n   </g>\n   <g id=\"line2d_77\">\n    <path d=\"M 34.923295 13.5 \nL 44.646742 91.303184 \nL 54.370189 105.563021 \nL 64.093636 115.208175 \nL 73.817082 119.154964 \nL 83.540529 122.052296 \nL 93.263976 125.380191 \nL 102.987423 127.230596 \nL 112.71087 129.579083 \nL 122.434316 130.549688 \nL 132.157763 132.891949 \nL 141.88121 132.676301 \n\" clip-path=\"url(#pac2bf5a2b0)\" style=\"fill: none; stroke: #1f77b4; stroke-width: 1.5; stroke-linecap: square\"/>\n   </g>\n   <g id=\"line2d_78\">\n    <path d=\"M 49.633125 97.083713 \nL 69.163125 112.160514 \nL 88.693125 119.072046 \nL 108.223125 123.167939 \nL 127.753125 123.446361 \nL 147.283125 125.657349 \n\" clip-path=\"url(#pac2bf5a2b0)\" style=\"fill: none; stroke-dasharray: 5.55,2.4; stroke-dashoffset: 0; stroke: #ff7f0e; stroke-width: 1.5\"/>\n   </g>\n   <g id=\"line2d_79\">\n    <path d=\"M 49.633125 90.661458 \nL 69.163125 85.834749 \nL 88.693125 83.337732 \nL 108.223125 81.11101 \nL 127.753125 82.436746 \nL 147.283125 81.21398 \n\" clip-path=\"url(#pac2bf5a2b0)\" style=\"fill: none; stroke-dasharray: 9.6,2.4,1.5,2.4; stroke-dashoffset: 0; stroke: #2ca02c; stroke-width: 1.5\"/>\n   </g>\n   <g id=\"line2d_80\">\n    <path d=\"M 34.923295 13.5 \nL 44.646742 91.303184 \nL 54.370189 105.563021 \nL 64.093636 115.208175 \nL 73.817082 119.154964 \nL 83.540529 122.052296 \nL 93.263976 125.380191 \nL 102.987423 127.230596 \nL 112.71087 129.579083 \nL 122.434316 130.549688 \nL 132.157763 132.891949 \nL 141.88121 132.676301 \nL 151.604657 134.206782 \n\" clip-path=\"url(#pac2bf5a2b0)\" style=\"fill: none; stroke: #1f77b4; stroke-width: 1.5; stroke-linecap: square\"/>\n   </g>\n   <g id=\"line2d_81\">\n    <path d=\"M 49.633125 97.083713 \nL 69.163125 112.160514 \nL 88.693125 119.072046 \nL 108.223125 123.167939 \nL 127.753125 123.446361 \nL 147.283125 125.657349 \n\" clip-path=\"url(#pac2bf5a2b0)\" style=\"fill: none; stroke-dasharray: 5.55,2.4; stroke-dashoffset: 0; stroke: #ff7f0e; stroke-width: 1.5\"/>\n   </g>\n   <g id=\"line2d_82\">\n    <path d=\"M 49.633125 90.661458 \nL 69.163125 85.834749 \nL 88.693125 83.337732 \nL 108.223125 81.11101 \nL 127.753125 82.436746 \nL 147.283125 81.21398 \n\" clip-path=\"url(#pac2bf5a2b0)\" style=\"fill: none; stroke-dasharray: 9.6,2.4,1.5,2.4; stroke-dashoffset: 0; stroke: #2ca02c; stroke-width: 1.5\"/>\n   </g>\n   <g id=\"line2d_83\">\n    <path d=\"M 34.923295 13.5 \nL 44.646742 91.303184 \nL 54.370189 105.563021 \nL 64.093636 115.208175 \nL 73.817082 119.154964 \nL 83.540529 122.052296 \nL 93.263976 125.380191 \nL 102.987423 127.230596 \nL 112.71087 129.579083 \nL 122.434316 130.549688 \nL 132.157763 132.891949 \nL 141.88121 132.676301 \nL 151.604657 134.206782 \nL 161.328104 134.818908 \n\" clip-path=\"url(#pac2bf5a2b0)\" style=\"fill: none; stroke: #1f77b4; stroke-width: 1.5; stroke-linecap: square\"/>\n   </g>\n   <g id=\"line2d_84\">\n    <path d=\"M 49.633125 97.083713 \nL 69.163125 112.160514 \nL 88.693125 119.072046 \nL 108.223125 123.167939 \nL 127.753125 123.446361 \nL 147.283125 125.657349 \n\" clip-path=\"url(#pac2bf5a2b0)\" style=\"fill: none; stroke-dasharray: 5.55,2.4; stroke-dashoffset: 0; stroke: #ff7f0e; stroke-width: 1.5\"/>\n   </g>\n   <g id=\"line2d_85\">\n    <path d=\"M 49.633125 90.661458 \nL 69.163125 85.834749 \nL 88.693125 83.337732 \nL 108.223125 81.11101 \nL 127.753125 82.436746 \nL 147.283125 81.21398 \n\" clip-path=\"url(#pac2bf5a2b0)\" style=\"fill: none; stroke-dasharray: 9.6,2.4,1.5,2.4; stroke-dashoffset: 0; stroke: #2ca02c; stroke-width: 1.5\"/>\n   </g>\n   <g id=\"line2d_86\">\n    <path d=\"M 34.923295 13.5 \nL 44.646742 91.303184 \nL 54.370189 105.563021 \nL 64.093636 115.208175 \nL 73.817082 119.154964 \nL 83.540529 122.052296 \nL 93.263976 125.380191 \nL 102.987423 127.230596 \nL 112.71087 129.579083 \nL 122.434316 130.549688 \nL 132.157763 132.891949 \nL 141.88121 132.676301 \nL 151.604657 134.206782 \nL 161.328104 134.818908 \n\" clip-path=\"url(#pac2bf5a2b0)\" style=\"fill: none; stroke: #1f77b4; stroke-width: 1.5; stroke-linecap: square\"/>\n   </g>\n   <g id=\"line2d_87\">\n    <path d=\"M 49.633125 97.083713 \nL 69.163125 112.160514 \nL 88.693125 119.072046 \nL 108.223125 123.167939 \nL 127.753125 123.446361 \nL 147.283125 125.657349 \nL 166.813125 130.751212 \n\" clip-path=\"url(#pac2bf5a2b0)\" style=\"fill: none; stroke-dasharray: 5.55,2.4; stroke-dashoffset: 0; stroke: #ff7f0e; stroke-width: 1.5\"/>\n   </g>\n   <g id=\"line2d_88\">\n    <path d=\"M 49.633125 90.661458 \nL 69.163125 85.834749 \nL 88.693125 83.337732 \nL 108.223125 81.11101 \nL 127.753125 82.436746 \nL 147.283125 81.21398 \n\" clip-path=\"url(#pac2bf5a2b0)\" style=\"fill: none; stroke-dasharray: 9.6,2.4,1.5,2.4; stroke-dashoffset: 0; stroke: #2ca02c; stroke-width: 1.5\"/>\n   </g>\n   <g id=\"line2d_89\">\n    <path d=\"M 34.923295 13.5 \nL 44.646742 91.303184 \nL 54.370189 105.563021 \nL 64.093636 115.208175 \nL 73.817082 119.154964 \nL 83.540529 122.052296 \nL 93.263976 125.380191 \nL 102.987423 127.230596 \nL 112.71087 129.579083 \nL 122.434316 130.549688 \nL 132.157763 132.891949 \nL 141.88121 132.676301 \nL 151.604657 134.206782 \nL 161.328104 134.818908 \n\" clip-path=\"url(#pac2bf5a2b0)\" style=\"fill: none; stroke: #1f77b4; stroke-width: 1.5; stroke-linecap: square\"/>\n   </g>\n   <g id=\"line2d_90\">\n    <path d=\"M 49.633125 97.083713 \nL 69.163125 112.160514 \nL 88.693125 119.072046 \nL 108.223125 123.167939 \nL 127.753125 123.446361 \nL 147.283125 125.657349 \nL 166.813125 130.751212 \n\" clip-path=\"url(#pac2bf5a2b0)\" style=\"fill: none; stroke-dasharray: 5.55,2.4; stroke-dashoffset: 0; stroke: #ff7f0e; stroke-width: 1.5\"/>\n   </g>\n   <g id=\"line2d_91\">\n    <path d=\"M 49.633125 90.661458 \nL 69.163125 85.834749 \nL 88.693125 83.337732 \nL 108.223125 81.11101 \nL 127.753125 82.436746 \nL 147.283125 81.21398 \nL 166.813125 78.292212 \n\" clip-path=\"url(#pac2bf5a2b0)\" style=\"fill: none; stroke-dasharray: 9.6,2.4,1.5,2.4; stroke-dashoffset: 0; stroke: #2ca02c; stroke-width: 1.5\"/>\n   </g>\n   <g id=\"line2d_92\">\n    <path d=\"M 34.923295 13.5 \nL 44.646742 91.303184 \nL 54.370189 105.563021 \nL 64.093636 115.208175 \nL 73.817082 119.154964 \nL 83.540529 122.052296 \nL 93.263976 125.380191 \nL 102.987423 127.230596 \nL 112.71087 129.579083 \nL 122.434316 130.549688 \nL 132.157763 132.891949 \nL 141.88121 132.676301 \nL 151.604657 134.206782 \nL 161.328104 134.818908 \nL 171.051551 135.860374 \n\" clip-path=\"url(#pac2bf5a2b0)\" style=\"fill: none; stroke: #1f77b4; stroke-width: 1.5; stroke-linecap: square\"/>\n   </g>\n   <g id=\"line2d_93\">\n    <path d=\"M 49.633125 97.083713 \nL 69.163125 112.160514 \nL 88.693125 119.072046 \nL 108.223125 123.167939 \nL 127.753125 123.446361 \nL 147.283125 125.657349 \nL 166.813125 130.751212 \n\" clip-path=\"url(#pac2bf5a2b0)\" style=\"fill: none; stroke-dasharray: 5.55,2.4; stroke-dashoffset: 0; stroke: #ff7f0e; stroke-width: 1.5\"/>\n   </g>\n   <g id=\"line2d_94\">\n    <path d=\"M 49.633125 90.661458 \nL 69.163125 85.834749 \nL 88.693125 83.337732 \nL 108.223125 81.11101 \nL 127.753125 82.436746 \nL 147.283125 81.21398 \nL 166.813125 78.292212 \n\" clip-path=\"url(#pac2bf5a2b0)\" style=\"fill: none; stroke-dasharray: 9.6,2.4,1.5,2.4; stroke-dashoffset: 0; stroke: #2ca02c; stroke-width: 1.5\"/>\n   </g>\n   <g id=\"line2d_95\">\n    <path d=\"M 34.923295 13.5 \nL 44.646742 91.303184 \nL 54.370189 105.563021 \nL 64.093636 115.208175 \nL 73.817082 119.154964 \nL 83.540529 122.052296 \nL 93.263976 125.380191 \nL 102.987423 127.230596 \nL 112.71087 129.579083 \nL 122.434316 130.549688 \nL 132.157763 132.891949 \nL 141.88121 132.676301 \nL 151.604657 134.206782 \nL 161.328104 134.818908 \nL 171.051551 135.860374 \nL 180.774997 136.365065 \n\" clip-path=\"url(#pac2bf5a2b0)\" style=\"fill: none; stroke: #1f77b4; stroke-width: 1.5; stroke-linecap: square\"/>\n   </g>\n   <g id=\"line2d_96\">\n    <path d=\"M 49.633125 97.083713 \nL 69.163125 112.160514 \nL 88.693125 119.072046 \nL 108.223125 123.167939 \nL 127.753125 123.446361 \nL 147.283125 125.657349 \nL 166.813125 130.751212 \n\" clip-path=\"url(#pac2bf5a2b0)\" style=\"fill: none; stroke-dasharray: 5.55,2.4; stroke-dashoffset: 0; stroke: #ff7f0e; stroke-width: 1.5\"/>\n   </g>\n   <g id=\"line2d_97\">\n    <path d=\"M 49.633125 90.661458 \nL 69.163125 85.834749 \nL 88.693125 83.337732 \nL 108.223125 81.11101 \nL 127.753125 82.436746 \nL 147.283125 81.21398 \nL 166.813125 78.292212 \n\" clip-path=\"url(#pac2bf5a2b0)\" style=\"fill: none; stroke-dasharray: 9.6,2.4,1.5,2.4; stroke-dashoffset: 0; stroke: #2ca02c; stroke-width: 1.5\"/>\n   </g>\n   <g id=\"line2d_98\">\n    <path d=\"M 34.923295 13.5 \nL 44.646742 91.303184 \nL 54.370189 105.563021 \nL 64.093636 115.208175 \nL 73.817082 119.154964 \nL 83.540529 122.052296 \nL 93.263976 125.380191 \nL 102.987423 127.230596 \nL 112.71087 129.579083 \nL 122.434316 130.549688 \nL 132.157763 132.891949 \nL 141.88121 132.676301 \nL 151.604657 134.206782 \nL 161.328104 134.818908 \nL 171.051551 135.860374 \nL 180.774997 136.365065 \n\" clip-path=\"url(#pac2bf5a2b0)\" style=\"fill: none; stroke: #1f77b4; stroke-width: 1.5; stroke-linecap: square\"/>\n   </g>\n   <g id=\"line2d_99\">\n    <path d=\"M 49.633125 97.083713 \nL 69.163125 112.160514 \nL 88.693125 119.072046 \nL 108.223125 123.167939 \nL 127.753125 123.446361 \nL 147.283125 125.657349 \nL 166.813125 130.751212 \nL 186.343125 129.735929 \n\" clip-path=\"url(#pac2bf5a2b0)\" style=\"fill: none; stroke-dasharray: 5.55,2.4; stroke-dashoffset: 0; stroke: #ff7f0e; stroke-width: 1.5\"/>\n   </g>\n   <g id=\"line2d_100\">\n    <path d=\"M 49.633125 90.661458 \nL 69.163125 85.834749 \nL 88.693125 83.337732 \nL 108.223125 81.11101 \nL 127.753125 82.436746 \nL 147.283125 81.21398 \nL 166.813125 78.292212 \n\" clip-path=\"url(#pac2bf5a2b0)\" style=\"fill: none; stroke-dasharray: 9.6,2.4,1.5,2.4; stroke-dashoffset: 0; stroke: #2ca02c; stroke-width: 1.5\"/>\n   </g>\n   <g id=\"line2d_101\">\n    <path d=\"M 34.923295 13.5 \nL 44.646742 91.303184 \nL 54.370189 105.563021 \nL 64.093636 115.208175 \nL 73.817082 119.154964 \nL 83.540529 122.052296 \nL 93.263976 125.380191 \nL 102.987423 127.230596 \nL 112.71087 129.579083 \nL 122.434316 130.549688 \nL 132.157763 132.891949 \nL 141.88121 132.676301 \nL 151.604657 134.206782 \nL 161.328104 134.818908 \nL 171.051551 135.860374 \nL 180.774997 136.365065 \n\" clip-path=\"url(#pac2bf5a2b0)\" style=\"fill: none; stroke: #1f77b4; stroke-width: 1.5; stroke-linecap: square\"/>\n   </g>\n   <g id=\"line2d_102\">\n    <path d=\"M 49.633125 97.083713 \nL 69.163125 112.160514 \nL 88.693125 119.072046 \nL 108.223125 123.167939 \nL 127.753125 123.446361 \nL 147.283125 125.657349 \nL 166.813125 130.751212 \nL 186.343125 129.735929 \n\" clip-path=\"url(#pac2bf5a2b0)\" style=\"fill: none; stroke-dasharray: 5.55,2.4; stroke-dashoffset: 0; stroke: #ff7f0e; stroke-width: 1.5\"/>\n   </g>\n   <g id=\"line2d_103\">\n    <path d=\"M 49.633125 90.661458 \nL 69.163125 85.834749 \nL 88.693125 83.337732 \nL 108.223125 81.11101 \nL 127.753125 82.436746 \nL 147.283125 81.21398 \nL 166.813125 78.292212 \nL 186.343125 78.768447 \n\" clip-path=\"url(#pac2bf5a2b0)\" style=\"fill: none; stroke-dasharray: 9.6,2.4,1.5,2.4; stroke-dashoffset: 0; stroke: #2ca02c; stroke-width: 1.5\"/>\n   </g>\n   <g id=\"line2d_104\">\n    <path d=\"M 34.923295 13.5 \nL 44.646742 91.303184 \nL 54.370189 105.563021 \nL 64.093636 115.208175 \nL 73.817082 119.154964 \nL 83.540529 122.052296 \nL 93.263976 125.380191 \nL 102.987423 127.230596 \nL 112.71087 129.579083 \nL 122.434316 130.549688 \nL 132.157763 132.891949 \nL 141.88121 132.676301 \nL 151.604657 134.206782 \nL 161.328104 134.818908 \nL 171.051551 135.860374 \nL 180.774997 136.365065 \nL 190.498444 138.106256 \n\" clip-path=\"url(#pac2bf5a2b0)\" style=\"fill: none; stroke: #1f77b4; stroke-width: 1.5; stroke-linecap: square\"/>\n   </g>\n   <g id=\"line2d_105\">\n    <path d=\"M 49.633125 97.083713 \nL 69.163125 112.160514 \nL 88.693125 119.072046 \nL 108.223125 123.167939 \nL 127.753125 123.446361 \nL 147.283125 125.657349 \nL 166.813125 130.751212 \nL 186.343125 129.735929 \n\" clip-path=\"url(#pac2bf5a2b0)\" style=\"fill: none; stroke-dasharray: 5.55,2.4; stroke-dashoffset: 0; stroke: #ff7f0e; stroke-width: 1.5\"/>\n   </g>\n   <g id=\"line2d_106\">\n    <path d=\"M 49.633125 90.661458 \nL 69.163125 85.834749 \nL 88.693125 83.337732 \nL 108.223125 81.11101 \nL 127.753125 82.436746 \nL 147.283125 81.21398 \nL 166.813125 78.292212 \nL 186.343125 78.768447 \n\" clip-path=\"url(#pac2bf5a2b0)\" style=\"fill: none; stroke-dasharray: 9.6,2.4,1.5,2.4; stroke-dashoffset: 0; stroke: #2ca02c; stroke-width: 1.5\"/>\n   </g>\n   <g id=\"line2d_107\">\n    <path d=\"M 34.923295 13.5 \nL 44.646742 91.303184 \nL 54.370189 105.563021 \nL 64.093636 115.208175 \nL 73.817082 119.154964 \nL 83.540529 122.052296 \nL 93.263976 125.380191 \nL 102.987423 127.230596 \nL 112.71087 129.579083 \nL 122.434316 130.549688 \nL 132.157763 132.891949 \nL 141.88121 132.676301 \nL 151.604657 134.206782 \nL 161.328104 134.818908 \nL 171.051551 135.860374 \nL 180.774997 136.365065 \nL 190.498444 138.106256 \nL 200.221891 136.885484 \n\" clip-path=\"url(#pac2bf5a2b0)\" style=\"fill: none; stroke: #1f77b4; stroke-width: 1.5; stroke-linecap: square\"/>\n   </g>\n   <g id=\"line2d_108\">\n    <path d=\"M 49.633125 97.083713 \nL 69.163125 112.160514 \nL 88.693125 119.072046 \nL 108.223125 123.167939 \nL 127.753125 123.446361 \nL 147.283125 125.657349 \nL 166.813125 130.751212 \nL 186.343125 129.735929 \n\" clip-path=\"url(#pac2bf5a2b0)\" style=\"fill: none; stroke-dasharray: 5.55,2.4; stroke-dashoffset: 0; stroke: #ff7f0e; stroke-width: 1.5\"/>\n   </g>\n   <g id=\"line2d_109\">\n    <path d=\"M 49.633125 90.661458 \nL 69.163125 85.834749 \nL 88.693125 83.337732 \nL 108.223125 81.11101 \nL 127.753125 82.436746 \nL 147.283125 81.21398 \nL 166.813125 78.292212 \nL 186.343125 78.768447 \n\" clip-path=\"url(#pac2bf5a2b0)\" style=\"fill: none; stroke-dasharray: 9.6,2.4,1.5,2.4; stroke-dashoffset: 0; stroke: #2ca02c; stroke-width: 1.5\"/>\n   </g>\n   <g id=\"line2d_110\">\n    <path d=\"M 34.923295 13.5 \nL 44.646742 91.303184 \nL 54.370189 105.563021 \nL 64.093636 115.208175 \nL 73.817082 119.154964 \nL 83.540529 122.052296 \nL 93.263976 125.380191 \nL 102.987423 127.230596 \nL 112.71087 129.579083 \nL 122.434316 130.549688 \nL 132.157763 132.891949 \nL 141.88121 132.676301 \nL 151.604657 134.206782 \nL 161.328104 134.818908 \nL 171.051551 135.860374 \nL 180.774997 136.365065 \nL 190.498444 138.106256 \nL 200.221891 136.885484 \n\" clip-path=\"url(#pac2bf5a2b0)\" style=\"fill: none; stroke: #1f77b4; stroke-width: 1.5; stroke-linecap: square\"/>\n   </g>\n   <g id=\"line2d_111\">\n    <path d=\"M 49.633125 97.083713 \nL 69.163125 112.160514 \nL 88.693125 119.072046 \nL 108.223125 123.167939 \nL 127.753125 123.446361 \nL 147.283125 125.657349 \nL 166.813125 130.751212 \nL 186.343125 129.735929 \nL 205.873125 134.175184 \n\" clip-path=\"url(#pac2bf5a2b0)\" style=\"fill: none; stroke-dasharray: 5.55,2.4; stroke-dashoffset: 0; stroke: #ff7f0e; stroke-width: 1.5\"/>\n   </g>\n   <g id=\"line2d_112\">\n    <path d=\"M 49.633125 90.661458 \nL 69.163125 85.834749 \nL 88.693125 83.337732 \nL 108.223125 81.11101 \nL 127.753125 82.436746 \nL 147.283125 81.21398 \nL 166.813125 78.292212 \nL 186.343125 78.768447 \n\" clip-path=\"url(#pac2bf5a2b0)\" style=\"fill: none; stroke-dasharray: 9.6,2.4,1.5,2.4; stroke-dashoffset: 0; stroke: #2ca02c; stroke-width: 1.5\"/>\n   </g>\n   <g id=\"line2d_113\">\n    <path d=\"M 34.923295 13.5 \nL 44.646742 91.303184 \nL 54.370189 105.563021 \nL 64.093636 115.208175 \nL 73.817082 119.154964 \nL 83.540529 122.052296 \nL 93.263976 125.380191 \nL 102.987423 127.230596 \nL 112.71087 129.579083 \nL 122.434316 130.549688 \nL 132.157763 132.891949 \nL 141.88121 132.676301 \nL 151.604657 134.206782 \nL 161.328104 134.818908 \nL 171.051551 135.860374 \nL 180.774997 136.365065 \nL 190.498444 138.106256 \nL 200.221891 136.885484 \n\" clip-path=\"url(#pac2bf5a2b0)\" style=\"fill: none; stroke: #1f77b4; stroke-width: 1.5; stroke-linecap: square\"/>\n   </g>\n   <g id=\"line2d_114\">\n    <path d=\"M 49.633125 97.083713 \nL 69.163125 112.160514 \nL 88.693125 119.072046 \nL 108.223125 123.167939 \nL 127.753125 123.446361 \nL 147.283125 125.657349 \nL 166.813125 130.751212 \nL 186.343125 129.735929 \nL 205.873125 134.175184 \n\" clip-path=\"url(#pac2bf5a2b0)\" style=\"fill: none; stroke-dasharray: 5.55,2.4; stroke-dashoffset: 0; stroke: #ff7f0e; stroke-width: 1.5\"/>\n   </g>\n   <g id=\"line2d_115\">\n    <path d=\"M 49.633125 90.661458 \nL 69.163125 85.834749 \nL 88.693125 83.337732 \nL 108.223125 81.11101 \nL 127.753125 82.436746 \nL 147.283125 81.21398 \nL 166.813125 78.292212 \nL 186.343125 78.768447 \nL 205.873125 77.056574 \n\" clip-path=\"url(#pac2bf5a2b0)\" style=\"fill: none; stroke-dasharray: 9.6,2.4,1.5,2.4; stroke-dashoffset: 0; stroke: #2ca02c; stroke-width: 1.5\"/>\n   </g>\n   <g id=\"line2d_116\">\n    <path d=\"M 34.923295 13.5 \nL 44.646742 91.303184 \nL 54.370189 105.563021 \nL 64.093636 115.208175 \nL 73.817082 119.154964 \nL 83.540529 122.052296 \nL 93.263976 125.380191 \nL 102.987423 127.230596 \nL 112.71087 129.579083 \nL 122.434316 130.549688 \nL 132.157763 132.891949 \nL 141.88121 132.676301 \nL 151.604657 134.206782 \nL 161.328104 134.818908 \nL 171.051551 135.860374 \nL 180.774997 136.365065 \nL 190.498444 138.106256 \nL 200.221891 136.885484 \nL 209.945338 138.370174 \n\" clip-path=\"url(#pac2bf5a2b0)\" style=\"fill: none; stroke: #1f77b4; stroke-width: 1.5; stroke-linecap: square\"/>\n   </g>\n   <g id=\"line2d_117\">\n    <path d=\"M 49.633125 97.083713 \nL 69.163125 112.160514 \nL 88.693125 119.072046 \nL 108.223125 123.167939 \nL 127.753125 123.446361 \nL 147.283125 125.657349 \nL 166.813125 130.751212 \nL 186.343125 129.735929 \nL 205.873125 134.175184 \n\" clip-path=\"url(#pac2bf5a2b0)\" style=\"fill: none; stroke-dasharray: 5.55,2.4; stroke-dashoffset: 0; stroke: #ff7f0e; stroke-width: 1.5\"/>\n   </g>\n   <g id=\"line2d_118\">\n    <path d=\"M 49.633125 90.661458 \nL 69.163125 85.834749 \nL 88.693125 83.337732 \nL 108.223125 81.11101 \nL 127.753125 82.436746 \nL 147.283125 81.21398 \nL 166.813125 78.292212 \nL 186.343125 78.768447 \nL 205.873125 77.056574 \n\" clip-path=\"url(#pac2bf5a2b0)\" style=\"fill: none; stroke-dasharray: 9.6,2.4,1.5,2.4; stroke-dashoffset: 0; stroke: #2ca02c; stroke-width: 1.5\"/>\n   </g>\n   <g id=\"line2d_119\">\n    <path d=\"M 34.923295 13.5 \nL 44.646742 91.303184 \nL 54.370189 105.563021 \nL 64.093636 115.208175 \nL 73.817082 119.154964 \nL 83.540529 122.052296 \nL 93.263976 125.380191 \nL 102.987423 127.230596 \nL 112.71087 129.579083 \nL 122.434316 130.549688 \nL 132.157763 132.891949 \nL 141.88121 132.676301 \nL 151.604657 134.206782 \nL 161.328104 134.818908 \nL 171.051551 135.860374 \nL 180.774997 136.365065 \nL 190.498444 138.106256 \nL 200.221891 136.885484 \nL 209.945338 138.370174 \nL 219.668785 139.5 \n\" clip-path=\"url(#pac2bf5a2b0)\" style=\"fill: none; stroke: #1f77b4; stroke-width: 1.5; stroke-linecap: square\"/>\n   </g>\n   <g id=\"line2d_120\">\n    <path d=\"M 49.633125 97.083713 \nL 69.163125 112.160514 \nL 88.693125 119.072046 \nL 108.223125 123.167939 \nL 127.753125 123.446361 \nL 147.283125 125.657349 \nL 166.813125 130.751212 \nL 186.343125 129.735929 \nL 205.873125 134.175184 \n\" clip-path=\"url(#pac2bf5a2b0)\" style=\"fill: none; stroke-dasharray: 5.55,2.4; stroke-dashoffset: 0; stroke: #ff7f0e; stroke-width: 1.5\"/>\n   </g>\n   <g id=\"line2d_121\">\n    <path d=\"M 49.633125 90.661458 \nL 69.163125 85.834749 \nL 88.693125 83.337732 \nL 108.223125 81.11101 \nL 127.753125 82.436746 \nL 147.283125 81.21398 \nL 166.813125 78.292212 \nL 186.343125 78.768447 \nL 205.873125 77.056574 \n\" clip-path=\"url(#pac2bf5a2b0)\" style=\"fill: none; stroke-dasharray: 9.6,2.4,1.5,2.4; stroke-dashoffset: 0; stroke: #2ca02c; stroke-width: 1.5\"/>\n   </g>\n   <g id=\"line2d_122\">\n    <path d=\"M 34.923295 13.5 \nL 44.646742 91.303184 \nL 54.370189 105.563021 \nL 64.093636 115.208175 \nL 73.817082 119.154964 \nL 83.540529 122.052296 \nL 93.263976 125.380191 \nL 102.987423 127.230596 \nL 112.71087 129.579083 \nL 122.434316 130.549688 \nL 132.157763 132.891949 \nL 141.88121 132.676301 \nL 151.604657 134.206782 \nL 161.328104 134.818908 \nL 171.051551 135.860374 \nL 180.774997 136.365065 \nL 190.498444 138.106256 \nL 200.221891 136.885484 \nL 209.945338 138.370174 \nL 219.668785 139.5 \n\" clip-path=\"url(#pac2bf5a2b0)\" style=\"fill: none; stroke: #1f77b4; stroke-width: 1.5; stroke-linecap: square\"/>\n   </g>\n   <g id=\"line2d_123\">\n    <path d=\"M 49.633125 97.083713 \nL 69.163125 112.160514 \nL 88.693125 119.072046 \nL 108.223125 123.167939 \nL 127.753125 123.446361 \nL 147.283125 125.657349 \nL 166.813125 130.751212 \nL 186.343125 129.735929 \nL 205.873125 134.175184 \nL 225.403125 134.4104 \n\" clip-path=\"url(#pac2bf5a2b0)\" style=\"fill: none; stroke-dasharray: 5.55,2.4; stroke-dashoffset: 0; stroke: #ff7f0e; stroke-width: 1.5\"/>\n   </g>\n   <g id=\"line2d_124\">\n    <path d=\"M 49.633125 90.661458 \nL 69.163125 85.834749 \nL 88.693125 83.337732 \nL 108.223125 81.11101 \nL 127.753125 82.436746 \nL 147.283125 81.21398 \nL 166.813125 78.292212 \nL 186.343125 78.768447 \nL 205.873125 77.056574 \n\" clip-path=\"url(#pac2bf5a2b0)\" style=\"fill: none; stroke-dasharray: 9.6,2.4,1.5,2.4; stroke-dashoffset: 0; stroke: #2ca02c; stroke-width: 1.5\"/>\n   </g>\n   <g id=\"line2d_125\">\n    <path d=\"M 34.923295 13.5 \nL 44.646742 91.303184 \nL 54.370189 105.563021 \nL 64.093636 115.208175 \nL 73.817082 119.154964 \nL 83.540529 122.052296 \nL 93.263976 125.380191 \nL 102.987423 127.230596 \nL 112.71087 129.579083 \nL 122.434316 130.549688 \nL 132.157763 132.891949 \nL 141.88121 132.676301 \nL 151.604657 134.206782 \nL 161.328104 134.818908 \nL 171.051551 135.860374 \nL 180.774997 136.365065 \nL 190.498444 138.106256 \nL 200.221891 136.885484 \nL 209.945338 138.370174 \nL 219.668785 139.5 \n\" clip-path=\"url(#pac2bf5a2b0)\" style=\"fill: none; stroke: #1f77b4; stroke-width: 1.5; stroke-linecap: square\"/>\n   </g>\n   <g id=\"line2d_126\">\n    <path d=\"M 49.633125 97.083713 \nL 69.163125 112.160514 \nL 88.693125 119.072046 \nL 108.223125 123.167939 \nL 127.753125 123.446361 \nL 147.283125 125.657349 \nL 166.813125 130.751212 \nL 186.343125 129.735929 \nL 205.873125 134.175184 \nL 225.403125 134.4104 \n\" clip-path=\"url(#pac2bf5a2b0)\" style=\"fill: none; stroke-dasharray: 5.55,2.4; stroke-dashoffset: 0; stroke: #ff7f0e; stroke-width: 1.5\"/>\n   </g>\n   <g id=\"line2d_127\">\n    <path d=\"M 49.633125 90.661458 \nL 69.163125 85.834749 \nL 88.693125 83.337732 \nL 108.223125 81.11101 \nL 127.753125 82.436746 \nL 147.283125 81.21398 \nL 166.813125 78.292212 \nL 186.343125 78.768447 \nL 205.873125 77.056574 \nL 225.403125 77.159544 \n\" clip-path=\"url(#pac2bf5a2b0)\" style=\"fill: none; stroke-dasharray: 9.6,2.4,1.5,2.4; stroke-dashoffset: 0; stroke: #2ca02c; stroke-width: 1.5\"/>\n   </g>\n   <g id=\"patch_3\">\n    <path d=\"M 30.103125 145.8 \nL 30.103125 7.2 \n\" style=\"fill: none; stroke: #000000; stroke-width: 0.8; stroke-linejoin: miter; stroke-linecap: square\"/>\n   </g>\n   <g id=\"patch_4\">\n    <path d=\"M 225.403125 145.8 \nL 225.403125 7.2 \n\" style=\"fill: none; stroke: #000000; stroke-width: 0.8; stroke-linejoin: miter; stroke-linecap: square\"/>\n   </g>\n   <g id=\"patch_5\">\n    <path d=\"M 30.103125 145.8 \nL 225.403125 145.8 \n\" style=\"fill: none; stroke: #000000; stroke-width: 0.8; stroke-linejoin: miter; stroke-linecap: square\"/>\n   </g>\n   <g id=\"patch_6\">\n    <path d=\"M 30.103125 7.2 \nL 225.403125 7.2 \n\" style=\"fill: none; stroke: #000000; stroke-width: 0.8; stroke-linejoin: miter; stroke-linecap: square\"/>\n   </g>\n   <g id=\"legend_1\">\n    <g id=\"patch_7\">\n     <path d=\"M 138.8125 60.06875 \nL 218.403125 60.06875 \nQ 220.403125 60.06875 220.403125 58.06875 \nL 220.403125 14.2 \nQ 220.403125 12.2 218.403125 12.2 \nL 138.8125 12.2 \nQ 136.8125 12.2 136.8125 14.2 \nL 136.8125 58.06875 \nQ 136.8125 60.06875 138.8125 60.06875 \nz\n\" style=\"fill: #ffffff; opacity: 0.8; stroke: #cccccc; stroke-linejoin: miter\"/>\n    </g>\n    <g id=\"line2d_128\">\n     <path d=\"M 140.8125 20.298438 \nL 150.8125 20.298438 \nL 160.8125 20.298438 \n\" style=\"fill: none; stroke: #1f77b4; stroke-width: 1.5; stroke-linecap: square\"/>\n    </g>\n    <g id=\"text_13\">\n     <!-- train_loss -->\n     <g transform=\"translate(168.8125 23.798438) scale(0.1 -0.1)\">\n      <defs>\n       <path id=\"DejaVuSans-74\" d=\"M 1172 4494 \nL 1172 3500 \nL 2356 3500 \nL 2356 3053 \nL 1172 3053 \nL 1172 1153 \nQ 1172 725 1289 603 \nQ 1406 481 1766 481 \nL 2356 481 \nL 2356 0 \nL 1766 0 \nQ 1100 0 847 248 \nQ 594 497 594 1153 \nL 594 3053 \nL 172 3053 \nL 172 3500 \nL 594 3500 \nL 594 4494 \nL 1172 4494 \nz\n\" transform=\"scale(0.015625)\"/>\n       <path id=\"DejaVuSans-72\" d=\"M 2631 2963 \nQ 2534 3019 2420 3045 \nQ 2306 3072 2169 3072 \nQ 1681 3072 1420 2755 \nQ 1159 2438 1159 1844 \nL 1159 0 \nL 581 0 \nL 581 3500 \nL 1159 3500 \nL 1159 2956 \nQ 1341 3275 1631 3429 \nQ 1922 3584 2338 3584 \nQ 2397 3584 2469 3576 \nQ 2541 3569 2628 3553 \nL 2631 2963 \nz\n\" transform=\"scale(0.015625)\"/>\n       <path id=\"DejaVuSans-61\" d=\"M 2194 1759 \nQ 1497 1759 1228 1600 \nQ 959 1441 959 1056 \nQ 959 750 1161 570 \nQ 1363 391 1709 391 \nQ 2188 391 2477 730 \nQ 2766 1069 2766 1631 \nL 2766 1759 \nL 2194 1759 \nz\nM 3341 1997 \nL 3341 0 \nL 2766 0 \nL 2766 531 \nQ 2569 213 2275 61 \nQ 1981 -91 1556 -91 \nQ 1019 -91 701 211 \nQ 384 513 384 1019 \nQ 384 1609 779 1909 \nQ 1175 2209 1959 2209 \nL 2766 2209 \nL 2766 2266 \nQ 2766 2663 2505 2880 \nQ 2244 3097 1772 3097 \nQ 1472 3097 1187 3025 \nQ 903 2953 641 2809 \nL 641 3341 \nQ 956 3463 1253 3523 \nQ 1550 3584 1831 3584 \nQ 2591 3584 2966 3190 \nQ 3341 2797 3341 1997 \nz\n\" transform=\"scale(0.015625)\"/>\n       <path id=\"DejaVuSans-69\" d=\"M 603 3500 \nL 1178 3500 \nL 1178 0 \nL 603 0 \nL 603 3500 \nz\nM 603 4863 \nL 1178 4863 \nL 1178 4134 \nL 603 4134 \nL 603 4863 \nz\n\" transform=\"scale(0.015625)\"/>\n       <path id=\"DejaVuSans-6e\" d=\"M 3513 2113 \nL 3513 0 \nL 2938 0 \nL 2938 2094 \nQ 2938 2591 2744 2837 \nQ 2550 3084 2163 3084 \nQ 1697 3084 1428 2787 \nQ 1159 2491 1159 1978 \nL 1159 0 \nL 581 0 \nL 581 3500 \nL 1159 3500 \nL 1159 2956 \nQ 1366 3272 1645 3428 \nQ 1925 3584 2291 3584 \nQ 2894 3584 3203 3211 \nQ 3513 2838 3513 2113 \nz\n\" transform=\"scale(0.015625)\"/>\n       <path id=\"DejaVuSans-5f\" d=\"M 3263 -1063 \nL 3263 -1509 \nL -63 -1509 \nL -63 -1063 \nL 3263 -1063 \nz\n\" transform=\"scale(0.015625)\"/>\n       <path id=\"DejaVuSans-6c\" d=\"M 603 4863 \nL 1178 4863 \nL 1178 0 \nL 603 0 \nL 603 4863 \nz\n\" transform=\"scale(0.015625)\"/>\n       <path id=\"DejaVuSans-73\" d=\"M 2834 3397 \nL 2834 2853 \nQ 2591 2978 2328 3040 \nQ 2066 3103 1784 3103 \nQ 1356 3103 1142 2972 \nQ 928 2841 928 2578 \nQ 928 2378 1081 2264 \nQ 1234 2150 1697 2047 \nL 1894 2003 \nQ 2506 1872 2764 1633 \nQ 3022 1394 3022 966 \nQ 3022 478 2636 193 \nQ 2250 -91 1575 -91 \nQ 1294 -91 989 -36 \nQ 684 19 347 128 \nL 347 722 \nQ 666 556 975 473 \nQ 1284 391 1588 391 \nQ 1994 391 2212 530 \nQ 2431 669 2431 922 \nQ 2431 1156 2273 1281 \nQ 2116 1406 1581 1522 \nL 1381 1569 \nQ 847 1681 609 1914 \nQ 372 2147 372 2553 \nQ 372 3047 722 3315 \nQ 1072 3584 1716 3584 \nQ 2034 3584 2315 3537 \nQ 2597 3491 2834 3397 \nz\n\" transform=\"scale(0.015625)\"/>\n      </defs>\n      <use xlink:href=\"#DejaVuSans-74\"/>\n      <use xlink:href=\"#DejaVuSans-72\" x=\"39.208984\"/>\n      <use xlink:href=\"#DejaVuSans-61\" x=\"80.322266\"/>\n      <use xlink:href=\"#DejaVuSans-69\" x=\"141.601562\"/>\n      <use xlink:href=\"#DejaVuSans-6e\" x=\"169.384766\"/>\n      <use xlink:href=\"#DejaVuSans-5f\" x=\"232.763672\"/>\n      <use xlink:href=\"#DejaVuSans-6c\" x=\"282.763672\"/>\n      <use xlink:href=\"#DejaVuSans-6f\" x=\"310.546875\"/>\n      <use xlink:href=\"#DejaVuSans-73\" x=\"371.728516\"/>\n      <use xlink:href=\"#DejaVuSans-73\" x=\"423.828125\"/>\n     </g>\n    </g>\n    <g id=\"line2d_129\">\n     <path d=\"M 140.8125 35.254688 \nL 150.8125 35.254688 \nL 160.8125 35.254688 \n\" style=\"fill: none; stroke-dasharray: 5.55,2.4; stroke-dashoffset: 0; stroke: #ff7f0e; stroke-width: 1.5\"/>\n    </g>\n    <g id=\"text_14\">\n     <!-- val_loss -->\n     <g transform=\"translate(168.8125 38.754688) scale(0.1 -0.1)\">\n      <defs>\n       <path id=\"DejaVuSans-76\" d=\"M 191 3500 \nL 800 3500 \nL 1894 563 \nL 2988 3500 \nL 3597 3500 \nL 2284 0 \nL 1503 0 \nL 191 3500 \nz\n\" transform=\"scale(0.015625)\"/>\n      </defs>\n      <use xlink:href=\"#DejaVuSans-76\"/>\n      <use xlink:href=\"#DejaVuSans-61\" x=\"59.179688\"/>\n      <use xlink:href=\"#DejaVuSans-6c\" x=\"120.458984\"/>\n      <use xlink:href=\"#DejaVuSans-5f\" x=\"148.242188\"/>\n      <use xlink:href=\"#DejaVuSans-6c\" x=\"198.242188\"/>\n      <use xlink:href=\"#DejaVuSans-6f\" x=\"226.025391\"/>\n      <use xlink:href=\"#DejaVuSans-73\" x=\"287.207031\"/>\n      <use xlink:href=\"#DejaVuSans-73\" x=\"339.306641\"/>\n     </g>\n    </g>\n    <g id=\"line2d_130\">\n     <path d=\"M 140.8125 50.210938 \nL 150.8125 50.210938 \nL 160.8125 50.210938 \n\" style=\"fill: none; stroke-dasharray: 9.6,2.4,1.5,2.4; stroke-dashoffset: 0; stroke: #2ca02c; stroke-width: 1.5\"/>\n    </g>\n    <g id=\"text_15\">\n     <!-- val_acc -->\n     <g transform=\"translate(168.8125 53.710938) scale(0.1 -0.1)\">\n      <use xlink:href=\"#DejaVuSans-76\"/>\n      <use xlink:href=\"#DejaVuSans-61\" x=\"59.179688\"/>\n      <use xlink:href=\"#DejaVuSans-6c\" x=\"120.458984\"/>\n      <use xlink:href=\"#DejaVuSans-5f\" x=\"148.242188\"/>\n      <use xlink:href=\"#DejaVuSans-61\" x=\"198.242188\"/>\n      <use xlink:href=\"#DejaVuSans-63\" x=\"259.521484\"/>\n      <use xlink:href=\"#DejaVuSans-63\" x=\"314.501953\"/>\n     </g>\n    </g>\n   </g>\n  </g>\n </g>\n <defs>\n  <clipPath id=\"pac2bf5a2b0\">\n   <rect x=\"30.103125\" y=\"7.2\" width=\"195.3\" height=\"138.6\"/>\n  </clipPath>\n </defs>\n</svg>\n"
          },
          "metadata": {}
        }
      ],
      "source": [
        "model = MLPScratch(num_inputs=784, num_outputs=10, num_hiddens=256, lr=0.1)\n",
        "data = d2l.FashionMNIST(batch_size=256)\n",
        "trainer = d2l.Trainer(max_epochs=10)\n",
        "trainer.fit(model, data)"
      ]
    },
    {
      "cell_type": "markdown",
      "id": "0c068a33",
      "metadata": {
        "origin_pos": 24,
        "id": "0c068a33"
      },
      "source": [
        "## Concise Implementation\n",
        "\n",
        "As you might expect, by relying on the high-level APIs, we can implement MLPs even more concisely.\n",
        "\n",
        "### Model\n",
        "\n",
        "Compared with our concise implementation\n",
        "of softmax regression implementation\n",
        "(:numref:`sec_softmax_concise`),\n",
        "the only difference is that we add\n",
        "*two* fully connected layers where we previously added only *one*.\n",
        "The first is [**the hidden layer**],\n",
        "the second is the output layer.\n"
      ]
    },
    {
      "cell_type": "code",
      "execution_count": 7,
      "id": "a5087507",
      "metadata": {
        "execution": {
          "iopub.execute_input": "2023-08-18T19:42:19.152096Z",
          "iopub.status.busy": "2023-08-18T19:42:19.151778Z",
          "iopub.status.idle": "2023-08-18T19:42:19.157644Z",
          "shell.execute_reply": "2023-08-18T19:42:19.156631Z"
        },
        "origin_pos": 26,
        "tab": [
          "pytorch"
        ],
        "id": "a5087507"
      },
      "outputs": [],
      "source": [
        "class MLP(d2l.Classifier):\n",
        "    def __init__(self, num_outputs, num_hiddens, lr):\n",
        "        super().__init__()\n",
        "        self.save_hyperparameters()\n",
        "        self.net = nn.Sequential(nn.Flatten(), nn.LazyLinear(num_hiddens),\n",
        "                                 nn.ReLU(), nn.LazyLinear(num_outputs))"
      ]
    },
    {
      "cell_type": "markdown",
      "id": "c5fb2be8",
      "metadata": {
        "origin_pos": 29,
        "id": "c5fb2be8"
      },
      "source": [
        "Previously, we defined `forward` methods for models to transform input using the model parameters.\n",
        "These operations are essentially a pipeline:\n",
        "you take an input and\n",
        "apply a transformation (e.g.,\n",
        "matrix multiplication with weights followed by bias addition),\n",
        "then repetitively use the output of the current transformation as\n",
        "input to the next transformation.\n",
        "However, you may have noticed that\n",
        "no `forward` method is defined here.\n",
        "In fact, `MLP` inherits the `forward` method from the `Module` class (:numref:`subsec_oo-design-models`) to\n",
        "simply invoke `self.net(X)` (`X` is input),\n",
        "which is now defined as a sequence of transformations\n",
        "via the `Sequential` class.\n",
        "The `Sequential` class abstracts the forward process\n",
        "enabling us to focus on the transformations.\n",
        "We will further discuss how the `Sequential` class works in :numref:`subsec_model-construction-sequential`.\n",
        "\n",
        "\n",
        "### Training\n",
        "\n",
        "[**The training loop**] is exactly the same\n",
        "as when we implemented softmax regression.\n",
        "This modularity enables us to separate\n",
        "matters concerning the model architecture\n",
        "from orthogonal considerations.\n"
      ]
    },
    {
      "cell_type": "code",
      "execution_count": 8,
      "id": "baf391c1",
      "metadata": {
        "execution": {
          "iopub.execute_input": "2023-08-18T19:42:19.162133Z",
          "iopub.status.busy": "2023-08-18T19:42:19.161837Z",
          "iopub.status.idle": "2023-08-18T19:43:16.475813Z",
          "shell.execute_reply": "2023-08-18T19:43:16.474574Z"
        },
        "origin_pos": 30,
        "tab": [
          "pytorch"
        ],
        "id": "baf391c1",
        "outputId": "a9b2b372-d4e7-4cef-a112-b81abde1a59e",
        "colab": {
          "base_uri": "https://localhost:8080/",
          "height": 265
        }
      },
      "outputs": [
        {
          "output_type": "display_data",
          "data": {
            "text/plain": [
              "<Figure size 350x250 with 1 Axes>"
            ],
            "image/svg+xml": "<?xml version=\"1.0\" encoding=\"utf-8\" standalone=\"no\"?>\n<!DOCTYPE svg PUBLIC \"-//W3C//DTD SVG 1.1//EN\"\n  \"http://www.w3.org/Graphics/SVG/1.1/DTD/svg11.dtd\">\n<svg xmlns:xlink=\"http://www.w3.org/1999/xlink\" width=\"238.965625pt\" height=\"183.35625pt\" viewBox=\"0 0 238.965625 183.35625\" xmlns=\"http://www.w3.org/2000/svg\" version=\"1.1\">\n <metadata>\n  <rdf:RDF xmlns:dc=\"http://purl.org/dc/elements/1.1/\" xmlns:cc=\"http://creativecommons.org/ns#\" xmlns:rdf=\"http://www.w3.org/1999/02/22-rdf-syntax-ns#\">\n   <cc:Work>\n    <dc:type rdf:resource=\"http://purl.org/dc/dcmitype/StillImage\"/>\n    <dc:date>2025-05-08T12:10:49.771797</dc:date>\n    <dc:format>image/svg+xml</dc:format>\n    <dc:creator>\n     <cc:Agent>\n      <dc:title>Matplotlib v3.7.2, https://matplotlib.org/</dc:title>\n     </cc:Agent>\n    </dc:creator>\n   </cc:Work>\n  </rdf:RDF>\n </metadata>\n <defs>\n  <style type=\"text/css\">*{stroke-linejoin: round; stroke-linecap: butt}</style>\n </defs>\n <g id=\"figure_1\">\n  <g id=\"patch_1\">\n   <path d=\"M 0 183.35625 \nL 238.965625 183.35625 \nL 238.965625 0 \nL 0 0 \nz\n\" style=\"fill: #ffffff\"/>\n  </g>\n  <g id=\"axes_1\">\n   <g id=\"patch_2\">\n    <path d=\"M 30.103125 145.8 \nL 225.403125 145.8 \nL 225.403125 7.2 \nL 30.103125 7.2 \nz\n\" style=\"fill: #ffffff\"/>\n   </g>\n   <g id=\"matplotlib.axis_1\">\n    <g id=\"xtick_1\">\n     <g id=\"line2d_1\">\n      <defs>\n       <path id=\"m14972bee7c\" d=\"M 0 0 \nL 0 3.5 \n\" style=\"stroke: #000000; stroke-width: 0.8\"/>\n      </defs>\n      <g>\n       <use xlink:href=\"#m14972bee7c\" x=\"30.103125\" y=\"145.8\" style=\"stroke: #000000; stroke-width: 0.8\"/>\n      </g>\n     </g>\n     <g id=\"text_1\">\n      <!-- 0 -->\n      <g transform=\"translate(26.921875 160.398438) scale(0.1 -0.1)\">\n       <defs>\n        <path id=\"DejaVuSans-30\" d=\"M 2034 4250 \nQ 1547 4250 1301 3770 \nQ 1056 3291 1056 2328 \nQ 1056 1369 1301 889 \nQ 1547 409 2034 409 \nQ 2525 409 2770 889 \nQ 3016 1369 3016 2328 \nQ 3016 3291 2770 3770 \nQ 2525 4250 2034 4250 \nz\nM 2034 4750 \nQ 2819 4750 3233 4129 \nQ 3647 3509 3647 2328 \nQ 3647 1150 3233 529 \nQ 2819 -91 2034 -91 \nQ 1250 -91 836 529 \nQ 422 1150 422 2328 \nQ 422 3509 836 4129 \nQ 1250 4750 2034 4750 \nz\n\" transform=\"scale(0.015625)\"/>\n       </defs>\n       <use xlink:href=\"#DejaVuSans-30\"/>\n      </g>\n     </g>\n    </g>\n    <g id=\"xtick_2\">\n     <g id=\"line2d_2\">\n      <g>\n       <use xlink:href=\"#m14972bee7c\" x=\"69.163125\" y=\"145.8\" style=\"stroke: #000000; stroke-width: 0.8\"/>\n      </g>\n     </g>\n     <g id=\"text_2\">\n      <!-- 2 -->\n      <g transform=\"translate(65.981875 160.398438) scale(0.1 -0.1)\">\n       <defs>\n        <path id=\"DejaVuSans-32\" d=\"M 1228 531 \nL 3431 531 \nL 3431 0 \nL 469 0 \nL 469 531 \nQ 828 903 1448 1529 \nQ 2069 2156 2228 2338 \nQ 2531 2678 2651 2914 \nQ 2772 3150 2772 3378 \nQ 2772 3750 2511 3984 \nQ 2250 4219 1831 4219 \nQ 1534 4219 1204 4116 \nQ 875 4013 500 3803 \nL 500 4441 \nQ 881 4594 1212 4672 \nQ 1544 4750 1819 4750 \nQ 2544 4750 2975 4387 \nQ 3406 4025 3406 3419 \nQ 3406 3131 3298 2873 \nQ 3191 2616 2906 2266 \nQ 2828 2175 2409 1742 \nQ 1991 1309 1228 531 \nz\n\" transform=\"scale(0.015625)\"/>\n       </defs>\n       <use xlink:href=\"#DejaVuSans-32\"/>\n      </g>\n     </g>\n    </g>\n    <g id=\"xtick_3\">\n     <g id=\"line2d_3\">\n      <g>\n       <use xlink:href=\"#m14972bee7c\" x=\"108.223125\" y=\"145.8\" style=\"stroke: #000000; stroke-width: 0.8\"/>\n      </g>\n     </g>\n     <g id=\"text_3\">\n      <!-- 4 -->\n      <g transform=\"translate(105.041875 160.398438) scale(0.1 -0.1)\">\n       <defs>\n        <path id=\"DejaVuSans-34\" d=\"M 2419 4116 \nL 825 1625 \nL 2419 1625 \nL 2419 4116 \nz\nM 2253 4666 \nL 3047 4666 \nL 3047 1625 \nL 3713 1625 \nL 3713 1100 \nL 3047 1100 \nL 3047 0 \nL 2419 0 \nL 2419 1100 \nL 313 1100 \nL 313 1709 \nL 2253 4666 \nz\n\" transform=\"scale(0.015625)\"/>\n       </defs>\n       <use xlink:href=\"#DejaVuSans-34\"/>\n      </g>\n     </g>\n    </g>\n    <g id=\"xtick_4\">\n     <g id=\"line2d_4\">\n      <g>\n       <use xlink:href=\"#m14972bee7c\" x=\"147.283125\" y=\"145.8\" style=\"stroke: #000000; stroke-width: 0.8\"/>\n      </g>\n     </g>\n     <g id=\"text_4\">\n      <!-- 6 -->\n      <g transform=\"translate(144.101875 160.398438) scale(0.1 -0.1)\">\n       <defs>\n        <path id=\"DejaVuSans-36\" d=\"M 2113 2584 \nQ 1688 2584 1439 2293 \nQ 1191 2003 1191 1497 \nQ 1191 994 1439 701 \nQ 1688 409 2113 409 \nQ 2538 409 2786 701 \nQ 3034 994 3034 1497 \nQ 3034 2003 2786 2293 \nQ 2538 2584 2113 2584 \nz\nM 3366 4563 \nL 3366 3988 \nQ 3128 4100 2886 4159 \nQ 2644 4219 2406 4219 \nQ 1781 4219 1451 3797 \nQ 1122 3375 1075 2522 \nQ 1259 2794 1537 2939 \nQ 1816 3084 2150 3084 \nQ 2853 3084 3261 2657 \nQ 3669 2231 3669 1497 \nQ 3669 778 3244 343 \nQ 2819 -91 2113 -91 \nQ 1303 -91 875 529 \nQ 447 1150 447 2328 \nQ 447 3434 972 4092 \nQ 1497 4750 2381 4750 \nQ 2619 4750 2861 4703 \nQ 3103 4656 3366 4563 \nz\n\" transform=\"scale(0.015625)\"/>\n       </defs>\n       <use xlink:href=\"#DejaVuSans-36\"/>\n      </g>\n     </g>\n    </g>\n    <g id=\"xtick_5\">\n     <g id=\"line2d_5\">\n      <g>\n       <use xlink:href=\"#m14972bee7c\" x=\"186.343125\" y=\"145.8\" style=\"stroke: #000000; stroke-width: 0.8\"/>\n      </g>\n     </g>\n     <g id=\"text_5\">\n      <!-- 8 -->\n      <g transform=\"translate(183.161875 160.398438) scale(0.1 -0.1)\">\n       <defs>\n        <path id=\"DejaVuSans-38\" d=\"M 2034 2216 \nQ 1584 2216 1326 1975 \nQ 1069 1734 1069 1313 \nQ 1069 891 1326 650 \nQ 1584 409 2034 409 \nQ 2484 409 2743 651 \nQ 3003 894 3003 1313 \nQ 3003 1734 2745 1975 \nQ 2488 2216 2034 2216 \nz\nM 1403 2484 \nQ 997 2584 770 2862 \nQ 544 3141 544 3541 \nQ 544 4100 942 4425 \nQ 1341 4750 2034 4750 \nQ 2731 4750 3128 4425 \nQ 3525 4100 3525 3541 \nQ 3525 3141 3298 2862 \nQ 3072 2584 2669 2484 \nQ 3125 2378 3379 2068 \nQ 3634 1759 3634 1313 \nQ 3634 634 3220 271 \nQ 2806 -91 2034 -91 \nQ 1263 -91 848 271 \nQ 434 634 434 1313 \nQ 434 1759 690 2068 \nQ 947 2378 1403 2484 \nz\nM 1172 3481 \nQ 1172 3119 1398 2916 \nQ 1625 2713 2034 2713 \nQ 2441 2713 2670 2916 \nQ 2900 3119 2900 3481 \nQ 2900 3844 2670 4047 \nQ 2441 4250 2034 4250 \nQ 1625 4250 1398 4047 \nQ 1172 3844 1172 3481 \nz\n\" transform=\"scale(0.015625)\"/>\n       </defs>\n       <use xlink:href=\"#DejaVuSans-38\"/>\n      </g>\n     </g>\n    </g>\n    <g id=\"xtick_6\">\n     <g id=\"line2d_6\">\n      <g>\n       <use xlink:href=\"#m14972bee7c\" x=\"225.403125\" y=\"145.8\" style=\"stroke: #000000; stroke-width: 0.8\"/>\n      </g>\n     </g>\n     <g id=\"text_6\">\n      <!-- 10 -->\n      <g transform=\"translate(219.040625 160.398438) scale(0.1 -0.1)\">\n       <defs>\n        <path id=\"DejaVuSans-31\" d=\"M 794 531 \nL 1825 531 \nL 1825 4091 \nL 703 3866 \nL 703 4441 \nL 1819 4666 \nL 2450 4666 \nL 2450 531 \nL 3481 531 \nL 3481 0 \nL 794 0 \nL 794 531 \nz\n\" transform=\"scale(0.015625)\"/>\n       </defs>\n       <use xlink:href=\"#DejaVuSans-31\"/>\n       <use xlink:href=\"#DejaVuSans-30\" x=\"63.623047\"/>\n      </g>\n     </g>\n    </g>\n    <g id=\"text_7\">\n     <!-- epoch -->\n     <g transform=\"translate(112.525 174.076563) scale(0.1 -0.1)\">\n      <defs>\n       <path id=\"DejaVuSans-65\" d=\"M 3597 1894 \nL 3597 1613 \nL 953 1613 \nQ 991 1019 1311 708 \nQ 1631 397 2203 397 \nQ 2534 397 2845 478 \nQ 3156 559 3463 722 \nL 3463 178 \nQ 3153 47 2828 -22 \nQ 2503 -91 2169 -91 \nQ 1331 -91 842 396 \nQ 353 884 353 1716 \nQ 353 2575 817 3079 \nQ 1281 3584 2069 3584 \nQ 2775 3584 3186 3129 \nQ 3597 2675 3597 1894 \nz\nM 3022 2063 \nQ 3016 2534 2758 2815 \nQ 2500 3097 2075 3097 \nQ 1594 3097 1305 2825 \nQ 1016 2553 972 2059 \nL 3022 2063 \nz\n\" transform=\"scale(0.015625)\"/>\n       <path id=\"DejaVuSans-70\" d=\"M 1159 525 \nL 1159 -1331 \nL 581 -1331 \nL 581 3500 \nL 1159 3500 \nL 1159 2969 \nQ 1341 3281 1617 3432 \nQ 1894 3584 2278 3584 \nQ 2916 3584 3314 3078 \nQ 3713 2572 3713 1747 \nQ 3713 922 3314 415 \nQ 2916 -91 2278 -91 \nQ 1894 -91 1617 61 \nQ 1341 213 1159 525 \nz\nM 3116 1747 \nQ 3116 2381 2855 2742 \nQ 2594 3103 2138 3103 \nQ 1681 3103 1420 2742 \nQ 1159 2381 1159 1747 \nQ 1159 1113 1420 752 \nQ 1681 391 2138 391 \nQ 2594 391 2855 752 \nQ 3116 1113 3116 1747 \nz\n\" transform=\"scale(0.015625)\"/>\n       <path id=\"DejaVuSans-6f\" d=\"M 1959 3097 \nQ 1497 3097 1228 2736 \nQ 959 2375 959 1747 \nQ 959 1119 1226 758 \nQ 1494 397 1959 397 \nQ 2419 397 2687 759 \nQ 2956 1122 2956 1747 \nQ 2956 2369 2687 2733 \nQ 2419 3097 1959 3097 \nz\nM 1959 3584 \nQ 2709 3584 3137 3096 \nQ 3566 2609 3566 1747 \nQ 3566 888 3137 398 \nQ 2709 -91 1959 -91 \nQ 1206 -91 779 398 \nQ 353 888 353 1747 \nQ 353 2609 779 3096 \nQ 1206 3584 1959 3584 \nz\n\" transform=\"scale(0.015625)\"/>\n       <path id=\"DejaVuSans-63\" d=\"M 3122 3366 \nL 3122 2828 \nQ 2878 2963 2633 3030 \nQ 2388 3097 2138 3097 \nQ 1578 3097 1268 2742 \nQ 959 2388 959 1747 \nQ 959 1106 1268 751 \nQ 1578 397 2138 397 \nQ 2388 397 2633 464 \nQ 2878 531 3122 666 \nL 3122 134 \nQ 2881 22 2623 -34 \nQ 2366 -91 2075 -91 \nQ 1284 -91 818 406 \nQ 353 903 353 1747 \nQ 353 2603 823 3093 \nQ 1294 3584 2113 3584 \nQ 2378 3584 2631 3529 \nQ 2884 3475 3122 3366 \nz\n\" transform=\"scale(0.015625)\"/>\n       <path id=\"DejaVuSans-68\" d=\"M 3513 2113 \nL 3513 0 \nL 2938 0 \nL 2938 2094 \nQ 2938 2591 2744 2837 \nQ 2550 3084 2163 3084 \nQ 1697 3084 1428 2787 \nQ 1159 2491 1159 1978 \nL 1159 0 \nL 581 0 \nL 581 4863 \nL 1159 4863 \nL 1159 2956 \nQ 1366 3272 1645 3428 \nQ 1925 3584 2291 3584 \nQ 2894 3584 3203 3211 \nQ 3513 2838 3513 2113 \nz\n\" transform=\"scale(0.015625)\"/>\n      </defs>\n      <use xlink:href=\"#DejaVuSans-65\"/>\n      <use xlink:href=\"#DejaVuSans-70\" x=\"61.523438\"/>\n      <use xlink:href=\"#DejaVuSans-6f\" x=\"125\"/>\n      <use xlink:href=\"#DejaVuSans-63\" x=\"186.181641\"/>\n      <use xlink:href=\"#DejaVuSans-68\" x=\"241.162109\"/>\n     </g>\n    </g>\n   </g>\n   <g id=\"matplotlib.axis_2\">\n    <g id=\"ytick_1\">\n     <g id=\"line2d_7\">\n      <defs>\n       <path id=\"ma0d9b4f894\" d=\"M 0 0 \nL -3.5 0 \n\" style=\"stroke: #000000; stroke-width: 0.8\"/>\n      </defs>\n      <g>\n       <use xlink:href=\"#ma0d9b4f894\" x=\"30.103125\" y=\"134.002435\" style=\"stroke: #000000; stroke-width: 0.8\"/>\n      </g>\n     </g>\n     <g id=\"text_8\">\n      <!-- 0.4 -->\n      <g transform=\"translate(7.2 137.801654) scale(0.1 -0.1)\">\n       <defs>\n        <path id=\"DejaVuSans-2e\" d=\"M 684 794 \nL 1344 794 \nL 1344 0 \nL 684 0 \nL 684 794 \nz\n\" transform=\"scale(0.015625)\"/>\n       </defs>\n       <use xlink:href=\"#DejaVuSans-30\"/>\n       <use xlink:href=\"#DejaVuSans-2e\" x=\"63.623047\"/>\n       <use xlink:href=\"#DejaVuSans-34\" x=\"95.410156\"/>\n      </g>\n     </g>\n    </g>\n    <g id=\"ytick_2\">\n     <g id=\"line2d_8\">\n      <g>\n       <use xlink:href=\"#ma0d9b4f894\" x=\"30.103125\" y=\"98.146952\" style=\"stroke: #000000; stroke-width: 0.8\"/>\n      </g>\n     </g>\n     <g id=\"text_9\">\n      <!-- 0.6 -->\n      <g transform=\"translate(7.2 101.94617) scale(0.1 -0.1)\">\n       <use xlink:href=\"#DejaVuSans-30\"/>\n       <use xlink:href=\"#DejaVuSans-2e\" x=\"63.623047\"/>\n       <use xlink:href=\"#DejaVuSans-36\" x=\"95.410156\"/>\n      </g>\n     </g>\n    </g>\n    <g id=\"ytick_3\">\n     <g id=\"line2d_9\">\n      <g>\n       <use xlink:href=\"#ma0d9b4f894\" x=\"30.103125\" y=\"62.291468\" style=\"stroke: #000000; stroke-width: 0.8\"/>\n      </g>\n     </g>\n     <g id=\"text_10\">\n      <!-- 0.8 -->\n      <g transform=\"translate(7.2 66.090687) scale(0.1 -0.1)\">\n       <use xlink:href=\"#DejaVuSans-30\"/>\n       <use xlink:href=\"#DejaVuSans-2e\" x=\"63.623047\"/>\n       <use xlink:href=\"#DejaVuSans-38\" x=\"95.410156\"/>\n      </g>\n     </g>\n    </g>\n    <g id=\"ytick_4\">\n     <g id=\"line2d_10\">\n      <g>\n       <use xlink:href=\"#ma0d9b4f894\" x=\"30.103125\" y=\"26.435984\" style=\"stroke: #000000; stroke-width: 0.8\"/>\n      </g>\n     </g>\n     <g id=\"text_11\">\n      <!-- 1.0 -->\n      <g transform=\"translate(7.2 30.235203) scale(0.1 -0.1)\">\n       <use xlink:href=\"#DejaVuSans-31\"/>\n       <use xlink:href=\"#DejaVuSans-2e\" x=\"63.623047\"/>\n       <use xlink:href=\"#DejaVuSans-30\" x=\"95.410156\"/>\n      </g>\n     </g>\n    </g>\n   </g>\n   <g id=\"line2d_11\">\n    <path d=\"M 34.923295 13.5 \n\" clip-path=\"url(#pc94e86c32a)\" style=\"fill: none; stroke: #1f77b4; stroke-width: 1.5; stroke-linecap: square\"/>\n   </g>\n   <g id=\"line2d_12\">\n    <path d=\"M 34.923295 13.5 \nL 44.646742 86.85053 \n\" clip-path=\"url(#pc94e86c32a)\" style=\"fill: none; stroke: #1f77b4; stroke-width: 1.5; stroke-linecap: square\"/>\n   </g>\n   <g id=\"line2d_13\">\n    <path d=\"M 34.923295 13.5 \nL 44.646742 86.85053 \n\" clip-path=\"url(#pc94e86c32a)\" style=\"fill: none; stroke: #1f77b4; stroke-width: 1.5; stroke-linecap: square\"/>\n   </g>\n   <g id=\"line2d_14\">\n    <path d=\"M 49.633125 66.343981 \n\" clip-path=\"url(#pc94e86c32a)\" style=\"fill: none; stroke-dasharray: 5.55,2.4; stroke-dashoffset: 0; stroke: #ff7f0e; stroke-width: 1.5\"/>\n   </g>\n   <g id=\"line2d_15\"/>\n   <g id=\"line2d_16\">\n    <path d=\"M 34.923295 13.5 \nL 44.646742 86.85053 \n\" clip-path=\"url(#pc94e86c32a)\" style=\"fill: none; stroke: #1f77b4; stroke-width: 1.5; stroke-linecap: square\"/>\n   </g>\n   <g id=\"line2d_17\">\n    <path d=\"M 49.633125 66.343981 \n\" clip-path=\"url(#pc94e86c32a)\" style=\"fill: none; stroke-dasharray: 5.55,2.4; stroke-dashoffset: 0; stroke: #ff7f0e; stroke-width: 1.5\"/>\n   </g>\n   <g id=\"line2d_18\">\n    <path d=\"M 49.633125 76.840251 \n\" clip-path=\"url(#pc94e86c32a)\" style=\"fill: none; stroke-dasharray: 9.6,2.4,1.5,2.4; stroke-dashoffset: 0; stroke: #2ca02c; stroke-width: 1.5\"/>\n   </g>\n   <g id=\"line2d_19\">\n    <path d=\"M 34.923295 13.5 \nL 44.646742 86.85053 \nL 54.370189 101.328855 \n\" clip-path=\"url(#pc94e86c32a)\" style=\"fill: none; stroke: #1f77b4; stroke-width: 1.5; stroke-linecap: square\"/>\n   </g>\n   <g id=\"line2d_20\">\n    <path d=\"M 49.633125 66.343981 \n\" clip-path=\"url(#pc94e86c32a)\" style=\"fill: none; stroke-dasharray: 5.55,2.4; stroke-dashoffset: 0; stroke: #ff7f0e; stroke-width: 1.5\"/>\n   </g>\n   <g id=\"line2d_21\">\n    <path d=\"M 49.633125 76.840251 \n\" clip-path=\"url(#pc94e86c32a)\" style=\"fill: none; stroke-dasharray: 9.6,2.4,1.5,2.4; stroke-dashoffset: 0; stroke: #2ca02c; stroke-width: 1.5\"/>\n   </g>\n   <g id=\"line2d_22\">\n    <path d=\"M 34.923295 13.5 \nL 44.646742 86.85053 \nL 54.370189 101.328855 \nL 64.093636 109.699974 \n\" clip-path=\"url(#pc94e86c32a)\" style=\"fill: none; stroke: #1f77b4; stroke-width: 1.5; stroke-linecap: square\"/>\n   </g>\n   <g id=\"line2d_23\">\n    <path d=\"M 49.633125 66.343981 \n\" clip-path=\"url(#pc94e86c32a)\" style=\"fill: none; stroke-dasharray: 5.55,2.4; stroke-dashoffset: 0; stroke: #ff7f0e; stroke-width: 1.5\"/>\n   </g>\n   <g id=\"line2d_24\">\n    <path d=\"M 49.633125 76.840251 \n\" clip-path=\"url(#pc94e86c32a)\" style=\"fill: none; stroke-dasharray: 9.6,2.4,1.5,2.4; stroke-dashoffset: 0; stroke: #2ca02c; stroke-width: 1.5\"/>\n   </g>\n   <g id=\"line2d_25\">\n    <path d=\"M 34.923295 13.5 \nL 44.646742 86.85053 \nL 54.370189 101.328855 \nL 64.093636 109.699974 \n\" clip-path=\"url(#pc94e86c32a)\" style=\"fill: none; stroke: #1f77b4; stroke-width: 1.5; stroke-linecap: square\"/>\n   </g>\n   <g id=\"line2d_26\">\n    <path d=\"M 49.633125 66.343981 \nL 69.163125 109.294373 \n\" clip-path=\"url(#pc94e86c32a)\" style=\"fill: none; stroke-dasharray: 5.55,2.4; stroke-dashoffset: 0; stroke: #ff7f0e; stroke-width: 1.5\"/>\n   </g>\n   <g id=\"line2d_27\">\n    <path d=\"M 49.633125 76.840251 \n\" clip-path=\"url(#pc94e86c32a)\" style=\"fill: none; stroke-dasharray: 9.6,2.4,1.5,2.4; stroke-dashoffset: 0; stroke: #2ca02c; stroke-width: 1.5\"/>\n   </g>\n   <g id=\"line2d_28\">\n    <path d=\"M 34.923295 13.5 \nL 44.646742 86.85053 \nL 54.370189 101.328855 \nL 64.093636 109.699974 \n\" clip-path=\"url(#pc94e86c32a)\" style=\"fill: none; stroke: #1f77b4; stroke-width: 1.5; stroke-linecap: square\"/>\n   </g>\n   <g id=\"line2d_29\">\n    <path d=\"M 49.633125 66.343981 \nL 69.163125 109.294373 \n\" clip-path=\"url(#pc94e86c32a)\" style=\"fill: none; stroke-dasharray: 5.55,2.4; stroke-dashoffset: 0; stroke: #ff7f0e; stroke-width: 1.5\"/>\n   </g>\n   <g id=\"line2d_30\">\n    <path d=\"M 49.633125 76.840251 \nL 69.163125 60.470682 \n\" clip-path=\"url(#pc94e86c32a)\" style=\"fill: none; stroke-dasharray: 9.6,2.4,1.5,2.4; stroke-dashoffset: 0; stroke: #2ca02c; stroke-width: 1.5\"/>\n   </g>\n   <g id=\"line2d_31\">\n    <path d=\"M 34.923295 13.5 \nL 44.646742 86.85053 \nL 54.370189 101.328855 \nL 64.093636 109.699974 \nL 73.817082 115.133463 \n\" clip-path=\"url(#pc94e86c32a)\" style=\"fill: none; stroke: #1f77b4; stroke-width: 1.5; stroke-linecap: square\"/>\n   </g>\n   <g id=\"line2d_32\">\n    <path d=\"M 49.633125 66.343981 \nL 69.163125 109.294373 \n\" clip-path=\"url(#pc94e86c32a)\" style=\"fill: none; stroke-dasharray: 5.55,2.4; stroke-dashoffset: 0; stroke: #ff7f0e; stroke-width: 1.5\"/>\n   </g>\n   <g id=\"line2d_33\">\n    <path d=\"M 49.633125 76.840251 \nL 69.163125 60.470682 \n\" clip-path=\"url(#pc94e86c32a)\" style=\"fill: none; stroke-dasharray: 9.6,2.4,1.5,2.4; stroke-dashoffset: 0; stroke: #2ca02c; stroke-width: 1.5\"/>\n   </g>\n   <g id=\"line2d_34\">\n    <path d=\"M 34.923295 13.5 \nL 44.646742 86.85053 \nL 54.370189 101.328855 \nL 64.093636 109.699974 \nL 73.817082 115.133463 \nL 83.540529 119.287493 \n\" clip-path=\"url(#pc94e86c32a)\" style=\"fill: none; stroke: #1f77b4; stroke-width: 1.5; stroke-linecap: square\"/>\n   </g>\n   <g id=\"line2d_35\">\n    <path d=\"M 49.633125 66.343981 \nL 69.163125 109.294373 \n\" clip-path=\"url(#pc94e86c32a)\" style=\"fill: none; stroke-dasharray: 5.55,2.4; stroke-dashoffset: 0; stroke: #ff7f0e; stroke-width: 1.5\"/>\n   </g>\n   <g id=\"line2d_36\">\n    <path d=\"M 49.633125 76.840251 \nL 69.163125 60.470682 \n\" clip-path=\"url(#pc94e86c32a)\" style=\"fill: none; stroke-dasharray: 9.6,2.4,1.5,2.4; stroke-dashoffset: 0; stroke: #2ca02c; stroke-width: 1.5\"/>\n   </g>\n   <g id=\"line2d_37\">\n    <path d=\"M 34.923295 13.5 \nL 44.646742 86.85053 \nL 54.370189 101.328855 \nL 64.093636 109.699974 \nL 73.817082 115.133463 \nL 83.540529 119.287493 \n\" clip-path=\"url(#pc94e86c32a)\" style=\"fill: none; stroke: #1f77b4; stroke-width: 1.5; stroke-linecap: square\"/>\n   </g>\n   <g id=\"line2d_38\">\n    <path d=\"M 49.633125 66.343981 \nL 69.163125 109.294373 \nL 88.693125 116.057024 \n\" clip-path=\"url(#pc94e86c32a)\" style=\"fill: none; stroke-dasharray: 5.55,2.4; stroke-dashoffset: 0; stroke: #ff7f0e; stroke-width: 1.5\"/>\n   </g>\n   <g id=\"line2d_39\">\n    <path d=\"M 49.633125 76.840251 \nL 69.163125 60.470682 \n\" clip-path=\"url(#pc94e86c32a)\" style=\"fill: none; stroke-dasharray: 9.6,2.4,1.5,2.4; stroke-dashoffset: 0; stroke: #2ca02c; stroke-width: 1.5\"/>\n   </g>\n   <g id=\"line2d_40\">\n    <path d=\"M 34.923295 13.5 \nL 44.646742 86.85053 \nL 54.370189 101.328855 \nL 64.093636 109.699974 \nL 73.817082 115.133463 \nL 83.540529 119.287493 \n\" clip-path=\"url(#pc94e86c32a)\" style=\"fill: none; stroke: #1f77b4; stroke-width: 1.5; stroke-linecap: square\"/>\n   </g>\n   <g id=\"line2d_41\">\n    <path d=\"M 49.633125 66.343981 \nL 69.163125 109.294373 \nL 88.693125 116.057024 \n\" clip-path=\"url(#pc94e86c32a)\" style=\"fill: none; stroke-dasharray: 5.55,2.4; stroke-dashoffset: 0; stroke: #ff7f0e; stroke-width: 1.5\"/>\n   </g>\n   <g id=\"line2d_42\">\n    <path d=\"M 49.633125 76.840251 \nL 69.163125 60.470682 \nL 88.693125 58.159684 \n\" clip-path=\"url(#pc94e86c32a)\" style=\"fill: none; stroke-dasharray: 9.6,2.4,1.5,2.4; stroke-dashoffset: 0; stroke: #2ca02c; stroke-width: 1.5\"/>\n   </g>\n   <g id=\"line2d_43\">\n    <path d=\"M 34.923295 13.5 \nL 44.646742 86.85053 \nL 54.370189 101.328855 \nL 64.093636 109.699974 \nL 73.817082 115.133463 \nL 83.540529 119.287493 \nL 93.263976 122.554525 \n\" clip-path=\"url(#pc94e86c32a)\" style=\"fill: none; stroke: #1f77b4; stroke-width: 1.5; stroke-linecap: square\"/>\n   </g>\n   <g id=\"line2d_44\">\n    <path d=\"M 49.633125 66.343981 \nL 69.163125 109.294373 \nL 88.693125 116.057024 \n\" clip-path=\"url(#pc94e86c32a)\" style=\"fill: none; stroke-dasharray: 5.55,2.4; stroke-dashoffset: 0; stroke: #ff7f0e; stroke-width: 1.5\"/>\n   </g>\n   <g id=\"line2d_45\">\n    <path d=\"M 49.633125 76.840251 \nL 69.163125 60.470682 \nL 88.693125 58.159684 \n\" clip-path=\"url(#pc94e86c32a)\" style=\"fill: none; stroke-dasharray: 9.6,2.4,1.5,2.4; stroke-dashoffset: 0; stroke: #2ca02c; stroke-width: 1.5\"/>\n   </g>\n   <g id=\"line2d_46\">\n    <path d=\"M 34.923295 13.5 \nL 44.646742 86.85053 \nL 54.370189 101.328855 \nL 64.093636 109.699974 \nL 73.817082 115.133463 \nL 83.540529 119.287493 \nL 93.263976 122.554525 \nL 102.987423 124.345906 \n\" clip-path=\"url(#pc94e86c32a)\" style=\"fill: none; stroke: #1f77b4; stroke-width: 1.5; stroke-linecap: square\"/>\n   </g>\n   <g id=\"line2d_47\">\n    <path d=\"M 49.633125 66.343981 \nL 69.163125 109.294373 \nL 88.693125 116.057024 \n\" clip-path=\"url(#pc94e86c32a)\" style=\"fill: none; stroke-dasharray: 5.55,2.4; stroke-dashoffset: 0; stroke: #ff7f0e; stroke-width: 1.5\"/>\n   </g>\n   <g id=\"line2d_48\">\n    <path d=\"M 49.633125 76.840251 \nL 69.163125 60.470682 \nL 88.693125 58.159684 \n\" clip-path=\"url(#pc94e86c32a)\" style=\"fill: none; stroke-dasharray: 9.6,2.4,1.5,2.4; stroke-dashoffset: 0; stroke: #2ca02c; stroke-width: 1.5\"/>\n   </g>\n   <g id=\"line2d_49\">\n    <path d=\"M 34.923295 13.5 \nL 44.646742 86.85053 \nL 54.370189 101.328855 \nL 64.093636 109.699974 \nL 73.817082 115.133463 \nL 83.540529 119.287493 \nL 93.263976 122.554525 \nL 102.987423 124.345906 \n\" clip-path=\"url(#pc94e86c32a)\" style=\"fill: none; stroke: #1f77b4; stroke-width: 1.5; stroke-linecap: square\"/>\n   </g>\n   <g id=\"line2d_50\">\n    <path d=\"M 49.633125 66.343981 \nL 69.163125 109.294373 \nL 88.693125 116.057024 \nL 108.223125 111.358253 \n\" clip-path=\"url(#pc94e86c32a)\" style=\"fill: none; stroke-dasharray: 5.55,2.4; stroke-dashoffset: 0; stroke: #ff7f0e; stroke-width: 1.5\"/>\n   </g>\n   <g id=\"line2d_51\">\n    <path d=\"M 49.633125 76.840251 \nL 69.163125 60.470682 \nL 88.693125 58.159684 \n\" clip-path=\"url(#pc94e86c32a)\" style=\"fill: none; stroke-dasharray: 9.6,2.4,1.5,2.4; stroke-dashoffset: 0; stroke: #2ca02c; stroke-width: 1.5\"/>\n   </g>\n   <g id=\"line2d_52\">\n    <path d=\"M 34.923295 13.5 \nL 44.646742 86.85053 \nL 54.370189 101.328855 \nL 64.093636 109.699974 \nL 73.817082 115.133463 \nL 83.540529 119.287493 \nL 93.263976 122.554525 \nL 102.987423 124.345906 \n\" clip-path=\"url(#pc94e86c32a)\" style=\"fill: none; stroke: #1f77b4; stroke-width: 1.5; stroke-linecap: square\"/>\n   </g>\n   <g id=\"line2d_53\">\n    <path d=\"M 49.633125 66.343981 \nL 69.163125 109.294373 \nL 88.693125 116.057024 \nL 108.223125 111.358253 \n\" clip-path=\"url(#pc94e86c32a)\" style=\"fill: none; stroke-dasharray: 5.55,2.4; stroke-dashoffset: 0; stroke: #ff7f0e; stroke-width: 1.5\"/>\n   </g>\n   <g id=\"line2d_54\">\n    <path d=\"M 49.633125 76.840251 \nL 69.163125 60.470682 \nL 88.693125 58.159684 \nL 108.223125 59.297675 \n\" clip-path=\"url(#pc94e86c32a)\" style=\"fill: none; stroke-dasharray: 9.6,2.4,1.5,2.4; stroke-dashoffset: 0; stroke: #2ca02c; stroke-width: 1.5\"/>\n   </g>\n   <g id=\"line2d_55\">\n    <path d=\"M 34.923295 13.5 \nL 44.646742 86.85053 \nL 54.370189 101.328855 \nL 64.093636 109.699974 \nL 73.817082 115.133463 \nL 83.540529 119.287493 \nL 93.263976 122.554525 \nL 102.987423 124.345906 \nL 112.71087 126.422896 \n\" clip-path=\"url(#pc94e86c32a)\" style=\"fill: none; stroke: #1f77b4; stroke-width: 1.5; stroke-linecap: square\"/>\n   </g>\n   <g id=\"line2d_56\">\n    <path d=\"M 49.633125 66.343981 \nL 69.163125 109.294373 \nL 88.693125 116.057024 \nL 108.223125 111.358253 \n\" clip-path=\"url(#pc94e86c32a)\" style=\"fill: none; stroke-dasharray: 5.55,2.4; stroke-dashoffset: 0; stroke: #ff7f0e; stroke-width: 1.5\"/>\n   </g>\n   <g id=\"line2d_57\">\n    <path d=\"M 49.633125 76.840251 \nL 69.163125 60.470682 \nL 88.693125 58.159684 \nL 108.223125 59.297675 \n\" clip-path=\"url(#pc94e86c32a)\" style=\"fill: none; stroke-dasharray: 9.6,2.4,1.5,2.4; stroke-dashoffset: 0; stroke: #2ca02c; stroke-width: 1.5\"/>\n   </g>\n   <g id=\"line2d_58\">\n    <path d=\"M 34.923295 13.5 \nL 44.646742 86.85053 \nL 54.370189 101.328855 \nL 64.093636 109.699974 \nL 73.817082 115.133463 \nL 83.540529 119.287493 \nL 93.263976 122.554525 \nL 102.987423 124.345906 \nL 112.71087 126.422896 \nL 122.434316 128.477496 \n\" clip-path=\"url(#pc94e86c32a)\" style=\"fill: none; stroke: #1f77b4; stroke-width: 1.5; stroke-linecap: square\"/>\n   </g>\n   <g id=\"line2d_59\">\n    <path d=\"M 49.633125 66.343981 \nL 69.163125 109.294373 \nL 88.693125 116.057024 \nL 108.223125 111.358253 \n\" clip-path=\"url(#pc94e86c32a)\" style=\"fill: none; stroke-dasharray: 5.55,2.4; stroke-dashoffset: 0; stroke: #ff7f0e; stroke-width: 1.5\"/>\n   </g>\n   <g id=\"line2d_60\">\n    <path d=\"M 49.633125 76.840251 \nL 69.163125 60.470682 \nL 88.693125 58.159684 \nL 108.223125 59.297675 \n\" clip-path=\"url(#pc94e86c32a)\" style=\"fill: none; stroke-dasharray: 9.6,2.4,1.5,2.4; stroke-dashoffset: 0; stroke: #2ca02c; stroke-width: 1.5\"/>\n   </g>\n   <g id=\"line2d_61\">\n    <path d=\"M 34.923295 13.5 \nL 44.646742 86.85053 \nL 54.370189 101.328855 \nL 64.093636 109.699974 \nL 73.817082 115.133463 \nL 83.540529 119.287493 \nL 93.263976 122.554525 \nL 102.987423 124.345906 \nL 112.71087 126.422896 \nL 122.434316 128.477496 \n\" clip-path=\"url(#pc94e86c32a)\" style=\"fill: none; stroke: #1f77b4; stroke-width: 1.5; stroke-linecap: square\"/>\n   </g>\n   <g id=\"line2d_62\">\n    <path d=\"M 49.633125 66.343981 \nL 69.163125 109.294373 \nL 88.693125 116.057024 \nL 108.223125 111.358253 \nL 127.753125 122.629593 \n\" clip-path=\"url(#pc94e86c32a)\" style=\"fill: none; stroke-dasharray: 5.55,2.4; stroke-dashoffset: 0; stroke: #ff7f0e; stroke-width: 1.5\"/>\n   </g>\n   <g id=\"line2d_63\">\n    <path d=\"M 49.633125 76.840251 \nL 69.163125 60.470682 \nL 88.693125 58.159684 \nL 108.223125 59.297675 \n\" clip-path=\"url(#pc94e86c32a)\" style=\"fill: none; stroke-dasharray: 9.6,2.4,1.5,2.4; stroke-dashoffset: 0; stroke: #2ca02c; stroke-width: 1.5\"/>\n   </g>\n   <g id=\"line2d_64\">\n    <path d=\"M 34.923295 13.5 \nL 44.646742 86.85053 \nL 54.370189 101.328855 \nL 64.093636 109.699974 \nL 73.817082 115.133463 \nL 83.540529 119.287493 \nL 93.263976 122.554525 \nL 102.987423 124.345906 \nL 112.71087 126.422896 \nL 122.434316 128.477496 \n\" clip-path=\"url(#pc94e86c32a)\" style=\"fill: none; stroke: #1f77b4; stroke-width: 1.5; stroke-linecap: square\"/>\n   </g>\n   <g id=\"line2d_65\">\n    <path d=\"M 49.633125 66.343981 \nL 69.163125 109.294373 \nL 88.693125 116.057024 \nL 108.223125 111.358253 \nL 127.753125 122.629593 \n\" clip-path=\"url(#pc94e86c32a)\" style=\"fill: none; stroke-dasharray: 5.55,2.4; stroke-dashoffset: 0; stroke: #ff7f0e; stroke-width: 1.5\"/>\n   </g>\n   <g id=\"line2d_66\">\n    <path d=\"M 49.633125 76.840251 \nL 69.163125 60.470682 \nL 88.693125 58.159684 \nL 108.223125 59.297675 \nL 127.753125 56.584003 \n\" clip-path=\"url(#pc94e86c32a)\" style=\"fill: none; stroke-dasharray: 9.6,2.4,1.5,2.4; stroke-dashoffset: 0; stroke: #2ca02c; stroke-width: 1.5\"/>\n   </g>\n   <g id=\"line2d_67\">\n    <path d=\"M 34.923295 13.5 \nL 44.646742 86.85053 \nL 54.370189 101.328855 \nL 64.093636 109.699974 \nL 73.817082 115.133463 \nL 83.540529 119.287493 \nL 93.263976 122.554525 \nL 102.987423 124.345906 \nL 112.71087 126.422896 \nL 122.434316 128.477496 \nL 132.157763 130.909624 \n\" clip-path=\"url(#pc94e86c32a)\" style=\"fill: none; stroke: #1f77b4; stroke-width: 1.5; stroke-linecap: square\"/>\n   </g>\n   <g id=\"line2d_68\">\n    <path d=\"M 49.633125 66.343981 \nL 69.163125 109.294373 \nL 88.693125 116.057024 \nL 108.223125 111.358253 \nL 127.753125 122.629593 \n\" clip-path=\"url(#pc94e86c32a)\" style=\"fill: none; stroke-dasharray: 5.55,2.4; stroke-dashoffset: 0; stroke: #ff7f0e; stroke-width: 1.5\"/>\n   </g>\n   <g id=\"line2d_69\">\n    <path d=\"M 49.633125 76.840251 \nL 69.163125 60.470682 \nL 88.693125 58.159684 \nL 108.223125 59.297675 \nL 127.753125 56.584003 \n\" clip-path=\"url(#pc94e86c32a)\" style=\"fill: none; stroke-dasharray: 9.6,2.4,1.5,2.4; stroke-dashoffset: 0; stroke: #2ca02c; stroke-width: 1.5\"/>\n   </g>\n   <g id=\"line2d_70\">\n    <path d=\"M 34.923295 13.5 \nL 44.646742 86.85053 \nL 54.370189 101.328855 \nL 64.093636 109.699974 \nL 73.817082 115.133463 \nL 83.540529 119.287493 \nL 93.263976 122.554525 \nL 102.987423 124.345906 \nL 112.71087 126.422896 \nL 122.434316 128.477496 \nL 132.157763 130.909624 \nL 141.88121 130.537498 \n\" clip-path=\"url(#pc94e86c32a)\" style=\"fill: none; stroke: #1f77b4; stroke-width: 1.5; stroke-linecap: square\"/>\n   </g>\n   <g id=\"line2d_71\">\n    <path d=\"M 49.633125 66.343981 \nL 69.163125 109.294373 \nL 88.693125 116.057024 \nL 108.223125 111.358253 \nL 127.753125 122.629593 \n\" clip-path=\"url(#pc94e86c32a)\" style=\"fill: none; stroke-dasharray: 5.55,2.4; stroke-dashoffset: 0; stroke: #ff7f0e; stroke-width: 1.5\"/>\n   </g>\n   <g id=\"line2d_72\">\n    <path d=\"M 49.633125 76.840251 \nL 69.163125 60.470682 \nL 88.693125 58.159684 \nL 108.223125 59.297675 \nL 127.753125 56.584003 \n\" clip-path=\"url(#pc94e86c32a)\" style=\"fill: none; stroke-dasharray: 9.6,2.4,1.5,2.4; stroke-dashoffset: 0; stroke: #2ca02c; stroke-width: 1.5\"/>\n   </g>\n   <g id=\"line2d_73\">\n    <path d=\"M 34.923295 13.5 \nL 44.646742 86.85053 \nL 54.370189 101.328855 \nL 64.093636 109.699974 \nL 73.817082 115.133463 \nL 83.540529 119.287493 \nL 93.263976 122.554525 \nL 102.987423 124.345906 \nL 112.71087 126.422896 \nL 122.434316 128.477496 \nL 132.157763 130.909624 \nL 141.88121 130.537498 \n\" clip-path=\"url(#pc94e86c32a)\" style=\"fill: none; stroke: #1f77b4; stroke-width: 1.5; stroke-linecap: square\"/>\n   </g>\n   <g id=\"line2d_74\">\n    <path d=\"M 49.633125 66.343981 \nL 69.163125 109.294373 \nL 88.693125 116.057024 \nL 108.223125 111.358253 \nL 127.753125 122.629593 \nL 147.283125 120.514951 \n\" clip-path=\"url(#pc94e86c32a)\" style=\"fill: none; stroke-dasharray: 5.55,2.4; stroke-dashoffset: 0; stroke: #ff7f0e; stroke-width: 1.5\"/>\n   </g>\n   <g id=\"line2d_75\">\n    <path d=\"M 49.633125 76.840251 \nL 69.163125 60.470682 \nL 88.693125 58.159684 \nL 108.223125 59.297675 \nL 127.753125 56.584003 \n\" clip-path=\"url(#pc94e86c32a)\" style=\"fill: none; stroke-dasharray: 9.6,2.4,1.5,2.4; stroke-dashoffset: 0; stroke: #2ca02c; stroke-width: 1.5\"/>\n   </g>\n   <g id=\"line2d_76\">\n    <path d=\"M 34.923295 13.5 \nL 44.646742 86.85053 \nL 54.370189 101.328855 \nL 64.093636 109.699974 \nL 73.817082 115.133463 \nL 83.540529 119.287493 \nL 93.263976 122.554525 \nL 102.987423 124.345906 \nL 112.71087 126.422896 \nL 122.434316 128.477496 \nL 132.157763 130.909624 \nL 141.88121 130.537498 \n\" clip-path=\"url(#pc94e86c32a)\" style=\"fill: none; stroke: #1f77b4; stroke-width: 1.5; stroke-linecap: square\"/>\n   </g>\n   <g id=\"line2d_77\">\n    <path d=\"M 49.633125 66.343981 \nL 69.163125 109.294373 \nL 88.693125 116.057024 \nL 108.223125 111.358253 \nL 127.753125 122.629593 \nL 147.283125 120.514951 \n\" clip-path=\"url(#pc94e86c32a)\" style=\"fill: none; stroke-dasharray: 5.55,2.4; stroke-dashoffset: 0; stroke: #ff7f0e; stroke-width: 1.5\"/>\n   </g>\n   <g id=\"line2d_78\">\n    <path d=\"M 49.633125 76.840251 \nL 69.163125 60.470682 \nL 88.693125 58.159684 \nL 108.223125 59.297675 \nL 127.753125 56.584003 \nL 147.283125 57.214275 \n\" clip-path=\"url(#pc94e86c32a)\" style=\"fill: none; stroke-dasharray: 9.6,2.4,1.5,2.4; stroke-dashoffset: 0; stroke: #2ca02c; stroke-width: 1.5\"/>\n   </g>\n   <g id=\"line2d_79\">\n    <path d=\"M 34.923295 13.5 \nL 44.646742 86.85053 \nL 54.370189 101.328855 \nL 64.093636 109.699974 \nL 73.817082 115.133463 \nL 83.540529 119.287493 \nL 93.263976 122.554525 \nL 102.987423 124.345906 \nL 112.71087 126.422896 \nL 122.434316 128.477496 \nL 132.157763 130.909624 \nL 141.88121 130.537498 \nL 151.604657 132.404139 \n\" clip-path=\"url(#pc94e86c32a)\" style=\"fill: none; stroke: #1f77b4; stroke-width: 1.5; stroke-linecap: square\"/>\n   </g>\n   <g id=\"line2d_80\">\n    <path d=\"M 49.633125 66.343981 \nL 69.163125 109.294373 \nL 88.693125 116.057024 \nL 108.223125 111.358253 \nL 127.753125 122.629593 \nL 147.283125 120.514951 \n\" clip-path=\"url(#pc94e86c32a)\" style=\"fill: none; stroke-dasharray: 5.55,2.4; stroke-dashoffset: 0; stroke: #ff7f0e; stroke-width: 1.5\"/>\n   </g>\n   <g id=\"line2d_81\">\n    <path d=\"M 49.633125 76.840251 \nL 69.163125 60.470682 \nL 88.693125 58.159684 \nL 108.223125 59.297675 \nL 127.753125 56.584003 \nL 147.283125 57.214275 \n\" clip-path=\"url(#pc94e86c32a)\" style=\"fill: none; stroke-dasharray: 9.6,2.4,1.5,2.4; stroke-dashoffset: 0; stroke: #2ca02c; stroke-width: 1.5\"/>\n   </g>\n   <g id=\"line2d_82\">\n    <path d=\"M 34.923295 13.5 \nL 44.646742 86.85053 \nL 54.370189 101.328855 \nL 64.093636 109.699974 \nL 73.817082 115.133463 \nL 83.540529 119.287493 \nL 93.263976 122.554525 \nL 102.987423 124.345906 \nL 112.71087 126.422896 \nL 122.434316 128.477496 \nL 132.157763 130.909624 \nL 141.88121 130.537498 \nL 151.604657 132.404139 \nL 161.328104 133.179786 \n\" clip-path=\"url(#pc94e86c32a)\" style=\"fill: none; stroke: #1f77b4; stroke-width: 1.5; stroke-linecap: square\"/>\n   </g>\n   <g id=\"line2d_83\">\n    <path d=\"M 49.633125 66.343981 \nL 69.163125 109.294373 \nL 88.693125 116.057024 \nL 108.223125 111.358253 \nL 127.753125 122.629593 \nL 147.283125 120.514951 \n\" clip-path=\"url(#pc94e86c32a)\" style=\"fill: none; stroke-dasharray: 5.55,2.4; stroke-dashoffset: 0; stroke: #ff7f0e; stroke-width: 1.5\"/>\n   </g>\n   <g id=\"line2d_84\">\n    <path d=\"M 49.633125 76.840251 \nL 69.163125 60.470682 \nL 88.693125 58.159684 \nL 108.223125 59.297675 \nL 127.753125 56.584003 \nL 147.283125 57.214275 \n\" clip-path=\"url(#pc94e86c32a)\" style=\"fill: none; stroke-dasharray: 9.6,2.4,1.5,2.4; stroke-dashoffset: 0; stroke: #2ca02c; stroke-width: 1.5\"/>\n   </g>\n   <g id=\"line2d_85\">\n    <path d=\"M 34.923295 13.5 \nL 44.646742 86.85053 \nL 54.370189 101.328855 \nL 64.093636 109.699974 \nL 73.817082 115.133463 \nL 83.540529 119.287493 \nL 93.263976 122.554525 \nL 102.987423 124.345906 \nL 112.71087 126.422896 \nL 122.434316 128.477496 \nL 132.157763 130.909624 \nL 141.88121 130.537498 \nL 151.604657 132.404139 \nL 161.328104 133.179786 \n\" clip-path=\"url(#pc94e86c32a)\" style=\"fill: none; stroke: #1f77b4; stroke-width: 1.5; stroke-linecap: square\"/>\n   </g>\n   <g id=\"line2d_86\">\n    <path d=\"M 49.633125 66.343981 \nL 69.163125 109.294373 \nL 88.693125 116.057024 \nL 108.223125 111.358253 \nL 127.753125 122.629593 \nL 147.283125 120.514951 \nL 166.813125 126.159755 \n\" clip-path=\"url(#pc94e86c32a)\" style=\"fill: none; stroke-dasharray: 5.55,2.4; stroke-dashoffset: 0; stroke: #ff7f0e; stroke-width: 1.5\"/>\n   </g>\n   <g id=\"line2d_87\">\n    <path d=\"M 49.633125 76.840251 \nL 69.163125 60.470682 \nL 88.693125 58.159684 \nL 108.223125 59.297675 \nL 127.753125 56.584003 \nL 147.283125 57.214275 \n\" clip-path=\"url(#pc94e86c32a)\" style=\"fill: none; stroke-dasharray: 9.6,2.4,1.5,2.4; stroke-dashoffset: 0; stroke: #2ca02c; stroke-width: 1.5\"/>\n   </g>\n   <g id=\"line2d_88\">\n    <path d=\"M 34.923295 13.5 \nL 44.646742 86.85053 \nL 54.370189 101.328855 \nL 64.093636 109.699974 \nL 73.817082 115.133463 \nL 83.540529 119.287493 \nL 93.263976 122.554525 \nL 102.987423 124.345906 \nL 112.71087 126.422896 \nL 122.434316 128.477496 \nL 132.157763 130.909624 \nL 141.88121 130.537498 \nL 151.604657 132.404139 \nL 161.328104 133.179786 \n\" clip-path=\"url(#pc94e86c32a)\" style=\"fill: none; stroke: #1f77b4; stroke-width: 1.5; stroke-linecap: square\"/>\n   </g>\n   <g id=\"line2d_89\">\n    <path d=\"M 49.633125 66.343981 \nL 69.163125 109.294373 \nL 88.693125 116.057024 \nL 108.223125 111.358253 \nL 127.753125 122.629593 \nL 147.283125 120.514951 \nL 166.813125 126.159755 \n\" clip-path=\"url(#pc94e86c32a)\" style=\"fill: none; stroke-dasharray: 5.55,2.4; stroke-dashoffset: 0; stroke: #ff7f0e; stroke-width: 1.5\"/>\n   </g>\n   <g id=\"line2d_90\">\n    <path d=\"M 49.633125 76.840251 \nL 69.163125 60.470682 \nL 88.693125 58.159684 \nL 108.223125 59.297675 \nL 127.753125 56.584003 \nL 147.283125 57.214275 \nL 166.813125 54.623156 \n\" clip-path=\"url(#pc94e86c32a)\" style=\"fill: none; stroke-dasharray: 9.6,2.4,1.5,2.4; stroke-dashoffset: 0; stroke: #2ca02c; stroke-width: 1.5\"/>\n   </g>\n   <g id=\"line2d_91\">\n    <path d=\"M 34.923295 13.5 \nL 44.646742 86.85053 \nL 54.370189 101.328855 \nL 64.093636 109.699974 \nL 73.817082 115.133463 \nL 83.540529 119.287493 \nL 93.263976 122.554525 \nL 102.987423 124.345906 \nL 112.71087 126.422896 \nL 122.434316 128.477496 \nL 132.157763 130.909624 \nL 141.88121 130.537498 \nL 151.604657 132.404139 \nL 161.328104 133.179786 \nL 171.051551 134.972384 \n\" clip-path=\"url(#pc94e86c32a)\" style=\"fill: none; stroke: #1f77b4; stroke-width: 1.5; stroke-linecap: square\"/>\n   </g>\n   <g id=\"line2d_92\">\n    <path d=\"M 49.633125 66.343981 \nL 69.163125 109.294373 \nL 88.693125 116.057024 \nL 108.223125 111.358253 \nL 127.753125 122.629593 \nL 147.283125 120.514951 \nL 166.813125 126.159755 \n\" clip-path=\"url(#pc94e86c32a)\" style=\"fill: none; stroke-dasharray: 5.55,2.4; stroke-dashoffset: 0; stroke: #ff7f0e; stroke-width: 1.5\"/>\n   </g>\n   <g id=\"line2d_93\">\n    <path d=\"M 49.633125 76.840251 \nL 69.163125 60.470682 \nL 88.693125 58.159684 \nL 108.223125 59.297675 \nL 127.753125 56.584003 \nL 147.283125 57.214275 \nL 166.813125 54.623156 \n\" clip-path=\"url(#pc94e86c32a)\" style=\"fill: none; stroke-dasharray: 9.6,2.4,1.5,2.4; stroke-dashoffset: 0; stroke: #2ca02c; stroke-width: 1.5\"/>\n   </g>\n   <g id=\"line2d_94\">\n    <path d=\"M 34.923295 13.5 \nL 44.646742 86.85053 \nL 54.370189 101.328855 \nL 64.093636 109.699974 \nL 73.817082 115.133463 \nL 83.540529 119.287493 \nL 93.263976 122.554525 \nL 102.987423 124.345906 \nL 112.71087 126.422896 \nL 122.434316 128.477496 \nL 132.157763 130.909624 \nL 141.88121 130.537498 \nL 151.604657 132.404139 \nL 161.328104 133.179786 \nL 171.051551 134.972384 \nL 180.774997 135.412494 \n\" clip-path=\"url(#pc94e86c32a)\" style=\"fill: none; stroke: #1f77b4; stroke-width: 1.5; stroke-linecap: square\"/>\n   </g>\n   <g id=\"line2d_95\">\n    <path d=\"M 49.633125 66.343981 \nL 69.163125 109.294373 \nL 88.693125 116.057024 \nL 108.223125 111.358253 \nL 127.753125 122.629593 \nL 147.283125 120.514951 \nL 166.813125 126.159755 \n\" clip-path=\"url(#pc94e86c32a)\" style=\"fill: none; stroke-dasharray: 5.55,2.4; stroke-dashoffset: 0; stroke: #ff7f0e; stroke-width: 1.5\"/>\n   </g>\n   <g id=\"line2d_96\">\n    <path d=\"M 49.633125 76.840251 \nL 69.163125 60.470682 \nL 88.693125 58.159684 \nL 108.223125 59.297675 \nL 127.753125 56.584003 \nL 147.283125 57.214275 \nL 166.813125 54.623156 \n\" clip-path=\"url(#pc94e86c32a)\" style=\"fill: none; stroke-dasharray: 9.6,2.4,1.5,2.4; stroke-dashoffset: 0; stroke: #2ca02c; stroke-width: 1.5\"/>\n   </g>\n   <g id=\"line2d_97\">\n    <path d=\"M 34.923295 13.5 \nL 44.646742 86.85053 \nL 54.370189 101.328855 \nL 64.093636 109.699974 \nL 73.817082 115.133463 \nL 83.540529 119.287493 \nL 93.263976 122.554525 \nL 102.987423 124.345906 \nL 112.71087 126.422896 \nL 122.434316 128.477496 \nL 132.157763 130.909624 \nL 141.88121 130.537498 \nL 151.604657 132.404139 \nL 161.328104 133.179786 \nL 171.051551 134.972384 \nL 180.774997 135.412494 \n\" clip-path=\"url(#pc94e86c32a)\" style=\"fill: none; stroke: #1f77b4; stroke-width: 1.5; stroke-linecap: square\"/>\n   </g>\n   <g id=\"line2d_98\">\n    <path d=\"M 49.633125 66.343981 \nL 69.163125 109.294373 \nL 88.693125 116.057024 \nL 108.223125 111.358253 \nL 127.753125 122.629593 \nL 147.283125 120.514951 \nL 166.813125 126.159755 \nL 186.343125 127.454031 \n\" clip-path=\"url(#pc94e86c32a)\" style=\"fill: none; stroke-dasharray: 5.55,2.4; stroke-dashoffset: 0; stroke: #ff7f0e; stroke-width: 1.5\"/>\n   </g>\n   <g id=\"line2d_99\">\n    <path d=\"M 49.633125 76.840251 \nL 69.163125 60.470682 \nL 88.693125 58.159684 \nL 108.223125 59.297675 \nL 127.753125 56.584003 \nL 147.283125 57.214275 \nL 166.813125 54.623156 \n\" clip-path=\"url(#pc94e86c32a)\" style=\"fill: none; stroke-dasharray: 9.6,2.4,1.5,2.4; stroke-dashoffset: 0; stroke: #2ca02c; stroke-width: 1.5\"/>\n   </g>\n   <g id=\"line2d_100\">\n    <path d=\"M 34.923295 13.5 \nL 44.646742 86.85053 \nL 54.370189 101.328855 \nL 64.093636 109.699974 \nL 73.817082 115.133463 \nL 83.540529 119.287493 \nL 93.263976 122.554525 \nL 102.987423 124.345906 \nL 112.71087 126.422896 \nL 122.434316 128.477496 \nL 132.157763 130.909624 \nL 141.88121 130.537498 \nL 151.604657 132.404139 \nL 161.328104 133.179786 \nL 171.051551 134.972384 \nL 180.774997 135.412494 \n\" clip-path=\"url(#pc94e86c32a)\" style=\"fill: none; stroke: #1f77b4; stroke-width: 1.5; stroke-linecap: square\"/>\n   </g>\n   <g id=\"line2d_101\">\n    <path d=\"M 49.633125 66.343981 \nL 69.163125 109.294373 \nL 88.693125 116.057024 \nL 108.223125 111.358253 \nL 127.753125 122.629593 \nL 147.283125 120.514951 \nL 166.813125 126.159755 \nL 186.343125 127.454031 \n\" clip-path=\"url(#pc94e86c32a)\" style=\"fill: none; stroke-dasharray: 5.55,2.4; stroke-dashoffset: 0; stroke: #ff7f0e; stroke-width: 1.5\"/>\n   </g>\n   <g id=\"line2d_102\">\n    <path d=\"M 49.633125 76.840251 \nL 69.163125 60.470682 \nL 88.693125 58.159684 \nL 108.223125 59.297675 \nL 127.753125 56.584003 \nL 147.283125 57.214275 \nL 166.813125 54.623156 \nL 186.343125 54.360543 \n\" clip-path=\"url(#pc94e86c32a)\" style=\"fill: none; stroke-dasharray: 9.6,2.4,1.5,2.4; stroke-dashoffset: 0; stroke: #2ca02c; stroke-width: 1.5\"/>\n   </g>\n   <g id=\"line2d_103\">\n    <path d=\"M 34.923295 13.5 \nL 44.646742 86.85053 \nL 54.370189 101.328855 \nL 64.093636 109.699974 \nL 73.817082 115.133463 \nL 83.540529 119.287493 \nL 93.263976 122.554525 \nL 102.987423 124.345906 \nL 112.71087 126.422896 \nL 122.434316 128.477496 \nL 132.157763 130.909624 \nL 141.88121 130.537498 \nL 151.604657 132.404139 \nL 161.328104 133.179786 \nL 171.051551 134.972384 \nL 180.774997 135.412494 \nL 190.498444 136.793592 \n\" clip-path=\"url(#pc94e86c32a)\" style=\"fill: none; stroke: #1f77b4; stroke-width: 1.5; stroke-linecap: square\"/>\n   </g>\n   <g id=\"line2d_104\">\n    <path d=\"M 49.633125 66.343981 \nL 69.163125 109.294373 \nL 88.693125 116.057024 \nL 108.223125 111.358253 \nL 127.753125 122.629593 \nL 147.283125 120.514951 \nL 166.813125 126.159755 \nL 186.343125 127.454031 \n\" clip-path=\"url(#pc94e86c32a)\" style=\"fill: none; stroke-dasharray: 5.55,2.4; stroke-dashoffset: 0; stroke: #ff7f0e; stroke-width: 1.5\"/>\n   </g>\n   <g id=\"line2d_105\">\n    <path d=\"M 49.633125 76.840251 \nL 69.163125 60.470682 \nL 88.693125 58.159684 \nL 108.223125 59.297675 \nL 127.753125 56.584003 \nL 147.283125 57.214275 \nL 166.813125 54.623156 \nL 186.343125 54.360543 \n\" clip-path=\"url(#pc94e86c32a)\" style=\"fill: none; stroke-dasharray: 9.6,2.4,1.5,2.4; stroke-dashoffset: 0; stroke: #2ca02c; stroke-width: 1.5\"/>\n   </g>\n   <g id=\"line2d_106\">\n    <path d=\"M 34.923295 13.5 \nL 44.646742 86.85053 \nL 54.370189 101.328855 \nL 64.093636 109.699974 \nL 73.817082 115.133463 \nL 83.540529 119.287493 \nL 93.263976 122.554525 \nL 102.987423 124.345906 \nL 112.71087 126.422896 \nL 122.434316 128.477496 \nL 132.157763 130.909624 \nL 141.88121 130.537498 \nL 151.604657 132.404139 \nL 161.328104 133.179786 \nL 171.051551 134.972384 \nL 180.774997 135.412494 \nL 190.498444 136.793592 \nL 200.221891 137.076736 \n\" clip-path=\"url(#pc94e86c32a)\" style=\"fill: none; stroke: #1f77b4; stroke-width: 1.5; stroke-linecap: square\"/>\n   </g>\n   <g id=\"line2d_107\">\n    <path d=\"M 49.633125 66.343981 \nL 69.163125 109.294373 \nL 88.693125 116.057024 \nL 108.223125 111.358253 \nL 127.753125 122.629593 \nL 147.283125 120.514951 \nL 166.813125 126.159755 \nL 186.343125 127.454031 \n\" clip-path=\"url(#pc94e86c32a)\" style=\"fill: none; stroke-dasharray: 5.55,2.4; stroke-dashoffset: 0; stroke: #ff7f0e; stroke-width: 1.5\"/>\n   </g>\n   <g id=\"line2d_108\">\n    <path d=\"M 49.633125 76.840251 \nL 69.163125 60.470682 \nL 88.693125 58.159684 \nL 108.223125 59.297675 \nL 127.753125 56.584003 \nL 147.283125 57.214275 \nL 166.813125 54.623156 \nL 186.343125 54.360543 \n\" clip-path=\"url(#pc94e86c32a)\" style=\"fill: none; stroke-dasharray: 9.6,2.4,1.5,2.4; stroke-dashoffset: 0; stroke: #2ca02c; stroke-width: 1.5\"/>\n   </g>\n   <g id=\"line2d_109\">\n    <path d=\"M 34.923295 13.5 \nL 44.646742 86.85053 \nL 54.370189 101.328855 \nL 64.093636 109.699974 \nL 73.817082 115.133463 \nL 83.540529 119.287493 \nL 93.263976 122.554525 \nL 102.987423 124.345906 \nL 112.71087 126.422896 \nL 122.434316 128.477496 \nL 132.157763 130.909624 \nL 141.88121 130.537498 \nL 151.604657 132.404139 \nL 161.328104 133.179786 \nL 171.051551 134.972384 \nL 180.774997 135.412494 \nL 190.498444 136.793592 \nL 200.221891 137.076736 \n\" clip-path=\"url(#pc94e86c32a)\" style=\"fill: none; stroke: #1f77b4; stroke-width: 1.5; stroke-linecap: square\"/>\n   </g>\n   <g id=\"line2d_110\">\n    <path d=\"M 49.633125 66.343981 \nL 69.163125 109.294373 \nL 88.693125 116.057024 \nL 108.223125 111.358253 \nL 127.753125 122.629593 \nL 147.283125 120.514951 \nL 166.813125 126.159755 \nL 186.343125 127.454031 \nL 205.873125 131.36581 \n\" clip-path=\"url(#pc94e86c32a)\" style=\"fill: none; stroke-dasharray: 5.55,2.4; stroke-dashoffset: 0; stroke: #ff7f0e; stroke-width: 1.5\"/>\n   </g>\n   <g id=\"line2d_111\">\n    <path d=\"M 49.633125 76.840251 \nL 69.163125 60.470682 \nL 88.693125 58.159684 \nL 108.223125 59.297675 \nL 127.753125 56.584003 \nL 147.283125 57.214275 \nL 166.813125 54.623156 \nL 186.343125 54.360543 \n\" clip-path=\"url(#pc94e86c32a)\" style=\"fill: none; stroke-dasharray: 9.6,2.4,1.5,2.4; stroke-dashoffset: 0; stroke: #2ca02c; stroke-width: 1.5\"/>\n   </g>\n   <g id=\"line2d_112\">\n    <path d=\"M 34.923295 13.5 \nL 44.646742 86.85053 \nL 54.370189 101.328855 \nL 64.093636 109.699974 \nL 73.817082 115.133463 \nL 83.540529 119.287493 \nL 93.263976 122.554525 \nL 102.987423 124.345906 \nL 112.71087 126.422896 \nL 122.434316 128.477496 \nL 132.157763 130.909624 \nL 141.88121 130.537498 \nL 151.604657 132.404139 \nL 161.328104 133.179786 \nL 171.051551 134.972384 \nL 180.774997 135.412494 \nL 190.498444 136.793592 \nL 200.221891 137.076736 \n\" clip-path=\"url(#pc94e86c32a)\" style=\"fill: none; stroke: #1f77b4; stroke-width: 1.5; stroke-linecap: square\"/>\n   </g>\n   <g id=\"line2d_113\">\n    <path d=\"M 49.633125 66.343981 \nL 69.163125 109.294373 \nL 88.693125 116.057024 \nL 108.223125 111.358253 \nL 127.753125 122.629593 \nL 147.283125 120.514951 \nL 166.813125 126.159755 \nL 186.343125 127.454031 \nL 205.873125 131.36581 \n\" clip-path=\"url(#pc94e86c32a)\" style=\"fill: none; stroke-dasharray: 5.55,2.4; stroke-dashoffset: 0; stroke: #ff7f0e; stroke-width: 1.5\"/>\n   </g>\n   <g id=\"line2d_114\">\n    <path d=\"M 49.633125 76.840251 \nL 69.163125 60.470682 \nL 88.693125 58.159684 \nL 108.223125 59.297675 \nL 127.753125 56.584003 \nL 147.283125 57.214275 \nL 166.813125 54.623156 \nL 186.343125 54.360543 \nL 205.873125 52.837385 \n\" clip-path=\"url(#pc94e86c32a)\" style=\"fill: none; stroke-dasharray: 9.6,2.4,1.5,2.4; stroke-dashoffset: 0; stroke: #2ca02c; stroke-width: 1.5\"/>\n   </g>\n   <g id=\"line2d_115\">\n    <path d=\"M 34.923295 13.5 \nL 44.646742 86.85053 \nL 54.370189 101.328855 \nL 64.093636 109.699974 \nL 73.817082 115.133463 \nL 83.540529 119.287493 \nL 93.263976 122.554525 \nL 102.987423 124.345906 \nL 112.71087 126.422896 \nL 122.434316 128.477496 \nL 132.157763 130.909624 \nL 141.88121 130.537498 \nL 151.604657 132.404139 \nL 161.328104 133.179786 \nL 171.051551 134.972384 \nL 180.774997 135.412494 \nL 190.498444 136.793592 \nL 200.221891 137.076736 \nL 209.945338 139.5 \n\" clip-path=\"url(#pc94e86c32a)\" style=\"fill: none; stroke: #1f77b4; stroke-width: 1.5; stroke-linecap: square\"/>\n   </g>\n   <g id=\"line2d_116\">\n    <path d=\"M 49.633125 66.343981 \nL 69.163125 109.294373 \nL 88.693125 116.057024 \nL 108.223125 111.358253 \nL 127.753125 122.629593 \nL 147.283125 120.514951 \nL 166.813125 126.159755 \nL 186.343125 127.454031 \nL 205.873125 131.36581 \n\" clip-path=\"url(#pc94e86c32a)\" style=\"fill: none; stroke-dasharray: 5.55,2.4; stroke-dashoffset: 0; stroke: #ff7f0e; stroke-width: 1.5\"/>\n   </g>\n   <g id=\"line2d_117\">\n    <path d=\"M 49.633125 76.840251 \nL 69.163125 60.470682 \nL 88.693125 58.159684 \nL 108.223125 59.297675 \nL 127.753125 56.584003 \nL 147.283125 57.214275 \nL 166.813125 54.623156 \nL 186.343125 54.360543 \nL 205.873125 52.837385 \n\" clip-path=\"url(#pc94e86c32a)\" style=\"fill: none; stroke-dasharray: 9.6,2.4,1.5,2.4; stroke-dashoffset: 0; stroke: #2ca02c; stroke-width: 1.5\"/>\n   </g>\n   <g id=\"line2d_118\">\n    <path d=\"M 34.923295 13.5 \nL 44.646742 86.85053 \nL 54.370189 101.328855 \nL 64.093636 109.699974 \nL 73.817082 115.133463 \nL 83.540529 119.287493 \nL 93.263976 122.554525 \nL 102.987423 124.345906 \nL 112.71087 126.422896 \nL 122.434316 128.477496 \nL 132.157763 130.909624 \nL 141.88121 130.537498 \nL 151.604657 132.404139 \nL 161.328104 133.179786 \nL 171.051551 134.972384 \nL 180.774997 135.412494 \nL 190.498444 136.793592 \nL 200.221891 137.076736 \nL 209.945338 139.5 \nL 219.668785 138.081517 \n\" clip-path=\"url(#pc94e86c32a)\" style=\"fill: none; stroke: #1f77b4; stroke-width: 1.5; stroke-linecap: square\"/>\n   </g>\n   <g id=\"line2d_119\">\n    <path d=\"M 49.633125 66.343981 \nL 69.163125 109.294373 \nL 88.693125 116.057024 \nL 108.223125 111.358253 \nL 127.753125 122.629593 \nL 147.283125 120.514951 \nL 166.813125 126.159755 \nL 186.343125 127.454031 \nL 205.873125 131.36581 \n\" clip-path=\"url(#pc94e86c32a)\" style=\"fill: none; stroke-dasharray: 5.55,2.4; stroke-dashoffset: 0; stroke: #ff7f0e; stroke-width: 1.5\"/>\n   </g>\n   <g id=\"line2d_120\">\n    <path d=\"M 49.633125 76.840251 \nL 69.163125 60.470682 \nL 88.693125 58.159684 \nL 108.223125 59.297675 \nL 127.753125 56.584003 \nL 147.283125 57.214275 \nL 166.813125 54.623156 \nL 186.343125 54.360543 \nL 205.873125 52.837385 \n\" clip-path=\"url(#pc94e86c32a)\" style=\"fill: none; stroke-dasharray: 9.6,2.4,1.5,2.4; stroke-dashoffset: 0; stroke: #2ca02c; stroke-width: 1.5\"/>\n   </g>\n   <g id=\"line2d_121\">\n    <path d=\"M 34.923295 13.5 \nL 44.646742 86.85053 \nL 54.370189 101.328855 \nL 64.093636 109.699974 \nL 73.817082 115.133463 \nL 83.540529 119.287493 \nL 93.263976 122.554525 \nL 102.987423 124.345906 \nL 112.71087 126.422896 \nL 122.434316 128.477496 \nL 132.157763 130.909624 \nL 141.88121 130.537498 \nL 151.604657 132.404139 \nL 161.328104 133.179786 \nL 171.051551 134.972384 \nL 180.774997 135.412494 \nL 190.498444 136.793592 \nL 200.221891 137.076736 \nL 209.945338 139.5 \nL 219.668785 138.081517 \n\" clip-path=\"url(#pc94e86c32a)\" style=\"fill: none; stroke: #1f77b4; stroke-width: 1.5; stroke-linecap: square\"/>\n   </g>\n   <g id=\"line2d_122\">\n    <path d=\"M 49.633125 66.343981 \nL 69.163125 109.294373 \nL 88.693125 116.057024 \nL 108.223125 111.358253 \nL 127.753125 122.629593 \nL 147.283125 120.514951 \nL 166.813125 126.159755 \nL 186.343125 127.454031 \nL 205.873125 131.36581 \nL 225.403125 132.754811 \n\" clip-path=\"url(#pc94e86c32a)\" style=\"fill: none; stroke-dasharray: 5.55,2.4; stroke-dashoffset: 0; stroke: #ff7f0e; stroke-width: 1.5\"/>\n   </g>\n   <g id=\"line2d_123\">\n    <path d=\"M 49.633125 76.840251 \nL 69.163125 60.470682 \nL 88.693125 58.159684 \nL 108.223125 59.297675 \nL 127.753125 56.584003 \nL 147.283125 57.214275 \nL 166.813125 54.623156 \nL 186.343125 54.360543 \nL 205.873125 52.837385 \n\" clip-path=\"url(#pc94e86c32a)\" style=\"fill: none; stroke-dasharray: 9.6,2.4,1.5,2.4; stroke-dashoffset: 0; stroke: #2ca02c; stroke-width: 1.5\"/>\n   </g>\n   <g id=\"line2d_124\">\n    <path d=\"M 34.923295 13.5 \nL 44.646742 86.85053 \nL 54.370189 101.328855 \nL 64.093636 109.699974 \nL 73.817082 115.133463 \nL 83.540529 119.287493 \nL 93.263976 122.554525 \nL 102.987423 124.345906 \nL 112.71087 126.422896 \nL 122.434316 128.477496 \nL 132.157763 130.909624 \nL 141.88121 130.537498 \nL 151.604657 132.404139 \nL 161.328104 133.179786 \nL 171.051551 134.972384 \nL 180.774997 135.412494 \nL 190.498444 136.793592 \nL 200.221891 137.076736 \nL 209.945338 139.5 \nL 219.668785 138.081517 \n\" clip-path=\"url(#pc94e86c32a)\" style=\"fill: none; stroke: #1f77b4; stroke-width: 1.5; stroke-linecap: square\"/>\n   </g>\n   <g id=\"line2d_125\">\n    <path d=\"M 49.633125 66.343981 \nL 69.163125 109.294373 \nL 88.693125 116.057024 \nL 108.223125 111.358253 \nL 127.753125 122.629593 \nL 147.283125 120.514951 \nL 166.813125 126.159755 \nL 186.343125 127.454031 \nL 205.873125 131.36581 \nL 225.403125 132.754811 \n\" clip-path=\"url(#pc94e86c32a)\" style=\"fill: none; stroke-dasharray: 5.55,2.4; stroke-dashoffset: 0; stroke: #ff7f0e; stroke-width: 1.5\"/>\n   </g>\n   <g id=\"line2d_126\">\n    <path d=\"M 49.633125 76.840251 \nL 69.163125 60.470682 \nL 88.693125 58.159684 \nL 108.223125 59.297675 \nL 127.753125 56.584003 \nL 147.283125 57.214275 \nL 166.813125 54.623156 \nL 186.343125 54.360543 \nL 205.873125 52.837385 \nL 225.403125 52.382189 \n\" clip-path=\"url(#pc94e86c32a)\" style=\"fill: none; stroke-dasharray: 9.6,2.4,1.5,2.4; stroke-dashoffset: 0; stroke: #2ca02c; stroke-width: 1.5\"/>\n   </g>\n   <g id=\"patch_3\">\n    <path d=\"M 30.103125 145.8 \nL 30.103125 7.2 \n\" style=\"fill: none; stroke: #000000; stroke-width: 0.8; stroke-linejoin: miter; stroke-linecap: square\"/>\n   </g>\n   <g id=\"patch_4\">\n    <path d=\"M 225.403125 145.8 \nL 225.403125 7.2 \n\" style=\"fill: none; stroke: #000000; stroke-width: 0.8; stroke-linejoin: miter; stroke-linecap: square\"/>\n   </g>\n   <g id=\"patch_5\">\n    <path d=\"M 30.103125 145.8 \nL 225.403125 145.8 \n\" style=\"fill: none; stroke: #000000; stroke-width: 0.8; stroke-linejoin: miter; stroke-linecap: square\"/>\n   </g>\n   <g id=\"patch_6\">\n    <path d=\"M 30.103125 7.2 \nL 225.403125 7.2 \n\" style=\"fill: none; stroke: #000000; stroke-width: 0.8; stroke-linejoin: miter; stroke-linecap: square\"/>\n   </g>\n   <g id=\"legend_1\">\n    <g id=\"patch_7\">\n     <path d=\"M 138.8125 60.06875 \nL 218.403125 60.06875 \nQ 220.403125 60.06875 220.403125 58.06875 \nL 220.403125 14.2 \nQ 220.403125 12.2 218.403125 12.2 \nL 138.8125 12.2 \nQ 136.8125 12.2 136.8125 14.2 \nL 136.8125 58.06875 \nQ 136.8125 60.06875 138.8125 60.06875 \nz\n\" style=\"fill: #ffffff; opacity: 0.8; stroke: #cccccc; stroke-linejoin: miter\"/>\n    </g>\n    <g id=\"line2d_127\">\n     <path d=\"M 140.8125 20.298438 \nL 150.8125 20.298438 \nL 160.8125 20.298438 \n\" style=\"fill: none; stroke: #1f77b4; stroke-width: 1.5; stroke-linecap: square\"/>\n    </g>\n    <g id=\"text_12\">\n     <!-- train_loss -->\n     <g transform=\"translate(168.8125 23.798438) scale(0.1 -0.1)\">\n      <defs>\n       <path id=\"DejaVuSans-74\" d=\"M 1172 4494 \nL 1172 3500 \nL 2356 3500 \nL 2356 3053 \nL 1172 3053 \nL 1172 1153 \nQ 1172 725 1289 603 \nQ 1406 481 1766 481 \nL 2356 481 \nL 2356 0 \nL 1766 0 \nQ 1100 0 847 248 \nQ 594 497 594 1153 \nL 594 3053 \nL 172 3053 \nL 172 3500 \nL 594 3500 \nL 594 4494 \nL 1172 4494 \nz\n\" transform=\"scale(0.015625)\"/>\n       <path id=\"DejaVuSans-72\" d=\"M 2631 2963 \nQ 2534 3019 2420 3045 \nQ 2306 3072 2169 3072 \nQ 1681 3072 1420 2755 \nQ 1159 2438 1159 1844 \nL 1159 0 \nL 581 0 \nL 581 3500 \nL 1159 3500 \nL 1159 2956 \nQ 1341 3275 1631 3429 \nQ 1922 3584 2338 3584 \nQ 2397 3584 2469 3576 \nQ 2541 3569 2628 3553 \nL 2631 2963 \nz\n\" transform=\"scale(0.015625)\"/>\n       <path id=\"DejaVuSans-61\" d=\"M 2194 1759 \nQ 1497 1759 1228 1600 \nQ 959 1441 959 1056 \nQ 959 750 1161 570 \nQ 1363 391 1709 391 \nQ 2188 391 2477 730 \nQ 2766 1069 2766 1631 \nL 2766 1759 \nL 2194 1759 \nz\nM 3341 1997 \nL 3341 0 \nL 2766 0 \nL 2766 531 \nQ 2569 213 2275 61 \nQ 1981 -91 1556 -91 \nQ 1019 -91 701 211 \nQ 384 513 384 1019 \nQ 384 1609 779 1909 \nQ 1175 2209 1959 2209 \nL 2766 2209 \nL 2766 2266 \nQ 2766 2663 2505 2880 \nQ 2244 3097 1772 3097 \nQ 1472 3097 1187 3025 \nQ 903 2953 641 2809 \nL 641 3341 \nQ 956 3463 1253 3523 \nQ 1550 3584 1831 3584 \nQ 2591 3584 2966 3190 \nQ 3341 2797 3341 1997 \nz\n\" transform=\"scale(0.015625)\"/>\n       <path id=\"DejaVuSans-69\" d=\"M 603 3500 \nL 1178 3500 \nL 1178 0 \nL 603 0 \nL 603 3500 \nz\nM 603 4863 \nL 1178 4863 \nL 1178 4134 \nL 603 4134 \nL 603 4863 \nz\n\" transform=\"scale(0.015625)\"/>\n       <path id=\"DejaVuSans-6e\" d=\"M 3513 2113 \nL 3513 0 \nL 2938 0 \nL 2938 2094 \nQ 2938 2591 2744 2837 \nQ 2550 3084 2163 3084 \nQ 1697 3084 1428 2787 \nQ 1159 2491 1159 1978 \nL 1159 0 \nL 581 0 \nL 581 3500 \nL 1159 3500 \nL 1159 2956 \nQ 1366 3272 1645 3428 \nQ 1925 3584 2291 3584 \nQ 2894 3584 3203 3211 \nQ 3513 2838 3513 2113 \nz\n\" transform=\"scale(0.015625)\"/>\n       <path id=\"DejaVuSans-5f\" d=\"M 3263 -1063 \nL 3263 -1509 \nL -63 -1509 \nL -63 -1063 \nL 3263 -1063 \nz\n\" transform=\"scale(0.015625)\"/>\n       <path id=\"DejaVuSans-6c\" d=\"M 603 4863 \nL 1178 4863 \nL 1178 0 \nL 603 0 \nL 603 4863 \nz\n\" transform=\"scale(0.015625)\"/>\n       <path id=\"DejaVuSans-73\" d=\"M 2834 3397 \nL 2834 2853 \nQ 2591 2978 2328 3040 \nQ 2066 3103 1784 3103 \nQ 1356 3103 1142 2972 \nQ 928 2841 928 2578 \nQ 928 2378 1081 2264 \nQ 1234 2150 1697 2047 \nL 1894 2003 \nQ 2506 1872 2764 1633 \nQ 3022 1394 3022 966 \nQ 3022 478 2636 193 \nQ 2250 -91 1575 -91 \nQ 1294 -91 989 -36 \nQ 684 19 347 128 \nL 347 722 \nQ 666 556 975 473 \nQ 1284 391 1588 391 \nQ 1994 391 2212 530 \nQ 2431 669 2431 922 \nQ 2431 1156 2273 1281 \nQ 2116 1406 1581 1522 \nL 1381 1569 \nQ 847 1681 609 1914 \nQ 372 2147 372 2553 \nQ 372 3047 722 3315 \nQ 1072 3584 1716 3584 \nQ 2034 3584 2315 3537 \nQ 2597 3491 2834 3397 \nz\n\" transform=\"scale(0.015625)\"/>\n      </defs>\n      <use xlink:href=\"#DejaVuSans-74\"/>\n      <use xlink:href=\"#DejaVuSans-72\" x=\"39.208984\"/>\n      <use xlink:href=\"#DejaVuSans-61\" x=\"80.322266\"/>\n      <use xlink:href=\"#DejaVuSans-69\" x=\"141.601562\"/>\n      <use xlink:href=\"#DejaVuSans-6e\" x=\"169.384766\"/>\n      <use xlink:href=\"#DejaVuSans-5f\" x=\"232.763672\"/>\n      <use xlink:href=\"#DejaVuSans-6c\" x=\"282.763672\"/>\n      <use xlink:href=\"#DejaVuSans-6f\" x=\"310.546875\"/>\n      <use xlink:href=\"#DejaVuSans-73\" x=\"371.728516\"/>\n      <use xlink:href=\"#DejaVuSans-73\" x=\"423.828125\"/>\n     </g>\n    </g>\n    <g id=\"line2d_128\">\n     <path d=\"M 140.8125 35.254688 \nL 150.8125 35.254688 \nL 160.8125 35.254688 \n\" style=\"fill: none; stroke-dasharray: 5.55,2.4; stroke-dashoffset: 0; stroke: #ff7f0e; stroke-width: 1.5\"/>\n    </g>\n    <g id=\"text_13\">\n     <!-- val_loss -->\n     <g transform=\"translate(168.8125 38.754688) scale(0.1 -0.1)\">\n      <defs>\n       <path id=\"DejaVuSans-76\" d=\"M 191 3500 \nL 800 3500 \nL 1894 563 \nL 2988 3500 \nL 3597 3500 \nL 2284 0 \nL 1503 0 \nL 191 3500 \nz\n\" transform=\"scale(0.015625)\"/>\n      </defs>\n      <use xlink:href=\"#DejaVuSans-76\"/>\n      <use xlink:href=\"#DejaVuSans-61\" x=\"59.179688\"/>\n      <use xlink:href=\"#DejaVuSans-6c\" x=\"120.458984\"/>\n      <use xlink:href=\"#DejaVuSans-5f\" x=\"148.242188\"/>\n      <use xlink:href=\"#DejaVuSans-6c\" x=\"198.242188\"/>\n      <use xlink:href=\"#DejaVuSans-6f\" x=\"226.025391\"/>\n      <use xlink:href=\"#DejaVuSans-73\" x=\"287.207031\"/>\n      <use xlink:href=\"#DejaVuSans-73\" x=\"339.306641\"/>\n     </g>\n    </g>\n    <g id=\"line2d_129\">\n     <path d=\"M 140.8125 50.210938 \nL 150.8125 50.210938 \nL 160.8125 50.210938 \n\" style=\"fill: none; stroke-dasharray: 9.6,2.4,1.5,2.4; stroke-dashoffset: 0; stroke: #2ca02c; stroke-width: 1.5\"/>\n    </g>\n    <g id=\"text_14\">\n     <!-- val_acc -->\n     <g transform=\"translate(168.8125 53.710938) scale(0.1 -0.1)\">\n      <use xlink:href=\"#DejaVuSans-76\"/>\n      <use xlink:href=\"#DejaVuSans-61\" x=\"59.179688\"/>\n      <use xlink:href=\"#DejaVuSans-6c\" x=\"120.458984\"/>\n      <use xlink:href=\"#DejaVuSans-5f\" x=\"148.242188\"/>\n      <use xlink:href=\"#DejaVuSans-61\" x=\"198.242188\"/>\n      <use xlink:href=\"#DejaVuSans-63\" x=\"259.521484\"/>\n      <use xlink:href=\"#DejaVuSans-63\" x=\"314.501953\"/>\n     </g>\n    </g>\n   </g>\n  </g>\n </g>\n <defs>\n  <clipPath id=\"pc94e86c32a\">\n   <rect x=\"30.103125\" y=\"7.2\" width=\"195.3\" height=\"138.6\"/>\n  </clipPath>\n </defs>\n</svg>\n"
          },
          "metadata": {}
        }
      ],
      "source": [
        "model = MLP(num_outputs=10, num_hiddens=256, lr=0.1)\n",
        "trainer.fit(model, data)"
      ]
    },
    {
      "cell_type": "markdown",
      "id": "8b353853",
      "metadata": {
        "origin_pos": 31,
        "id": "8b353853"
      },
      "source": [
        "## Summary\n",
        "\n",
        "Now that we have more practice in designing deep networks, the step from a single to multiple layers of deep networks does not pose such a significant challenge any longer. In particular, we can reuse the training algorithm and data loader. Note, though, that implementing MLPs from scratch is nonetheless messy: naming and keeping track of the model parameters makes it difficult to extend models. For instance, imagine wanting to insert another layer between layers 42 and 43. This might now be layer 42b, unless we are willing to perform sequential renaming. Moreover, if we implement the network from scratch, it is much more difficult for the framework to perform meaningful performance optimizations.\n",
        "\n",
        "Nonetheless, you have now reached the state of the art of the late 1980s when fully connected deep networks were the method of choice for neural network modeling. Our next conceptual step will be to consider images. Before we do so, we need to review a number of statistical basics and details on how to compute models efficiently.\n",
        "\n",
        "\n",
        "## Exercises\n",
        "\n",
        "1. Change the number of hidden units `num_hiddens` and plot how its number affects the accuracy of the model. What is the best value of this hyperparameter?\n",
        "1. Try adding a hidden layer to see how it affects the results.\n",
        "1. Why is it a bad idea to insert a hidden layer with a single neuron? What could go wrong?\n",
        "1. How does changing the learning rate alter your results? With all other parameters fixed, which learning rate gives you the best results? How does this relate to the number of epochs?\n",
        "1. Let's optimize over all hyperparameters jointly, i.e., learning rate, number of epochs, number of hidden layers, and number of hidden units per layer.\n",
        "    1. What is the best result you can get by optimizing over all of them?\n",
        "    1. Why it is much more challenging to deal with multiple hyperparameters?\n",
        "    1. Describe an efficient strategy for optimizing over multiple parameters jointly.\n",
        "1. Compare the speed of the framework and the from-scratch implementation for a challenging problem. How does it change with the complexity of the network?\n",
        "1. Measure the speed of tensor--matrix multiplications for well-aligned and misaligned matrices. For instance, test for matrices with dimension 1024, 1025, 1026, 1028, and 1032.\n",
        "    1. How does this change between GPUs and CPUs?\n",
        "    1. Determine the memory bus width of your CPU and GPU.\n",
        "1. Try out different activation functions. Which one works best?\n",
        "1. Is there a difference between weight initializations of the network? Does it matter?\n"
      ]
    },
    {
      "cell_type": "markdown",
      "source": [
        "## Exercises"
      ],
      "metadata": {
        "id": "RUbJJhcUYXFS"
      },
      "id": "RUbJJhcUYXFS"
    },
    {
      "cell_type": "markdown",
      "source": [],
      "metadata": {
        "id": "p-8eY13V0ai1"
      },
      "id": "p-8eY13V0ai1"
    },
    {
      "cell_type": "markdown",
      "source": [
        "### 5.Let’s optimize over all hyperparameters jointly, i.e., learning rate, number of epochs, number of hidden layers, and number of hidden units per layer."
      ],
      "metadata": {
        "id": "nseaEYyByljg"
      },
      "id": "nseaEYyByljg"
    },
    {
      "cell_type": "code",
      "source": [
        "# bổ sung import\n",
        "import time\n",
        "import random\n",
        "print(f\"✅ CUDA available: {torch.cuda.is_available()}\")\n",
        "\n",
        "device = 'cuda' if torch.cuda.is_available() else 'cpu'\n",
        "print(f\"Đang sử dụng: {device.upper()}\")"
      ],
      "metadata": {
        "colab": {
          "base_uri": "https://localhost:8080/"
        },
        "id": "sZXkx2wi0pZF",
        "outputId": "6272fe4e-1bde-40ac-a1d4-0630bebcb4b3"
      },
      "id": "sZXkx2wi0pZF",
      "execution_count": 7,
      "outputs": [
        {
          "output_type": "stream",
          "name": "stdout",
          "text": [
            "✅ CUDA available: True\n",
            "📦 Đang sử dụng: CUDA\n"
          ]
        }
      ]
    },
    {
      "cell_type": "code",
      "source": [
        "from torchvision import transforms\n",
        "from torchvision.datasets import FashionMNIST\n",
        "from torch.utils.data import DataLoader\n",
        "\n",
        "# ✅ Viết lại hàm có num_workers\n",
        "def load_data_fashion_mnist(batch_size, resize=None, num_workers=2):\n",
        "    trans = [transforms.ToTensor()]\n",
        "    if resize:\n",
        "        trans.insert(0, transforms.Resize(resize))\n",
        "    trans = transforms.Compose(trans)\n",
        "\n",
        "    mnist_train = FashionMNIST(root=\"./data\", train=True, download=True, transform=trans)\n",
        "    mnist_test = FashionMNIST(root=\"./data\", train=False, download=True, transform=trans)\n",
        "\n",
        "    return (\n",
        "        DataLoader(mnist_train, batch_size=batch_size, shuffle=True, num_workers=num_workers),\n",
        "        DataLoader(mnist_test, batch_size=batch_size, shuffle=False, num_workers=num_workers)\n",
        "    )\n"
      ],
      "metadata": {
        "id": "AHDSkkIe5xP-"
      },
      "id": "AHDSkkIe5xP-",
      "execution_count": 11,
      "outputs": []
    },
    {
      "cell_type": "markdown",
      "source": [
        "Build MLP Function"
      ],
      "metadata": {
        "id": "UFhxoiMY2vIk"
      },
      "id": "UFhxoiMY2vIk"
    },
    {
      "cell_type": "code",
      "source": [
        "def build_mlp(units_per_layer):\n",
        "    layers = [nn.Flatten()]\n",
        "    input_dim = 784  # 28x28 ảnh\n",
        "\n",
        "    for units in units_per_layer:\n",
        "        layers.append(nn.Linear(input_dim, units))\n",
        "        layers.append(nn.ReLU())\n",
        "        input_dim = units\n",
        "\n",
        "    layers.append(nn.Linear(input_dim, 10))  # output lớp\n",
        "    return nn.Sequential(*layers).to(device)"
      ],
      "metadata": {
        "id": "iOutiMBs5C8M"
      },
      "id": "iOutiMBs5C8M",
      "execution_count": 37,
      "outputs": []
    },
    {
      "cell_type": "code",
      "source": [
        "def train_mlp(hidden_units, lr, batch_size, num_epochs):\n",
        "    net = build_mlp(hidden_units)\n",
        "    net.apply(lambda m: nn.init.xavier_uniform_(m.weight) if isinstance(m, nn.Linear) else None)\n",
        "\n",
        "    loss = nn.CrossEntropyLoss()\n",
        "    trainer = torch.optim.SGD(net.parameters(), lr=lr)\n",
        "\n",
        "    # ✅ tăng tốc load dữ liệu\n",
        "    train_iter, test_iter = load_data_fashion_mnist(batch_size, num_workers=2)\n",
        "\n",
        "    for epoch in range(num_epochs):\n",
        "        net.train()\n",
        "        for X, y in train_iter:\n",
        "            X, y = X.to(device), y.to(device)\n",
        "            trainer.zero_grad()\n",
        "            l = loss(net(X), y)\n",
        "            l.backward()\n",
        "            trainer.step()\n",
        "\n",
        "    acc = d2l.evaluate_accuracy_gpu(net, test_iter)\n",
        "    return acc\n"
      ],
      "metadata": {
        "id": "hr7k4wvWx5Uz"
      },
      "id": "hr7k4wvWx5Uz",
      "execution_count": 43,
      "outputs": []
    },
    {
      "cell_type": "code",
      "source": [
        "# Thông số cần thử\n",
        "hidden_options = [64, 128, 256, 512]\n",
        "lr_options = [0.01, 0.05, 0.1]\n",
        "batch_options = [32, 64, 128]\n",
        "num_trials = 5\n",
        "num_epochs = 10\n",
        "\n",
        "results = []\n",
        "start_time = time.time()\n",
        "\n",
        "for i in range(num_trials):\n",
        "    hidden_units = [random.choice(hidden_options)]\n",
        "    # thử random thêm tầng thứ 2\n",
        "    if random.random() < 0.5:\n",
        "        hidden_units.append(random.choice(hidden_options))\n",
        "\n",
        "    lr = random.choice(lr_options)\n",
        "    batch_size = random.choice(batch_options)\n",
        "\n",
        "    print(f\"\\n🎲 Trial {i+1}/{num_trials} → Hidden: {hidden_units}, LR: {lr}, Batch: {batch_size}\")\n",
        "    t0 = time.time()\n",
        "    acc = train_mlp(hidden_units, lr, batch_size, num_epochs)\n",
        "    t1 = time.time()\n",
        "\n",
        "    print(f\"✅ Accuracy: {acc:.4f} | ⏱ Thời gian: {t1 - t0:.2f} giây\")\n",
        "    results.append((acc, hidden_units, lr, batch_size, t1 - t0))\n",
        "\n",
        "total_time = time.time() - start_time\n",
        "print(f\"\\n⏱ Tổng thời gian tất cả trials: {total_time:.2f} giây\")\n"
      ],
      "metadata": {
        "colab": {
          "base_uri": "https://localhost:8080/"
        },
        "id": "13QULTQG0iPz",
        "outputId": "8a4a6fab-3052-4a35-c516-1f83574aeb78"
      },
      "id": "13QULTQG0iPz",
      "execution_count": 14,
      "outputs": [
        {
          "output_type": "stream",
          "name": "stdout",
          "text": [
            "\n",
            "🎲 Trial 1/5 → Hidden: [512], LR: 0.1, Batch: 32\n"
          ]
        },
        {
          "output_type": "stream",
          "name": "stderr",
          "text": [
            "100%|██████████| 26.4M/26.4M [00:01<00:00, 13.8MB/s]\n",
            "100%|██████████| 29.5k/29.5k [00:00<00:00, 201kB/s]\n",
            "100%|██████████| 4.42M/4.42M [00:01<00:00, 3.76MB/s]\n",
            "100%|██████████| 5.15k/5.15k [00:00<00:00, 10.3MB/s]\n"
          ]
        },
        {
          "output_type": "stream",
          "name": "stdout",
          "text": [
            "✅ Accuracy: 0.8802 | ⏱ Thời gian: 103.36 giây\n",
            "\n",
            "🎲 Trial 2/5 → Hidden: [256, 128], LR: 0.01, Batch: 64\n",
            "✅ Accuracy: 0.8496 | ⏱ Thời gian: 76.35 giây\n",
            "\n",
            "🎲 Trial 3/5 → Hidden: [512], LR: 0.1, Batch: 64\n",
            "✅ Accuracy: 0.8726 | ⏱ Thời gian: 75.50 giây\n",
            "\n",
            "🎲 Trial 4/5 → Hidden: [64, 128], LR: 0.1, Batch: 128\n",
            "✅ Accuracy: 0.8406 | ⏱ Thời gian: 65.59 giây\n",
            "\n",
            "🎲 Trial 5/5 → Hidden: [128, 256], LR: 0.05, Batch: 64\n",
            "✅ Accuracy: 0.8703 | ⏱ Thời gian: 85.98 giây\n",
            "\n",
            "⏱ Tổng thời gian tất cả trials: 406.79 giây\n"
          ]
        }
      ]
    },
    {
      "cell_type": "markdown",
      "source": [
        "1. What is the best result you can get by optimizing over all of them?"
      ],
      "metadata": {
        "id": "78cvA4YP1bgj"
      },
      "id": "78cvA4YP1bgj"
    },
    {
      "cell_type": "code",
      "source": [
        "best = max(results, key=lambda x: x[0])\n",
        "print(f\"\\n Kết quả tốt nhất: Accuracy = {best[0]:.4f}, Hidden = {best[1]}, LR = {best[2]}, Batch = {best[3]}\")"
      ],
      "metadata": {
        "colab": {
          "base_uri": "https://localhost:8080/"
        },
        "id": "tcUpT0M75j2q",
        "outputId": "03c165cc-bdcc-4fa8-ab9c-429bdf79a99e"
      },
      "id": "tcUpT0M75j2q",
      "execution_count": 16,
      "outputs": [
        {
          "output_type": "stream",
          "name": "stdout",
          "text": [
            "\n",
            " Kết quả tốt nhất: Accuracy = 0.8802, Hidden = [512], LR = 0.1, Batch = 32\n"
          ]
        }
      ]
    },
    {
      "cell_type": "markdown",
      "source": [
        "Note: do hạn chế về phần cứng nên chỉ cho epoch = 10 và trial 5 lần"
      ],
      "metadata": {
        "id": "WfZiDRsv2UAJ"
      },
      "id": "WfZiDRsv2UAJ"
    },
    {
      "cell_type": "markdown",
      "source": [
        "2. Why it is much more challenging to deal with multiple hyperparameters?"
      ],
      "metadata": {
        "id": "mfTi9EXl1ezg"
      },
      "id": "mfTi9EXl1ezg"
    },
    {
      "cell_type": "markdown",
      "source": [
        "Vì không gian tìm kiếm tăng theo cấp số mũ khi có nhiều siêu tham số, các tham số thường có mối quan hệ phức tạp với nhau, và mỗi tổ hợp cần huấn luyện mô hình đầy đủ, rất tốn thời gian và tài nguyên.\n"
      ],
      "metadata": {
        "id": "0GPlJ5Ph1kyU"
      },
      "id": "0GPlJ5Ph1kyU"
    },
    {
      "cell_type": "markdown",
      "source": [
        "3. Describe an efficient strategy for optimizing over multiple parameters jointly."
      ],
      "metadata": {
        "id": "un_if_IA1yLW"
      },
      "id": "un_if_IA1yLW"
    },
    {
      "cell_type": "markdown",
      "source": [
        "Sử dụng Bayesian Optimization (ví dụ với Optuna hoặc Hyperopt), vì nó dự đoán tổ hợp siêu tham số tốt tiếp theo dựa trên kết quả các thử nghiệm trước, giúp giảm số lần huấn luyện cần thiết."
      ],
      "metadata": {
        "id": "1UUERsXa11MT"
      },
      "id": "1UUERsXa11MT"
    },
    {
      "cell_type": "code",
      "source": [
        "!pip install -q optuna torchvision"
      ],
      "metadata": {
        "colab": {
          "base_uri": "https://localhost:8080/"
        },
        "collapsed": true,
        "id": "EiY4SpVy2F4Q",
        "outputId": "1b9a3e29-aaa8-411c-84a8-435b4c3582e7"
      },
      "id": "EiY4SpVy2F4Q",
      "execution_count": 18,
      "outputs": [
        {
          "output_type": "stream",
          "name": "stdout",
          "text": [
            "\u001b[33mWARNING: Ignoring invalid distribution ~vidia-cudnn-cu12 (/usr/local/lib/python3.11/dist-packages)\u001b[0m\u001b[33m\n",
            "\u001b[0m\u001b[33mWARNING: Ignoring invalid distribution ~vidia-cudnn-cu12 (/usr/local/lib/python3.11/dist-packages)\u001b[0m\u001b[33m\n",
            "\u001b[0m\u001b[33mWARNING: Ignoring invalid distribution ~vidia-cudnn-cu12 (/usr/local/lib/python3.11/dist-packages)\u001b[0m\u001b[33m\n",
            "\u001b[0m"
          ]
        }
      ]
    },
    {
      "cell_type": "code",
      "source": [
        "import optuna"
      ],
      "metadata": {
        "id": "1WxqqKwI8UrD"
      },
      "id": "1WxqqKwI8UrD",
      "execution_count": 21,
      "outputs": []
    },
    {
      "cell_type": "markdown",
      "source": [
        "Set Mục tiêu cho Optuna"
      ],
      "metadata": {
        "id": "xBJ5K5aO20tV"
      },
      "id": "xBJ5K5aO20tV"
    },
    {
      "cell_type": "code",
      "source": [
        "def objective(trial):\n",
        "    # Các siêu tham số sẽ được tối ưu\n",
        "    lr = trial.suggest_float(\"lr\", 1e-3, 0.2, log=True)\n",
        "    num_epochs = trial.suggest_int(\"epochs\", 5, 20)\n",
        "    num_layers = trial.suggest_int(\"num_layers\", 1, 3)\n",
        "    units_per_layer = [\n",
        "        trial.suggest_int(f\"units_l{i}\", 64, 512, step=64)\n",
        "        for i in range(num_layers)\n",
        "    ]\n",
        "    batch_size = trial.suggest_categorical(\"batch_size\", [32, 64, 128])\n",
        "\n",
        "    net = build_mlp(units_per_layer)\n",
        "    net.apply(lambda m: nn.init.xavier_uniform_(m.weight) if isinstance(m, nn.Linear) else None)\n",
        "\n",
        "    loss = nn.CrossEntropyLoss()\n",
        "    trainer = torch.optim.SGD(net.parameters(), lr=lr)\n",
        "    train_iter, test_iter = d2l.load_data_fashion_mnist(batch_size)\n",
        "\n",
        "    for epoch in range(num_epochs):\n",
        "        net.train()\n",
        "        for X, y in train_iter:\n",
        "            X, y = X.to(device), y.to(device)\n",
        "            trainer.zero_grad()\n",
        "            l = loss(net(X), y)\n",
        "            l.backward()\n",
        "            trainer.step()\n",
        "\n",
        "    acc = d2l.evaluate_accuracy_gpu(net, test_iter)\n",
        "    return acc"
      ],
      "metadata": {
        "id": "s-GMBH4l22e4"
      },
      "id": "s-GMBH4l22e4",
      "execution_count": 44,
      "outputs": []
    },
    {
      "cell_type": "markdown",
      "source": [
        "Dùng Optuna tối ưu"
      ],
      "metadata": {
        "id": "Xx_IU6ls27XX"
      },
      "id": "Xx_IU6ls27XX"
    },
    {
      "cell_type": "code",
      "source": [
        "study = optuna.create_study(direction=\"maximize\")\n",
        "# study.optimize(objective, n_trials=20)\n",
        "study.optimize(objective, n_trials=10)\n",
        "# thử 10 lần, 20 tốn thời gian hơn 30p\n",
        "\n",
        "print(\"\\n Kết quả tốt nhất:\")\n",
        "print(study.best_trial)"
      ],
      "metadata": {
        "colab": {
          "base_uri": "https://localhost:8080/",
          "height": 1000
        },
        "id": "tmxVAdB329LR",
        "outputId": "ecd5e559-75ab-4a11-c752-d5d8862af5a5"
      },
      "id": "tmxVAdB329LR",
      "execution_count": 45,
      "outputs": [
        {
          "output_type": "stream",
          "name": "stderr",
          "text": [
            "[I 2025-05-08 12:57:16,247] A new study created in memory with name: no-name-08b51c62-dc77-4ad0-b71d-9196c3828928\n",
            "[I 2025-05-08 12:58:07,306] Trial 0 finished with value: 0.8433 and parameters: {'lr': 0.02805167909216037, 'epochs': 7, 'num_layers': 1, 'units_l0': 256, 'batch_size': 128}. Best is trial 0 with value: 0.8433.\n",
            "[I 2025-05-08 13:01:37,838] Trial 1 finished with value: 0.8628 and parameters: {'lr': 0.0033566194538708527, 'epochs': 20, 'num_layers': 3, 'units_l0': 192, 'units_l1': 320, 'units_l2': 64, 'batch_size': 32}. Best is trial 1 with value: 0.8628.\n",
            "[I 2025-05-08 13:03:26,634] Trial 2 finished with value: 0.8351 and parameters: {'lr': 0.0037682411772077097, 'epochs': 14, 'num_layers': 1, 'units_l0': 384, 'batch_size': 64}. Best is trial 1 with value: 0.8628.\n",
            "[I 2025-05-08 13:04:05,917] Trial 3 finished with value: 0.8668 and parameters: {'lr': 0.09625660930944435, 'epochs': 5, 'num_layers': 1, 'units_l0': 256, 'batch_size': 64}. Best is trial 3 with value: 0.8668.\n",
            "[I 2025-05-08 13:06:02,427] Trial 4 finished with value: 0.8552 and parameters: {'lr': 0.004401866360187667, 'epochs': 11, 'num_layers': 3, 'units_l0': 128, 'units_l1': 512, 'units_l2': 192, 'batch_size': 32}. Best is trial 3 with value: 0.8668.\n",
            "[I 2025-05-08 13:07:39,951] Trial 5 finished with value: 0.8564 and parameters: {'lr': 0.00869542837472406, 'epochs': 10, 'num_layers': 1, 'units_l0': 448, 'batch_size': 32}. Best is trial 3 with value: 0.8668.\n",
            "[I 2025-05-08 13:09:43,749] Trial 6 finished with value: 0.8695 and parameters: {'lr': 0.09201104879915838, 'epochs': 18, 'num_layers': 3, 'units_l0': 128, 'units_l1': 512, 'units_l2': 448, 'batch_size': 128}. Best is trial 6 with value: 0.8695.\n",
            "[I 2025-05-08 13:11:41,851] Trial 7 finished with value: 0.8652 and parameters: {'lr': 0.018049307313844846, 'epochs': 15, 'num_layers': 2, 'units_l0': 128, 'units_l1': 256, 'batch_size': 64}. Best is trial 6 with value: 0.8695.\n",
            "[I 2025-05-08 13:13:12,180] Trial 8 finished with value: 0.8758 and parameters: {'lr': 0.11659223499339012, 'epochs': 11, 'num_layers': 3, 'units_l0': 64, 'units_l1': 192, 'units_l2': 384, 'batch_size': 64}. Best is trial 8 with value: 0.8758.\n",
            "[I 2025-05-08 13:15:28,825] Trial 9 finished with value: 0.8767 and parameters: {'lr': 0.022032159962556832, 'epochs': 13, 'num_layers': 3, 'units_l0': 256, 'units_l1': 192, 'units_l2': 128, 'batch_size': 32}. Best is trial 9 with value: 0.8767.\n",
            "[I 2025-05-08 13:18:20,756] Trial 10 finished with value: 0.8882 and parameters: {'lr': 0.034182859972506155, 'epochs': 17, 'num_layers': 2, 'units_l0': 384, 'units_l1': 64, 'batch_size': 32}. Best is trial 10 with value: 0.8882.\n",
            "[W 2025-05-08 13:19:18,915] Trial 11 failed with parameters: {'lr': 0.0011249309532138422, 'epochs': 16, 'num_layers': 2, 'units_l0': 384, 'units_l1': 64, 'batch_size': 32} because of the following error: KeyboardInterrupt().\n",
            "Traceback (most recent call last):\n",
            "  File \"/usr/local/lib/python3.11/dist-packages/optuna/study/_optimize.py\", line 197, in _run_trial\n",
            "    value_or_values = func(trial)\n",
            "                      ^^^^^^^^^^^\n",
            "  File \"<ipython-input-44-40688422ac8d>\", line 24, in objective\n",
            "    l = loss(net(X), y)\n",
            "             ^^^^^^\n",
            "  File \"/usr/local/lib/python3.11/dist-packages/torch/nn/modules/module.py\", line 1739, in _wrapped_call_impl\n",
            "    return self._call_impl(*args, **kwargs)\n",
            "           ^^^^^^^^^^^^^^^^^^^^^^^^^^^^^^^^\n",
            "  File \"/usr/local/lib/python3.11/dist-packages/torch/nn/modules/module.py\", line 1750, in _call_impl\n",
            "    return forward_call(*args, **kwargs)\n",
            "           ^^^^^^^^^^^^^^^^^^^^^^^^^^^^^\n",
            "  File \"/usr/local/lib/python3.11/dist-packages/torch/nn/modules/container.py\", line 250, in forward\n",
            "    input = module(input)\n",
            "            ^^^^^^^^^^^^^\n",
            "  File \"/usr/local/lib/python3.11/dist-packages/torch/nn/modules/module.py\", line 1739, in _wrapped_call_impl\n",
            "    return self._call_impl(*args, **kwargs)\n",
            "           ^^^^^^^^^^^^^^^^^^^^^^^^^^^^^^^^\n",
            "  File \"/usr/local/lib/python3.11/dist-packages/torch/nn/modules/module.py\", line 1750, in _call_impl\n",
            "    return forward_call(*args, **kwargs)\n",
            "           ^^^^^^^^^^^^^^^^^^^^^^^^^^^^^\n",
            "  File \"/usr/local/lib/python3.11/dist-packages/torch/nn/modules/linear.py\", line 125, in forward\n",
            "    return F.linear(input, self.weight, self.bias)\n",
            "           ^^^^^^^^^^^^^^^^^^^^^^^^^^^^^^^^^^^^^^^\n",
            "KeyboardInterrupt\n",
            "[W 2025-05-08 13:19:18,918] Trial 11 failed with value None.\n"
          ]
        },
        {
          "output_type": "error",
          "ename": "KeyboardInterrupt",
          "evalue": "",
          "traceback": [
            "\u001b[0;31m---------------------------------------------------------------------------\u001b[0m",
            "\u001b[0;31mKeyboardInterrupt\u001b[0m                         Traceback (most recent call last)",
            "\u001b[0;32m<ipython-input-45-63647f35f68c>\u001b[0m in \u001b[0;36m<cell line: 0>\u001b[0;34m()\u001b[0m\n\u001b[1;32m      1\u001b[0m \u001b[0mstudy\u001b[0m \u001b[0;34m=\u001b[0m \u001b[0moptuna\u001b[0m\u001b[0;34m.\u001b[0m\u001b[0mcreate_study\u001b[0m\u001b[0;34m(\u001b[0m\u001b[0mdirection\u001b[0m\u001b[0;34m=\u001b[0m\u001b[0;34m\"maximize\"\u001b[0m\u001b[0;34m)\u001b[0m\u001b[0;34m\u001b[0m\u001b[0;34m\u001b[0m\u001b[0m\n\u001b[0;32m----> 2\u001b[0;31m \u001b[0mstudy\u001b[0m\u001b[0;34m.\u001b[0m\u001b[0moptimize\u001b[0m\u001b[0;34m(\u001b[0m\u001b[0mobjective\u001b[0m\u001b[0;34m,\u001b[0m \u001b[0mn_trials\u001b[0m\u001b[0;34m=\u001b[0m\u001b[0;36m20\u001b[0m\u001b[0;34m)\u001b[0m\u001b[0;34m\u001b[0m\u001b[0;34m\u001b[0m\u001b[0m\n\u001b[0m\u001b[1;32m      3\u001b[0m \u001b[0;34m\u001b[0m\u001b[0m\n\u001b[1;32m      4\u001b[0m \u001b[0mprint\u001b[0m\u001b[0;34m(\u001b[0m\u001b[0;34m\"\\n🏆 Kết quả tốt nhất:\"\u001b[0m\u001b[0;34m)\u001b[0m\u001b[0;34m\u001b[0m\u001b[0;34m\u001b[0m\u001b[0m\n\u001b[1;32m      5\u001b[0m \u001b[0mprint\u001b[0m\u001b[0;34m(\u001b[0m\u001b[0mstudy\u001b[0m\u001b[0;34m.\u001b[0m\u001b[0mbest_trial\u001b[0m\u001b[0;34m)\u001b[0m\u001b[0;34m\u001b[0m\u001b[0;34m\u001b[0m\u001b[0m\n",
            "\u001b[0;32m/usr/local/lib/python3.11/dist-packages/optuna/study/study.py\u001b[0m in \u001b[0;36moptimize\u001b[0;34m(self, func, n_trials, timeout, n_jobs, catch, callbacks, gc_after_trial, show_progress_bar)\u001b[0m\n\u001b[1;32m    473\u001b[0m                 \u001b[0mIf\u001b[0m \u001b[0mnested\u001b[0m \u001b[0minvocation\u001b[0m \u001b[0mof\u001b[0m \u001b[0mthis\u001b[0m \u001b[0mmethod\u001b[0m \u001b[0moccurs\u001b[0m\u001b[0;34m.\u001b[0m\u001b[0;34m\u001b[0m\u001b[0;34m\u001b[0m\u001b[0m\n\u001b[1;32m    474\u001b[0m         \"\"\"\n\u001b[0;32m--> 475\u001b[0;31m         _optimize(\n\u001b[0m\u001b[1;32m    476\u001b[0m             \u001b[0mstudy\u001b[0m\u001b[0;34m=\u001b[0m\u001b[0mself\u001b[0m\u001b[0;34m,\u001b[0m\u001b[0;34m\u001b[0m\u001b[0;34m\u001b[0m\u001b[0m\n\u001b[1;32m    477\u001b[0m             \u001b[0mfunc\u001b[0m\u001b[0;34m=\u001b[0m\u001b[0mfunc\u001b[0m\u001b[0;34m,\u001b[0m\u001b[0;34m\u001b[0m\u001b[0;34m\u001b[0m\u001b[0m\n",
            "\u001b[0;32m/usr/local/lib/python3.11/dist-packages/optuna/study/_optimize.py\u001b[0m in \u001b[0;36m_optimize\u001b[0;34m(study, func, n_trials, timeout, n_jobs, catch, callbacks, gc_after_trial, show_progress_bar)\u001b[0m\n\u001b[1;32m     61\u001b[0m     \u001b[0;32mtry\u001b[0m\u001b[0;34m:\u001b[0m\u001b[0;34m\u001b[0m\u001b[0;34m\u001b[0m\u001b[0m\n\u001b[1;32m     62\u001b[0m         \u001b[0;32mif\u001b[0m \u001b[0mn_jobs\u001b[0m \u001b[0;34m==\u001b[0m \u001b[0;36m1\u001b[0m\u001b[0;34m:\u001b[0m\u001b[0;34m\u001b[0m\u001b[0;34m\u001b[0m\u001b[0m\n\u001b[0;32m---> 63\u001b[0;31m             _optimize_sequential(\n\u001b[0m\u001b[1;32m     64\u001b[0m                 \u001b[0mstudy\u001b[0m\u001b[0;34m,\u001b[0m\u001b[0;34m\u001b[0m\u001b[0;34m\u001b[0m\u001b[0m\n\u001b[1;32m     65\u001b[0m                 \u001b[0mfunc\u001b[0m\u001b[0;34m,\u001b[0m\u001b[0;34m\u001b[0m\u001b[0;34m\u001b[0m\u001b[0m\n",
            "\u001b[0;32m/usr/local/lib/python3.11/dist-packages/optuna/study/_optimize.py\u001b[0m in \u001b[0;36m_optimize_sequential\u001b[0;34m(study, func, n_trials, timeout, catch, callbacks, gc_after_trial, reseed_sampler_rng, time_start, progress_bar)\u001b[0m\n\u001b[1;32m    158\u001b[0m \u001b[0;34m\u001b[0m\u001b[0m\n\u001b[1;32m    159\u001b[0m         \u001b[0;32mtry\u001b[0m\u001b[0;34m:\u001b[0m\u001b[0;34m\u001b[0m\u001b[0;34m\u001b[0m\u001b[0m\n\u001b[0;32m--> 160\u001b[0;31m             \u001b[0mfrozen_trial\u001b[0m \u001b[0;34m=\u001b[0m \u001b[0m_run_trial\u001b[0m\u001b[0;34m(\u001b[0m\u001b[0mstudy\u001b[0m\u001b[0;34m,\u001b[0m \u001b[0mfunc\u001b[0m\u001b[0;34m,\u001b[0m \u001b[0mcatch\u001b[0m\u001b[0;34m)\u001b[0m\u001b[0;34m\u001b[0m\u001b[0;34m\u001b[0m\u001b[0m\n\u001b[0m\u001b[1;32m    161\u001b[0m         \u001b[0;32mfinally\u001b[0m\u001b[0;34m:\u001b[0m\u001b[0;34m\u001b[0m\u001b[0;34m\u001b[0m\u001b[0m\n\u001b[1;32m    162\u001b[0m             \u001b[0;31m# The following line mitigates memory problems that can be occurred in some\u001b[0m\u001b[0;34m\u001b[0m\u001b[0;34m\u001b[0m\u001b[0m\n",
            "\u001b[0;32m/usr/local/lib/python3.11/dist-packages/optuna/study/_optimize.py\u001b[0m in \u001b[0;36m_run_trial\u001b[0;34m(study, func, catch)\u001b[0m\n\u001b[1;32m    246\u001b[0m         \u001b[0;32mand\u001b[0m \u001b[0;32mnot\u001b[0m \u001b[0misinstance\u001b[0m\u001b[0;34m(\u001b[0m\u001b[0mfunc_err\u001b[0m\u001b[0;34m,\u001b[0m \u001b[0mcatch\u001b[0m\u001b[0;34m)\u001b[0m\u001b[0;34m\u001b[0m\u001b[0;34m\u001b[0m\u001b[0m\n\u001b[1;32m    247\u001b[0m     ):\n\u001b[0;32m--> 248\u001b[0;31m         \u001b[0;32mraise\u001b[0m \u001b[0mfunc_err\u001b[0m\u001b[0;34m\u001b[0m\u001b[0;34m\u001b[0m\u001b[0m\n\u001b[0m\u001b[1;32m    249\u001b[0m     \u001b[0;32mreturn\u001b[0m \u001b[0mfrozen_trial\u001b[0m\u001b[0;34m\u001b[0m\u001b[0;34m\u001b[0m\u001b[0m\n\u001b[1;32m    250\u001b[0m \u001b[0;34m\u001b[0m\u001b[0m\n",
            "\u001b[0;32m/usr/local/lib/python3.11/dist-packages/optuna/study/_optimize.py\u001b[0m in \u001b[0;36m_run_trial\u001b[0;34m(study, func, catch)\u001b[0m\n\u001b[1;32m    195\u001b[0m     \u001b[0;32mwith\u001b[0m \u001b[0mget_heartbeat_thread\u001b[0m\u001b[0;34m(\u001b[0m\u001b[0mtrial\u001b[0m\u001b[0;34m.\u001b[0m\u001b[0m_trial_id\u001b[0m\u001b[0;34m,\u001b[0m \u001b[0mstudy\u001b[0m\u001b[0;34m.\u001b[0m\u001b[0m_storage\u001b[0m\u001b[0;34m)\u001b[0m\u001b[0;34m:\u001b[0m\u001b[0;34m\u001b[0m\u001b[0;34m\u001b[0m\u001b[0m\n\u001b[1;32m    196\u001b[0m         \u001b[0;32mtry\u001b[0m\u001b[0;34m:\u001b[0m\u001b[0;34m\u001b[0m\u001b[0;34m\u001b[0m\u001b[0m\n\u001b[0;32m--> 197\u001b[0;31m             \u001b[0mvalue_or_values\u001b[0m \u001b[0;34m=\u001b[0m \u001b[0mfunc\u001b[0m\u001b[0;34m(\u001b[0m\u001b[0mtrial\u001b[0m\u001b[0;34m)\u001b[0m\u001b[0;34m\u001b[0m\u001b[0;34m\u001b[0m\u001b[0m\n\u001b[0m\u001b[1;32m    198\u001b[0m         \u001b[0;32mexcept\u001b[0m \u001b[0mexceptions\u001b[0m\u001b[0;34m.\u001b[0m\u001b[0mTrialPruned\u001b[0m \u001b[0;32mas\u001b[0m \u001b[0me\u001b[0m\u001b[0;34m:\u001b[0m\u001b[0;34m\u001b[0m\u001b[0;34m\u001b[0m\u001b[0m\n\u001b[1;32m    199\u001b[0m             \u001b[0;31m# TODO(mamu): Handle multi-objective cases.\u001b[0m\u001b[0;34m\u001b[0m\u001b[0;34m\u001b[0m\u001b[0m\n",
            "\u001b[0;32m<ipython-input-44-40688422ac8d>\u001b[0m in \u001b[0;36mobjective\u001b[0;34m(trial)\u001b[0m\n\u001b[1;32m     22\u001b[0m             \u001b[0mX\u001b[0m\u001b[0;34m,\u001b[0m \u001b[0my\u001b[0m \u001b[0;34m=\u001b[0m \u001b[0mX\u001b[0m\u001b[0;34m.\u001b[0m\u001b[0mto\u001b[0m\u001b[0;34m(\u001b[0m\u001b[0mdevice\u001b[0m\u001b[0;34m)\u001b[0m\u001b[0;34m,\u001b[0m \u001b[0my\u001b[0m\u001b[0;34m.\u001b[0m\u001b[0mto\u001b[0m\u001b[0;34m(\u001b[0m\u001b[0mdevice\u001b[0m\u001b[0;34m)\u001b[0m\u001b[0;34m\u001b[0m\u001b[0;34m\u001b[0m\u001b[0m\n\u001b[1;32m     23\u001b[0m             \u001b[0mtrainer\u001b[0m\u001b[0;34m.\u001b[0m\u001b[0mzero_grad\u001b[0m\u001b[0;34m(\u001b[0m\u001b[0;34m)\u001b[0m\u001b[0;34m\u001b[0m\u001b[0;34m\u001b[0m\u001b[0m\n\u001b[0;32m---> 24\u001b[0;31m             \u001b[0ml\u001b[0m \u001b[0;34m=\u001b[0m \u001b[0mloss\u001b[0m\u001b[0;34m(\u001b[0m\u001b[0mnet\u001b[0m\u001b[0;34m(\u001b[0m\u001b[0mX\u001b[0m\u001b[0;34m)\u001b[0m\u001b[0;34m,\u001b[0m \u001b[0my\u001b[0m\u001b[0;34m)\u001b[0m\u001b[0;34m\u001b[0m\u001b[0;34m\u001b[0m\u001b[0m\n\u001b[0m\u001b[1;32m     25\u001b[0m             \u001b[0ml\u001b[0m\u001b[0;34m.\u001b[0m\u001b[0mbackward\u001b[0m\u001b[0;34m(\u001b[0m\u001b[0;34m)\u001b[0m\u001b[0;34m\u001b[0m\u001b[0;34m\u001b[0m\u001b[0m\n\u001b[1;32m     26\u001b[0m             \u001b[0mtrainer\u001b[0m\u001b[0;34m.\u001b[0m\u001b[0mstep\u001b[0m\u001b[0;34m(\u001b[0m\u001b[0;34m)\u001b[0m\u001b[0;34m\u001b[0m\u001b[0;34m\u001b[0m\u001b[0m\n",
            "\u001b[0;32m/usr/local/lib/python3.11/dist-packages/torch/nn/modules/module.py\u001b[0m in \u001b[0;36m_wrapped_call_impl\u001b[0;34m(self, *args, **kwargs)\u001b[0m\n\u001b[1;32m   1737\u001b[0m             \u001b[0;32mreturn\u001b[0m \u001b[0mself\u001b[0m\u001b[0;34m.\u001b[0m\u001b[0m_compiled_call_impl\u001b[0m\u001b[0;34m(\u001b[0m\u001b[0;34m*\u001b[0m\u001b[0margs\u001b[0m\u001b[0;34m,\u001b[0m \u001b[0;34m**\u001b[0m\u001b[0mkwargs\u001b[0m\u001b[0;34m)\u001b[0m  \u001b[0;31m# type: ignore[misc]\u001b[0m\u001b[0;34m\u001b[0m\u001b[0;34m\u001b[0m\u001b[0m\n\u001b[1;32m   1738\u001b[0m         \u001b[0;32melse\u001b[0m\u001b[0;34m:\u001b[0m\u001b[0;34m\u001b[0m\u001b[0;34m\u001b[0m\u001b[0m\n\u001b[0;32m-> 1739\u001b[0;31m             \u001b[0;32mreturn\u001b[0m \u001b[0mself\u001b[0m\u001b[0;34m.\u001b[0m\u001b[0m_call_impl\u001b[0m\u001b[0;34m(\u001b[0m\u001b[0;34m*\u001b[0m\u001b[0margs\u001b[0m\u001b[0;34m,\u001b[0m \u001b[0;34m**\u001b[0m\u001b[0mkwargs\u001b[0m\u001b[0;34m)\u001b[0m\u001b[0;34m\u001b[0m\u001b[0;34m\u001b[0m\u001b[0m\n\u001b[0m\u001b[1;32m   1740\u001b[0m \u001b[0;34m\u001b[0m\u001b[0m\n\u001b[1;32m   1741\u001b[0m     \u001b[0;31m# torchrec tests the code consistency with the following code\u001b[0m\u001b[0;34m\u001b[0m\u001b[0;34m\u001b[0m\u001b[0m\n",
            "\u001b[0;32m/usr/local/lib/python3.11/dist-packages/torch/nn/modules/module.py\u001b[0m in \u001b[0;36m_call_impl\u001b[0;34m(self, *args, **kwargs)\u001b[0m\n\u001b[1;32m   1748\u001b[0m                 \u001b[0;32mor\u001b[0m \u001b[0m_global_backward_pre_hooks\u001b[0m \u001b[0;32mor\u001b[0m \u001b[0m_global_backward_hooks\u001b[0m\u001b[0;34m\u001b[0m\u001b[0;34m\u001b[0m\u001b[0m\n\u001b[1;32m   1749\u001b[0m                 or _global_forward_hooks or _global_forward_pre_hooks):\n\u001b[0;32m-> 1750\u001b[0;31m             \u001b[0;32mreturn\u001b[0m \u001b[0mforward_call\u001b[0m\u001b[0;34m(\u001b[0m\u001b[0;34m*\u001b[0m\u001b[0margs\u001b[0m\u001b[0;34m,\u001b[0m \u001b[0;34m**\u001b[0m\u001b[0mkwargs\u001b[0m\u001b[0;34m)\u001b[0m\u001b[0;34m\u001b[0m\u001b[0;34m\u001b[0m\u001b[0m\n\u001b[0m\u001b[1;32m   1751\u001b[0m \u001b[0;34m\u001b[0m\u001b[0m\n\u001b[1;32m   1752\u001b[0m         \u001b[0mresult\u001b[0m \u001b[0;34m=\u001b[0m \u001b[0;32mNone\u001b[0m\u001b[0;34m\u001b[0m\u001b[0;34m\u001b[0m\u001b[0m\n",
            "\u001b[0;32m/usr/local/lib/python3.11/dist-packages/torch/nn/modules/container.py\u001b[0m in \u001b[0;36mforward\u001b[0;34m(self, input)\u001b[0m\n\u001b[1;32m    248\u001b[0m     \u001b[0;32mdef\u001b[0m \u001b[0mforward\u001b[0m\u001b[0;34m(\u001b[0m\u001b[0mself\u001b[0m\u001b[0;34m,\u001b[0m \u001b[0minput\u001b[0m\u001b[0;34m)\u001b[0m\u001b[0;34m:\u001b[0m\u001b[0;34m\u001b[0m\u001b[0;34m\u001b[0m\u001b[0m\n\u001b[1;32m    249\u001b[0m         \u001b[0;32mfor\u001b[0m \u001b[0mmodule\u001b[0m \u001b[0;32min\u001b[0m \u001b[0mself\u001b[0m\u001b[0;34m:\u001b[0m\u001b[0;34m\u001b[0m\u001b[0;34m\u001b[0m\u001b[0m\n\u001b[0;32m--> 250\u001b[0;31m             \u001b[0minput\u001b[0m \u001b[0;34m=\u001b[0m \u001b[0mmodule\u001b[0m\u001b[0;34m(\u001b[0m\u001b[0minput\u001b[0m\u001b[0;34m)\u001b[0m\u001b[0;34m\u001b[0m\u001b[0;34m\u001b[0m\u001b[0m\n\u001b[0m\u001b[1;32m    251\u001b[0m         \u001b[0;32mreturn\u001b[0m \u001b[0minput\u001b[0m\u001b[0;34m\u001b[0m\u001b[0;34m\u001b[0m\u001b[0m\n\u001b[1;32m    252\u001b[0m \u001b[0;34m\u001b[0m\u001b[0m\n",
            "\u001b[0;32m/usr/local/lib/python3.11/dist-packages/torch/nn/modules/module.py\u001b[0m in \u001b[0;36m_wrapped_call_impl\u001b[0;34m(self, *args, **kwargs)\u001b[0m\n\u001b[1;32m   1737\u001b[0m             \u001b[0;32mreturn\u001b[0m \u001b[0mself\u001b[0m\u001b[0;34m.\u001b[0m\u001b[0m_compiled_call_impl\u001b[0m\u001b[0;34m(\u001b[0m\u001b[0;34m*\u001b[0m\u001b[0margs\u001b[0m\u001b[0;34m,\u001b[0m \u001b[0;34m**\u001b[0m\u001b[0mkwargs\u001b[0m\u001b[0;34m)\u001b[0m  \u001b[0;31m# type: ignore[misc]\u001b[0m\u001b[0;34m\u001b[0m\u001b[0;34m\u001b[0m\u001b[0m\n\u001b[1;32m   1738\u001b[0m         \u001b[0;32melse\u001b[0m\u001b[0;34m:\u001b[0m\u001b[0;34m\u001b[0m\u001b[0;34m\u001b[0m\u001b[0m\n\u001b[0;32m-> 1739\u001b[0;31m             \u001b[0;32mreturn\u001b[0m \u001b[0mself\u001b[0m\u001b[0;34m.\u001b[0m\u001b[0m_call_impl\u001b[0m\u001b[0;34m(\u001b[0m\u001b[0;34m*\u001b[0m\u001b[0margs\u001b[0m\u001b[0;34m,\u001b[0m \u001b[0;34m**\u001b[0m\u001b[0mkwargs\u001b[0m\u001b[0;34m)\u001b[0m\u001b[0;34m\u001b[0m\u001b[0;34m\u001b[0m\u001b[0m\n\u001b[0m\u001b[1;32m   1740\u001b[0m \u001b[0;34m\u001b[0m\u001b[0m\n\u001b[1;32m   1741\u001b[0m     \u001b[0;31m# torchrec tests the code consistency with the following code\u001b[0m\u001b[0;34m\u001b[0m\u001b[0;34m\u001b[0m\u001b[0m\n",
            "\u001b[0;32m/usr/local/lib/python3.11/dist-packages/torch/nn/modules/module.py\u001b[0m in \u001b[0;36m_call_impl\u001b[0;34m(self, *args, **kwargs)\u001b[0m\n\u001b[1;32m   1748\u001b[0m                 \u001b[0;32mor\u001b[0m \u001b[0m_global_backward_pre_hooks\u001b[0m \u001b[0;32mor\u001b[0m \u001b[0m_global_backward_hooks\u001b[0m\u001b[0;34m\u001b[0m\u001b[0;34m\u001b[0m\u001b[0m\n\u001b[1;32m   1749\u001b[0m                 or _global_forward_hooks or _global_forward_pre_hooks):\n\u001b[0;32m-> 1750\u001b[0;31m             \u001b[0;32mreturn\u001b[0m \u001b[0mforward_call\u001b[0m\u001b[0;34m(\u001b[0m\u001b[0;34m*\u001b[0m\u001b[0margs\u001b[0m\u001b[0;34m,\u001b[0m \u001b[0;34m**\u001b[0m\u001b[0mkwargs\u001b[0m\u001b[0;34m)\u001b[0m\u001b[0;34m\u001b[0m\u001b[0;34m\u001b[0m\u001b[0m\n\u001b[0m\u001b[1;32m   1751\u001b[0m \u001b[0;34m\u001b[0m\u001b[0m\n\u001b[1;32m   1752\u001b[0m         \u001b[0mresult\u001b[0m \u001b[0;34m=\u001b[0m \u001b[0;32mNone\u001b[0m\u001b[0;34m\u001b[0m\u001b[0;34m\u001b[0m\u001b[0m\n",
            "\u001b[0;32m/usr/local/lib/python3.11/dist-packages/torch/nn/modules/linear.py\u001b[0m in \u001b[0;36mforward\u001b[0;34m(self, input)\u001b[0m\n\u001b[1;32m    123\u001b[0m \u001b[0;34m\u001b[0m\u001b[0m\n\u001b[1;32m    124\u001b[0m     \u001b[0;32mdef\u001b[0m \u001b[0mforward\u001b[0m\u001b[0;34m(\u001b[0m\u001b[0mself\u001b[0m\u001b[0;34m,\u001b[0m \u001b[0minput\u001b[0m\u001b[0;34m:\u001b[0m \u001b[0mTensor\u001b[0m\u001b[0;34m)\u001b[0m \u001b[0;34m->\u001b[0m \u001b[0mTensor\u001b[0m\u001b[0;34m:\u001b[0m\u001b[0;34m\u001b[0m\u001b[0;34m\u001b[0m\u001b[0m\n\u001b[0;32m--> 125\u001b[0;31m         \u001b[0;32mreturn\u001b[0m \u001b[0mF\u001b[0m\u001b[0;34m.\u001b[0m\u001b[0mlinear\u001b[0m\u001b[0;34m(\u001b[0m\u001b[0minput\u001b[0m\u001b[0;34m,\u001b[0m \u001b[0mself\u001b[0m\u001b[0;34m.\u001b[0m\u001b[0mweight\u001b[0m\u001b[0;34m,\u001b[0m \u001b[0mself\u001b[0m\u001b[0;34m.\u001b[0m\u001b[0mbias\u001b[0m\u001b[0;34m)\u001b[0m\u001b[0;34m\u001b[0m\u001b[0;34m\u001b[0m\u001b[0m\n\u001b[0m\u001b[1;32m    126\u001b[0m \u001b[0;34m\u001b[0m\u001b[0m\n\u001b[1;32m    127\u001b[0m     \u001b[0;32mdef\u001b[0m \u001b[0mextra_repr\u001b[0m\u001b[0;34m(\u001b[0m\u001b[0mself\u001b[0m\u001b[0;34m)\u001b[0m \u001b[0;34m->\u001b[0m \u001b[0mstr\u001b[0m\u001b[0;34m:\u001b[0m\u001b[0;34m\u001b[0m\u001b[0;34m\u001b[0m\u001b[0m\n",
            "\u001b[0;31mKeyboardInterrupt\u001b[0m: "
          ]
        }
      ]
    },
    {
      "cell_type": "markdown",
      "source": [
        "### 6. Compare the speed of the framework and the from-scratch implementation for a challenging problem. How does it change with the complexity of the network?"
      ],
      "metadata": {
        "id": "JDot-rBS-Nvd"
      },
      "id": "JDot-rBS-Nvd"
    },
    {
      "cell_type": "markdown",
      "source": [
        "**So sánh tốc độ: PyTorch (framework) vs. Tự cài (from-scratch)**\n",
        "\n",
        "Trong phần này, chúng ta sẽ huấn luyện một mạng nơ-ron nhiều tầng trên tập dữ liệu đơn giản  \n",
        "với 2 cách:\n",
        "- Dùng PyTorch (framework chuyên dụng, tận dụng GPU)\n",
        "- Dùng NumPy (tự cài từ đầu, không tối ưu)\n",
        "\n",
        "Ta sẽ đo thời gian huấn luyện để thấy sự khác biệt khi mạng trở nên phức tạp hơn.\n"
      ],
      "metadata": {
        "id": "dnbINYIV_rpV"
      },
      "id": "dnbINYIV_rpV"
    },
    {
      "cell_type": "code",
      "source": [
        "from torchvision import datasets, transforms\n",
        "import numpy as np\n",
        "class TorchMLP(nn.Module):\n",
        "    def __init__(self, input_size=784, hidden_sizes=[256, 128], output_size=10):\n",
        "        super().__init__()\n",
        "        layers = [nn.Flatten()]\n",
        "        in_dim = input_size\n",
        "        for h in hidden_sizes:\n",
        "            layers.append(nn.Linear(in_dim, h))\n",
        "            layers.append(nn.ReLU())\n",
        "            in_dim = h\n",
        "        layers.append(nn.Linear(in_dim, output_size))\n",
        "        self.model = nn.Sequential(*layers)\n",
        "\n",
        "    def forward(self, x):\n",
        "        return self.model(x)\n",
        "\n",
        "# Load data (just 1 batch for fair comparison)\n",
        "transform = transforms.ToTensor()\n",
        "train_dataset = datasets.FashionMNIST(root=\"./data\", train=True, transform=transform, download=True)\n",
        "train_loader = DataLoader(train_dataset, batch_size=512, shuffle=True)\n",
        "\n",
        "X_batch, y_batch = next(iter(train_loader))\n",
        "X_np = X_batch.view(X_batch.shape[0], -1).numpy()\n",
        "y_np = y_batch.numpy()\n",
        "\n",
        "# ----- Benchmark PyTorch -----\n",
        "torch_model = TorchMLP().to(device)\n",
        "criterion = nn.CrossEntropyLoss()\n",
        "optimizer = torch.optim.SGD(torch_model.parameters(), lr=0.1)\n",
        "\n",
        "start_torch = time.time()\n",
        "for _ in range(10):  # 10 epochs\n",
        "    optimizer.zero_grad()\n",
        "    output = torch_model(X_batch.to(device))\n",
        "    loss = criterion(output, y_batch.to(device))\n",
        "    loss.backward()\n",
        "    optimizer.step()\n",
        "end_torch = time.time()\n",
        "\n",
        "print(f\"⚡ PyTorch training time: {end_torch - start_torch:.4f} seconds\")\n",
        "\n",
        "# ----- From-scratch version (NumPy) -----\n",
        "def relu(x):\n",
        "    return np.maximum(0, x)\n",
        "\n",
        "def softmax(x):\n",
        "    e = np.exp(x - np.max(x, axis=1, keepdims=True))\n",
        "    return e / np.sum(e, axis=1, keepdims=True)\n",
        "\n",
        "def cross_entropy(y_pred, y_true):\n",
        "    m = y_pred.shape[0]\n",
        "    p = y_pred[range(m), y_true]\n",
        "    log_likelihood = -np.log(p + 1e-8)\n",
        "    return np.sum(log_likelihood) / m\n",
        "\n",
        "# Init weights\n",
        "np.random.seed(42)\n",
        "W1 = np.random.randn(784, 256) * 0.01\n",
        "b1 = np.zeros((1, 256))\n",
        "W2 = np.random.randn(256, 128) * 0.01\n",
        "b2 = np.zeros((1, 128))\n",
        "W3 = np.random.randn(128, 10) * 0.01\n",
        "b3 = np.zeros((1, 10))\n",
        "\n",
        "lr = 0.1\n",
        "start_numpy = time.time()\n",
        "for epoch in range(10):\n",
        "    # Forward\n",
        "    z1 = X_np @ W1 + b1\n",
        "    a1 = relu(z1)\n",
        "    z2 = a1 @ W2 + b2\n",
        "    a2 = relu(z2)\n",
        "    z3 = a2 @ W3 + b3\n",
        "    probs = softmax(z3)\n",
        "\n",
        "    # Loss\n",
        "    loss = cross_entropy(probs, y_np)\n",
        "\n",
        "    # Backward (manual gradient descent)\n",
        "    m = y_np.shape[0]\n",
        "    grad_z3 = probs\n",
        "    grad_z3[range(m), y_np] -= 1\n",
        "    grad_z3 /= m\n",
        "\n",
        "    dW3 = a2.T @ grad_z3\n",
        "    db3 = np.sum(grad_z3, axis=0, keepdims=True)\n",
        "\n",
        "    da2 = grad_z3 @ W3.T\n",
        "    dz2 = da2 * (z2 > 0)\n",
        "\n",
        "    dW2 = a1.T @ dz2\n",
        "    db2 = np.sum(dz2, axis=0, keepdims=True)\n",
        "\n",
        "    da1 = dz2 @ W2.T\n",
        "    dz1 = da1 * (z1 > 0)\n",
        "\n",
        "    dW1 = X_np.T @ dz1\n",
        "    db1 = np.sum(dz1, axis=0, keepdims=True)\n",
        "\n",
        "    # Update\n",
        "    W1 -= lr * dW1\n",
        "    b1 -= lr * db1\n",
        "    W2 -= lr * dW2\n",
        "    b2 -= lr * db2\n",
        "    W3 -= lr * dW3\n",
        "    b3 -= lr * db3\n",
        "end_numpy = time.time()\n",
        "\n",
        "print(f\"From-scratch (NumPy) training time: {end_numpy - start_numpy:.4f} seconds\")"
      ],
      "metadata": {
        "colab": {
          "base_uri": "https://localhost:8080/"
        },
        "id": "k7AZyrQX-UZc",
        "outputId": "e95f5af8-00b0-45cb-fe51-f4a10cf79625"
      },
      "id": "k7AZyrQX-UZc",
      "execution_count": 49,
      "outputs": [
        {
          "output_type": "stream",
          "name": "stdout",
          "text": [
            "⚡ PyTorch training time: 0.0216 seconds\n",
            "From-scratch (NumPy) training time: 0.3217 seconds\n"
          ]
        }
      ]
    },
    {
      "cell_type": "markdown",
      "source": [
        "Càng tăng số tầng ẩn hoặc batch size → khoảng cách càng lớn giữa hai cách tiếp cận."
      ],
      "metadata": {
        "id": "qRCQRKsTAdBs"
      },
      "id": "qRCQRKsTAdBs"
    },
    {
      "cell_type": "markdown",
      "source": [],
      "metadata": {
        "id": "CPsMJWqzAzG7"
      },
      "id": "CPsMJWqzAzG7"
    },
    {
      "cell_type": "markdown",
      "source": [
        "## 7. Measure the speed of tensor–matrix multiplications for well-aligned and misaligned matrices. For instance, test for matrices with dimension 1024, 1025, 1026, 1028, and 1032.\n",
        "\n",
        "1.  How does this change between GPUs and CPUs?\n",
        "2.  Determine the memory bus width of your CPU and GPU.\n",
        "\n",
        "\n",
        "\n"
      ],
      "metadata": {
        "id": "8eXmb1oaAubY"
      },
      "id": "8eXmb1oaAubY"
    },
    {
      "cell_type": "markdown",
      "source": [
        "**Hàm đo thời gian nhân ma trận**"
      ],
      "metadata": {
        "id": "cwVNskTcBQif"
      },
      "id": "cwVNskTcBQif"
    },
    {
      "cell_type": "code",
      "source": [
        "def benchmark_matmul(size, device, num_trials=10):\n",
        "    A = torch.randn(size, size, device=device)\n",
        "    B = torch.randn(size, size, device=device)\n",
        "\n",
        "    # warm-up\n",
        "    _ = torch.matmul(A, B)\n",
        "\n",
        "    torch.cuda.synchronize() if device.type == 'cuda' else None\n",
        "    start = time.time()\n",
        "\n",
        "    for _ in range(num_trials):\n",
        "        C = torch.matmul(A, B)\n",
        "\n",
        "    torch.cuda.synchronize() if device.type == 'cuda' else None\n",
        "    end = time.time()\n",
        "\n",
        "    avg_time = (end - start) / num_trials\n",
        "    return avg_time\n"
      ],
      "metadata": {
        "id": "PQAkLyusBApV"
      },
      "id": "PQAkLyusBApV",
      "execution_count": 50,
      "outputs": []
    },
    {
      "cell_type": "markdown",
      "source": [
        "**Chạy benchmark cho nhiều kích thước**"
      ],
      "metadata": {
        "id": "zVi6sSbnBSNf"
      },
      "id": "zVi6sSbnBSNf"
    },
    {
      "cell_type": "code",
      "source": [
        "device_cpu = torch.device(\"cpu\")\n",
        "device_gpu = torch.device(\"cuda\") if torch.cuda.is_available() else None\n",
        "\n",
        "sizes = [1024, 1025, 1026, 1028, 1032]\n",
        "\n",
        "print(\"🔍 Benchmark on CPU:\")\n",
        "for sz in sizes:\n",
        "    t = benchmark_matmul(sz, device_cpu)\n",
        "    print(f\"Size {sz}x{sz}: {t:.6f} sec\")\n",
        "\n",
        "if device_gpu:\n",
        "    print(\"\\n🚀 Benchmark on GPU:\")\n",
        "    for sz in sizes:\n",
        "        t = benchmark_matmul(sz, device_gpu)\n",
        "        print(f\"Size {sz}x{sz}: {t:.6f} sec\")\n"
      ],
      "metadata": {
        "colab": {
          "base_uri": "https://localhost:8080/"
        },
        "id": "fDNu04L1BBnE",
        "outputId": "6217a141-a3ae-4c0d-cc5c-5a501e03674f"
      },
      "id": "fDNu04L1BBnE",
      "execution_count": 52,
      "outputs": [
        {
          "output_type": "stream",
          "name": "stdout",
          "text": [
            "🔍 Benchmark on CPU:\n",
            "Size 1024x1024: 0.018252 sec\n",
            "Size 1025x1025: 0.016673 sec\n",
            "Size 1026x1026: 0.017933 sec\n",
            "Size 1028x1028: 0.017886 sec\n",
            "Size 1032x1032: 0.015785 sec\n",
            "\n",
            "🚀 Benchmark on GPU:\n",
            "Size 1024x1024: 0.000833 sec\n",
            "Size 1025x1025: 0.000988 sec\n",
            "Size 1026x1026: 0.000987 sec\n",
            "Size 1028x1028: 0.000978 sec\n",
            "Size 1032x1032: 0.000972 sec\n"
          ]
        }
      ]
    },
    {
      "cell_type": "markdown",
      "source": [
        "Tìm kết quả bench mark"
      ],
      "metadata": {
        "id": "CYS5FNf8BHKP"
      },
      "id": "CYS5FNf8BHKP"
    },
    {
      "cell_type": "code",
      "source": [
        "!lshw -C display | grep width\n",
        "!lscpu | grep Width"
      ],
      "metadata": {
        "colab": {
          "base_uri": "https://localhost:8080/"
        },
        "id": "78vU3VC_BDXi",
        "outputId": "4f2181fc-c951-446b-bf18-a3aa25618950"
      },
      "id": "78vU3VC_BDXi",
      "execution_count": 53,
      "outputs": [
        {
          "output_type": "stream",
          "name": "stdout",
          "text": [
            "/bin/bash: line 1: lshw: command not found\n"
          ]
        }
      ]
    },
    {
      "cell_type": "markdown",
      "source": [
        "### 8. Try out different activation functions. Which one works best?"
      ],
      "metadata": {
        "id": "_qiZeuTLAuaK"
      },
      "id": "_qiZeuTLAuaK"
    },
    {
      "cell_type": "markdown",
      "source": [
        "Tạo 1 data set nhẹ hơn"
      ],
      "metadata": {
        "id": "upzJ6B9cB1OU"
      },
      "id": "upzJ6B9cB1OU"
    },
    {
      "cell_type": "code",
      "source": [
        "# Dataset\n",
        "transform = transforms.ToTensor()\n",
        "train_data = datasets.FashionMNIST(root=\"./data\", train=True, download=True, transform=transform)\n",
        "test_data = datasets.FashionMNIST(root=\"./data\", train=False, download=True, transform=transform)\n",
        "\n",
        "train_loader = DataLoader(train_data, batch_size=128, shuffle=True)\n",
        "test_loader = DataLoader(test_data, batch_size=128)"
      ],
      "metadata": {
        "id": "7YwJiH9nB0kr"
      },
      "id": "7YwJiH9nB0kr",
      "execution_count": 54,
      "outputs": []
    },
    {
      "cell_type": "markdown",
      "source": [
        "**Định nghĩa mạng MLP với activation linh hoạt**"
      ],
      "metadata": {
        "id": "-f99AG5XB3nd"
      },
      "id": "-f99AG5XB3nd"
    },
    {
      "cell_type": "code",
      "source": [
        "class MLP(nn.Module):\n",
        "    def __init__(self, activation_fn):\n",
        "        super().__init__()\n",
        "        self.flatten = nn.Flatten()\n",
        "        self.fc1 = nn.Linear(28 * 28, 256)\n",
        "        self.fc2 = nn.Linear(256, 128)\n",
        "        self.out = nn.Linear(128, 10)\n",
        "        self.activation = activation_fn\n",
        "\n",
        "    def forward(self, x):\n",
        "        x = self.flatten(x)\n",
        "        x = self.activation(self.fc1(x))\n",
        "        x = self.activation(self.fc2(x))\n",
        "        return self.out(x)\n"
      ],
      "metadata": {
        "id": "49nmpGC4B6I5"
      },
      "id": "49nmpGC4B6I5",
      "execution_count": 55,
      "outputs": []
    },
    {
      "cell_type": "markdown",
      "source": [
        "**train + test**"
      ],
      "metadata": {
        "id": "tUfDYLuwCAIx"
      },
      "id": "tUfDYLuwCAIx"
    },
    {
      "cell_type": "code",
      "source": [
        "def train_and_evaluate(activation_fn, name):\n",
        "    model = MLP(activation_fn).to(device)\n",
        "    criterion = nn.CrossEntropyLoss()\n",
        "    optimizer = torch.optim.Adam(model.parameters(), lr=0.001)\n",
        "\n",
        "    # Train\n",
        "    model.train()\n",
        "    for epoch in range(5):\n",
        "        for X, y in train_loader:\n",
        "            X, y = X.to(device), y.to(device)\n",
        "            optimizer.zero_grad()\n",
        "            y_hat = model(X)\n",
        "            loss = criterion(y_hat, y)\n",
        "            loss.backward()\n",
        "            optimizer.step()\n",
        "\n",
        "    # Evaluate\n",
        "    model.eval()\n",
        "    correct = total = 0\n",
        "    with torch.no_grad():\n",
        "        for X, y in test_loader:\n",
        "            X, y = X.to(device), y.to(device)\n",
        "            preds = model(X).argmax(dim=1)\n",
        "            correct += (preds == y).sum().item()\n",
        "            total += y.size(0)\n",
        "    acc = correct / total\n",
        "    print(f\"🔹 {name}: Accuracy = {acc:.4f}\")\n",
        "    return acc\n"
      ],
      "metadata": {
        "id": "9k4X7NUgCCFg"
      },
      "id": "9k4X7NUgCCFg",
      "execution_count": 60,
      "outputs": []
    },
    {
      "cell_type": "markdown",
      "source": [
        "**Chạy tất cả activation functions**\n",
        "\n",
        "Bao gồm:\n",
        "\n",
        "\n",
        "*   ReLU\n",
        "\n",
        "* Sigmoid\n",
        "\n",
        "* Tanh\n",
        "\n",
        "* Leaky ReLU\n",
        "\n",
        "* ELU\n",
        "\n",
        "\n"
      ],
      "metadata": {
        "id": "Fweocqe6CGeN"
      },
      "id": "Fweocqe6CGeN"
    },
    {
      "cell_type": "code",
      "source": [
        "import torch.nn.functional as F\n",
        "activations = {\n",
        "    \"ReLU\": F.relu,\n",
        "    \"Sigmoid\": torch.sigmoid,\n",
        "    \"Tanh\": torch.tanh,\n",
        "    \"LeakyReLU\": F.leaky_relu,\n",
        "    \"ELU\": F.elu\n",
        "}\n",
        "\n",
        "results = {}\n",
        "for name, act_fn in activations.items():\n",
        "    print(f\"\\n🚀 Testing activation: {name}\")\n",
        "    acc = train_and_evaluate(act_fn, name)\n",
        "    results[name] = acc\n",
        "\n",
        "# Tổng kết\n",
        "print(\"\\n📊 Kết quả tổng hợp:\")\n",
        "for name, acc in results.items():\n",
        "    print(f\"{name}: {acc:.4f}\")\n"
      ],
      "metadata": {
        "colab": {
          "base_uri": "https://localhost:8080/"
        },
        "id": "LNPzxH7tCGMy",
        "outputId": "9939b245-b149-4bca-80b1-3fc9be206c0a"
      },
      "id": "LNPzxH7tCGMy",
      "execution_count": 58,
      "outputs": [
        {
          "output_type": "stream",
          "name": "stdout",
          "text": [
            "\n",
            "🚀 Testing activation: ReLU\n",
            "🔹 ReLU: Accuracy = 0.8754\n",
            "\n",
            "🚀 Testing activation: Sigmoid\n",
            "🔹 Sigmoid: Accuracy = 0.8680\n",
            "\n",
            "🚀 Testing activation: Tanh\n",
            "🔹 Tanh: Accuracy = 0.8705\n",
            "\n",
            "🚀 Testing activation: LeakyReLU\n",
            "🔹 LeakyReLU: Accuracy = 0.8716\n",
            "\n",
            "🚀 Testing activation: ELU\n",
            "🔹 ELU: Accuracy = 0.8629\n",
            "\n",
            "📊 Kết quả tổng hợp:\n",
            "ReLU: 0.8754\n",
            "Sigmoid: 0.8680\n",
            "Tanh: 0.8705\n",
            "LeakyReLU: 0.8716\n",
            "ELU: 0.8629\n"
          ]
        }
      ]
    },
    {
      "cell_type": "markdown",
      "source": [
        "### 9. Is there a difference between weight initializations of the network? Does it matter?"
      ],
      "metadata": {
        "id": "Yad88GEdCmSX"
      },
      "id": "Yad88GEdCmSX"
    },
    {
      "cell_type": "markdown",
      "source": [
        "| Phương pháp         | Mô tả ngắn                   | Dùng tốt với         |\n",
        "| ------------------- | ---------------------------- | -------------------- |\n",
        "| **Random Normal**   | Trọng số từ phân phối chuẩn  | Cơ bản, dễ bị mất ổn |\n",
        "| **Xavier (Glorot)** | Cân bằng số chiều đầu vào/ra | `tanh`, `sigmoid`    |\n",
        "| **Kaiming (He)**    | Dành cho ReLU và biến thể    | `ReLU`, `LeakyReLU`  |\n",
        "| **Constant/Zero**   | Tệ — không học được gì       | ❌ Không dùng         |\n",
        "\n"
      ],
      "metadata": {
        "id": "vJSawr6mC2S0"
      },
      "id": "vJSawr6mC2S0"
    },
    {
      "cell_type": "code",
      "source": [
        "class MLP(nn.Module):\n",
        "    def __init__(self):\n",
        "        super().__init__()\n",
        "        self.net = nn.Sequential(\n",
        "            nn.Flatten(),\n",
        "            nn.Linear(784, 256),\n",
        "            nn.ReLU(),\n",
        "            nn.Linear(256, 10)\n",
        "        )\n",
        "    def forward(self, x): return self.net(x)\n",
        "\n",
        "# Hàm khởi tạo\n",
        "def init_weights(net, method):\n",
        "    for m in net.modules():\n",
        "        if isinstance(m, nn.Linear):\n",
        "            if method == 'xavier':\n",
        "                nn.init.xavier_uniform_(m.weight)\n",
        "            elif method == 'he':\n",
        "                nn.init.kaiming_uniform_(m.weight, nonlinearity='relu')\n",
        "            elif method == 'random':\n",
        "                nn.init.normal_(m.weight, mean=0, std=1)\n",
        "\n",
        "# Train & test nhanh\n",
        "def train_and_eval(init):\n",
        "    net = MLP()\n",
        "    init_weights(net, init)\n",
        "    net.to(\"cuda\")\n",
        "    loss = nn.CrossEntropyLoss()\n",
        "    optimizer = torch.optim.SGD(net.parameters(), lr=0.1)\n",
        "    for X, y in train_loader:\n",
        "        X, y = X.cuda(), y.cuda()\n",
        "        optimizer.zero_grad()\n",
        "        l = loss(net(X), y)\n",
        "        l.backward()\n",
        "        optimizer.step()\n",
        "        break  # chỉ 1 batch cho nhanh\n",
        "    # test nhanh\n",
        "    net.eval()\n",
        "    X, y = next(iter(test_loader))\n",
        "    acc = (net(X.cuda()).argmax(1) == y.cuda()).float().mean().item()\n",
        "    print(f\"{init} init → acc: {acc:.4f}\")\n",
        "\n",
        "# Thử các phương pháp\n",
        "for method in ['random', 'xavier', 'he']:\n",
        "    train_and_eval(method)"
      ],
      "metadata": {
        "colab": {
          "base_uri": "https://localhost:8080/"
        },
        "id": "z7nbJKDVET_G",
        "outputId": "00ca35ec-2541-402a-b846-2bdb37a2a7cc"
      },
      "id": "z7nbJKDVET_G",
      "execution_count": 59,
      "outputs": [
        {
          "output_type": "stream",
          "name": "stdout",
          "text": [
            "random init → acc: 0.1953\n",
            "xavier init → acc: 0.3750\n",
            "he init → acc: 0.2109\n"
          ]
        }
      ]
    },
    {
      "cell_type": "markdown",
      "source": [
        "Có sự khác biệt rõ rệt giữa các phương pháp khởi tạo trọng số trong mạng nơ-ron, và điều đó ảnh hưởng rất lớn đến hiệu suất học của mô hình. Việc khởi tạo trọng số là bước đầu tiên trong quá trình huấn luyện mạng, quyết định cách dữ liệu và gradient lan truyền trong mạng.\n",
        "\n",
        "Nếu khởi tạo không phù hợp, ví dụ như tất cả trọng số bằng 0 hoặc lấy ngẫu nhiên không kiểm soát, mô hình dễ gặp các vấn đề như mất gradient (vanishing gradients) hoặc gradient bùng nổ (exploding gradients), dẫn đến huấn luyện chậm hoặc không hội tụ.\n",
        "\n",
        "Ngược lại, các phương pháp khởi tạo như Xavier (Glorot) hoặc He (Kaiming) được thiết kế dựa trên đặc tính toán học của mạng để giúp tín hiệu lan truyền ổn định hơn trong quá trình huấn luyện. Cụ thể:\n",
        "\n",
        "Xavier phù hợp với activation như tanh hoặc sigmoid\n",
        "\n",
        "He phù hợp với ReLU và các biến thể của nó\n",
        "\n",
        "Vì vậy, khởi tạo trọng số đúng cách không chỉ giúp mô hình học nhanh hơn mà còn cải thiện độ chính xác và độ ổn định khi huấn luyện."
      ],
      "metadata": {
        "id": "sbqQxZl1FLSJ"
      },
      "id": "sbqQxZl1FLSJ"
    },
    {
      "cell_type": "markdown",
      "id": "60c1e284",
      "metadata": {
        "origin_pos": 33,
        "tab": [
          "pytorch"
        ],
        "id": "60c1e284"
      },
      "source": [
        "[Discussions](https://discuss.d2l.ai/t/93)\n"
      ]
    },
    {
      "cell_type": "code",
      "source": [],
      "metadata": {
        "id": "LVkGCJrC1jKq"
      },
      "id": "LVkGCJrC1jKq",
      "execution_count": null,
      "outputs": []
    }
  ],
  "metadata": {
    "kernelspec": {
      "display_name": "Python 3",
      "name": "python3"
    },
    "language_info": {
      "name": "python"
    },
    "required_libs": [],
    "colab": {
      "provenance": [],
      "gpuType": "T4",
      "include_colab_link": true
    },
    "accelerator": "GPU"
  },
  "nbformat": 4,
  "nbformat_minor": 5
}